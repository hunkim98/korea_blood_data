{
 "cells": [
  {
   "cell_type": "markdown",
   "metadata": {},
   "source": [
    "## Read the data"
   ]
  },
  {
   "cell_type": "code",
   "execution_count": 1,
   "metadata": {},
   "outputs": [],
   "source": [
    "import pandas as pd\n",
    "import numpy as np\n",
    "import json"
   ]
  },
  {
   "cell_type": "code",
   "execution_count": 2,
   "metadata": {},
   "outputs": [],
   "source": [
    "city_data = pd.read_csv('yearly_city_surgery.csv', encoding='EUC-KR')\n",
    "\n",
    "# lets drop row which does not have more than \"-\" in the \"Surgery\" column\n",
    "city_data = city_data[city_data['Surgery'].str.count(\"-\") >= 2]\n",
    "\n",
    "# Add \"Reference Surgery\" column to the dataframe with the str split\n",
    "city_data['Reference Surgery'] = city_data['Surgery'].str.split(\"-\").str[1]"
   ]
  },
  {
   "cell_type": "code",
   "execution_count": 3,
   "metadata": {},
   "outputs": [],
   "source": [
    "# get Monthly data where column \"Monthly\" is \"Total\"\n",
    "city_data_total = city_data[city_data['Hospital Location'] == 'Total']\n",
    "seoul_data = city_data[city_data['Hospital Location'] == 'Seoul']"
   ]
  },
  {
   "cell_type": "markdown",
   "metadata": {},
   "source": [
    "We need\n",
    "1. Central Seoul\n",
    "2. Western Seoul\n",
    "3. Eastern Seoul\n",
    "4. Southern Seoul\n",
    "5. Busan\n",
    "6. Daegu/Gyeongbuk\n",
    "7. Incheon\n",
    "8. Ulsan\n",
    "9. Gyeonggi\n",
    "10. Gangwon\n",
    "11. Chungbuk\n",
    "12. Daejeon/Chungnam\n",
    "13. Jeonbuk\n",
    "14. Jeonnam\n",
    "15. Gyeongnam\n",
    "16. Jeju"
   ]
  },
  {
   "cell_type": "code",
   "execution_count": 4,
   "metadata": {},
   "outputs": [
    {
     "name": "stdout",
     "output_type": "stream",
     "text": [
      "Total 198\n",
      "Seoul 198\n",
      "Busan 198\n",
      "Daegu 198\n",
      "Incheon 198\n",
      "Gwangju 198\n",
      "Daejeon 198\n",
      "Ulsan 198\n",
      "Sejong 198\n",
      "Gyeonggi 198\n",
      "Gangwon 198\n",
      "Chungbuk 198\n",
      "Chungnam 198\n",
      "Jeonbuk 198\n",
      "Jeonnam 198\n",
      "Gyeongbuk 198\n",
      "Gyeongnam 198\n",
      "Jeju 198\n"
     ]
    }
   ],
   "source": [
    "for city in city_data[\"Hospital Location\"].unique():\n",
    "    print(city, city_data[city_data['Hospital Location'] == city].shape[0])\n",
    "    # Seoul should be split into 4 (Central Seoul, Western Seoul, Eastern Seoul, Southern Seoul)\n",
    "    # Daegu, Gyeongbuk should be merged into Daegu/Gyeongbuk\n",
    "    # Sejong, Daejeon, Chungnam should be merged into Daejeon/Chungnam\n",
    "    # Gwangju, Jeonnam should be merged into Gwangju/Jeonnam\n"
   ]
  },
  {
   "cell_type": "code",
   "execution_count": 5,
   "metadata": {},
   "outputs": [
    {
     "name": "stdout",
     "output_type": "stream",
     "text": [
      "198 198\n",
      "['Total' 'Seoul' 'Busan' 'Incheon' 'Gwangju' 'Daejeon' 'Ulsan' 'Sejong'\n",
      " 'Gyeonggi' 'Gangwon' 'Chungbuk' 'Chungnam' 'Jeonbuk' 'Jeonnam'\n",
      " 'Gyeongnam' 'Jeju' 'Daegu/Gyeongbuk']\n",
      "198\n"
     ]
    }
   ],
   "source": [
    "# Merge Daegu, Gyeongbuk\n",
    "daegu = city_data[city_data['Hospital Location'] == 'Daegu']\n",
    "gyeongbuk = city_data[city_data['Hospital Location'] == 'Gyeongbuk']\n",
    "\n",
    "print(daegu.shape[0], gyeongbuk.shape[0])\n",
    "\n",
    "# just add the two dataframes for column 2006 ~ 2022\n",
    "daegu_gyeongbuk = daegu.copy()\n",
    "\n",
    "\n",
    "# describe\n",
    "# print(daegu.describe())\n",
    "for i in range(2006, 2023):\n",
    "    new_daegu = daegu[str(i)].copy()\n",
    "    new_gyeongbuk = gyeongbuk[str(i)].copy()\n",
    "\n",
    "    new_daegu = new_daegu.replace(\"-\", 0)\n",
    "    new_gyeongbuk = new_gyeongbuk.replace(\"-\", 0)\n",
    "    new_daegu = new_daegu.fillna(0)\n",
    "    new_gyeongbuk = new_gyeongbuk.fillna(0)\n",
    "\n",
    "\n",
    "    new_daegu = new_daegu.astype(int)\n",
    "    new_gyeongbuk = new_gyeongbuk.astype(int)\n",
    "\n",
    "    daegu_gyeongbuk[str(i)] = np.array(new_daegu) + np.array(new_gyeongbuk)\n",
    "\n",
    "# drop the old daegu and gyeongbuk\n",
    "\n",
    "city_data = city_data[city_data['Hospital Location'] != 'Daegu']\n",
    "city_data = city_data[city_data['Hospital Location'] != 'Gyeongbuk']\n",
    "\n",
    "daegu_gyeongbuk['Hospital Location'] = 'Daegu/Gyeongbuk'\n",
    "\n",
    "# city_data = city_data.merge(daegu_gyeongbuk, how='outer')\n",
    "\n",
    "if 'Daegu/Gyeongbuk' not in city_data['Hospital Location'].unique():\n",
    "    city_data = pd.concat([city_data, daegu_gyeongbuk], ignore_index=True)\n",
    "\n",
    "daegu_gyeongbuk.head()\n",
    "\n",
    "daegu_gyeongbuk.describe()\n",
    "\n",
    "print(city_data['Hospital Location'].unique())\n",
    "print(city_data[city_data['Hospital Location'] == 'Daegu/Gyeongbuk'].shape[0])"
   ]
  },
  {
   "cell_type": "code",
   "execution_count": 6,
   "metadata": {},
   "outputs": [
    {
     "name": "stdout",
     "output_type": "stream",
     "text": [
      "198 198 198\n",
      "['Total' 'Seoul' 'Busan' 'Incheon' 'Gwangju' 'Ulsan' 'Gyeonggi' 'Gangwon'\n",
      " 'Chungbuk' 'Jeonbuk' 'Jeonnam' 'Gyeongnam' 'Jeju' 'Daegu/Gyeongbuk'\n",
      " 'Daejeon/Chungnam']\n"
     ]
    },
    {
     "data": {
      "text/html": [
       "<div>\n",
       "<style scoped>\n",
       "    .dataframe tbody tr th:only-of-type {\n",
       "        vertical-align: middle;\n",
       "    }\n",
       "\n",
       "    .dataframe tbody tr th {\n",
       "        vertical-align: top;\n",
       "    }\n",
       "\n",
       "    .dataframe thead th {\n",
       "        text-align: right;\n",
       "    }\n",
       "</style>\n",
       "<table border=\"1\" class=\"dataframe\">\n",
       "  <thead>\n",
       "    <tr style=\"text-align: right;\">\n",
       "      <th></th>\n",
       "      <th>Hospital Location</th>\n",
       "      <th>Insurance</th>\n",
       "      <th>Surgery</th>\n",
       "      <th>Category</th>\n",
       "      <th>Unit</th>\n",
       "      <th>2006</th>\n",
       "      <th>2007</th>\n",
       "      <th>2008</th>\n",
       "      <th>2009</th>\n",
       "      <th>2010</th>\n",
       "      <th>...</th>\n",
       "      <th>2015</th>\n",
       "      <th>2016</th>\n",
       "      <th>2017</th>\n",
       "      <th>2018</th>\n",
       "      <th>2019</th>\n",
       "      <th>2020</th>\n",
       "      <th>2021</th>\n",
       "      <th>2022</th>\n",
       "      <th>Unnamed: 22</th>\n",
       "      <th>Reference Surgery</th>\n",
       "    </tr>\n",
       "  </thead>\n",
       "  <tbody>\n",
       "    <tr>\n",
       "      <th>990</th>\n",
       "      <td>Daejeon/Chungnam</td>\n",
       "      <td>Total</td>\n",
       "      <td>Tonsillectomy - Bilateral thyroidectomy - 편도절제...</td>\n",
       "      <td>Surgery Received Person[Person]</td>\n",
       "      <td>Person</td>\n",
       "      <td>2717</td>\n",
       "      <td>2674</td>\n",
       "      <td>2458</td>\n",
       "      <td>2635</td>\n",
       "      <td>2561</td>\n",
       "      <td>...</td>\n",
       "      <td>2244</td>\n",
       "      <td>2566</td>\n",
       "      <td>2997</td>\n",
       "      <td>2799</td>\n",
       "      <td>2892</td>\n",
       "      <td>2161</td>\n",
       "      <td>1535</td>\n",
       "      <td>1268</td>\n",
       "      <td>NaN</td>\n",
       "      <td>Bilateral thyroidectomy</td>\n",
       "    </tr>\n",
       "    <tr>\n",
       "      <th>991</th>\n",
       "      <td>Daejeon/Chungnam</td>\n",
       "      <td>Total</td>\n",
       "      <td>Tonsillectomy - Bilateral thyroidectomy - 편도절제...</td>\n",
       "      <td>Surgery Count[Unit]</td>\n",
       "      <td>Surgery</td>\n",
       "      <td>2736</td>\n",
       "      <td>2691</td>\n",
       "      <td>2470</td>\n",
       "      <td>2656</td>\n",
       "      <td>2575</td>\n",
       "      <td>...</td>\n",
       "      <td>2253</td>\n",
       "      <td>2583</td>\n",
       "      <td>3052</td>\n",
       "      <td>2823</td>\n",
       "      <td>2906</td>\n",
       "      <td>2208</td>\n",
       "      <td>1573</td>\n",
       "      <td>1290</td>\n",
       "      <td>NaN</td>\n",
       "      <td>Bilateral thyroidectomy</td>\n",
       "    </tr>\n",
       "    <tr>\n",
       "      <th>992</th>\n",
       "      <td>Daejeon/Chungnam</td>\n",
       "      <td>Total</td>\n",
       "      <td>PCI(Percutaneous Coronary Intervention)/PTCA -...</td>\n",
       "      <td>Surgery Received Person[Person]</td>\n",
       "      <td>Person</td>\n",
       "      <td>340</td>\n",
       "      <td>397</td>\n",
       "      <td>442</td>\n",
       "      <td>460</td>\n",
       "      <td>540</td>\n",
       "      <td>...</td>\n",
       "      <td>544</td>\n",
       "      <td>505</td>\n",
       "      <td>514</td>\n",
       "      <td>624</td>\n",
       "      <td>658</td>\n",
       "      <td>574</td>\n",
       "      <td>677</td>\n",
       "      <td>707</td>\n",
       "      <td>NaN</td>\n",
       "      <td>Aortic valve replacement</td>\n",
       "    </tr>\n",
       "    <tr>\n",
       "      <th>993</th>\n",
       "      <td>Daejeon/Chungnam</td>\n",
       "      <td>Total</td>\n",
       "      <td>PCI(Percutaneous Coronary Intervention)/PTCA -...</td>\n",
       "      <td>Surgery Count[Unit]</td>\n",
       "      <td>Surgery</td>\n",
       "      <td>349</td>\n",
       "      <td>409</td>\n",
       "      <td>453</td>\n",
       "      <td>468</td>\n",
       "      <td>551</td>\n",
       "      <td>...</td>\n",
       "      <td>552</td>\n",
       "      <td>515</td>\n",
       "      <td>528</td>\n",
       "      <td>634</td>\n",
       "      <td>676</td>\n",
       "      <td>594</td>\n",
       "      <td>714</td>\n",
       "      <td>752</td>\n",
       "      <td>NaN</td>\n",
       "      <td>Aortic valve replacement</td>\n",
       "    </tr>\n",
       "    <tr>\n",
       "      <th>994</th>\n",
       "      <td>Daejeon/Chungnam</td>\n",
       "      <td>Total</td>\n",
       "      <td>Stent Insertion - Aortic valve replacement - 스...</td>\n",
       "      <td>Surgery Received Person[Person]</td>\n",
       "      <td>Person</td>\n",
       "      <td>2691</td>\n",
       "      <td>2682</td>\n",
       "      <td>2993</td>\n",
       "      <td>3515</td>\n",
       "      <td>4111</td>\n",
       "      <td>...</td>\n",
       "      <td>3844</td>\n",
       "      <td>4258</td>\n",
       "      <td>4741</td>\n",
       "      <td>4952</td>\n",
       "      <td>5036</td>\n",
       "      <td>4784</td>\n",
       "      <td>5127</td>\n",
       "      <td>4961</td>\n",
       "      <td>NaN</td>\n",
       "      <td>Aortic valve replacement</td>\n",
       "    </tr>\n",
       "  </tbody>\n",
       "</table>\n",
       "<p>5 rows × 24 columns</p>\n",
       "</div>"
      ],
      "text/plain": [
       "    Hospital Location Insurance  \\\n",
       "990  Daejeon/Chungnam     Total   \n",
       "991  Daejeon/Chungnam     Total   \n",
       "992  Daejeon/Chungnam     Total   \n",
       "993  Daejeon/Chungnam     Total   \n",
       "994  Daejeon/Chungnam     Total   \n",
       "\n",
       "                                               Surgery  \\\n",
       "990  Tonsillectomy - Bilateral thyroidectomy - 편도절제...   \n",
       "991  Tonsillectomy - Bilateral thyroidectomy - 편도절제...   \n",
       "992  PCI(Percutaneous Coronary Intervention)/PTCA -...   \n",
       "993  PCI(Percutaneous Coronary Intervention)/PTCA -...   \n",
       "994  Stent Insertion - Aortic valve replacement - 스...   \n",
       "\n",
       "                            Category     Unit  2006  2007  2008  2009  2010  \\\n",
       "990  Surgery Received Person[Person]   Person  2717  2674  2458  2635  2561   \n",
       "991              Surgery Count[Unit]  Surgery  2736  2691  2470  2656  2575   \n",
       "992  Surgery Received Person[Person]   Person   340   397   442   460   540   \n",
       "993              Surgery Count[Unit]  Surgery   349   409   453   468   551   \n",
       "994  Surgery Received Person[Person]   Person  2691  2682  2993  3515  4111   \n",
       "\n",
       "     ...  2015  2016  2017  2018  2019  2020  2021  2022  Unnamed: 22  \\\n",
       "990  ...  2244  2566  2997  2799  2892  2161  1535  1268          NaN   \n",
       "991  ...  2253  2583  3052  2823  2906  2208  1573  1290          NaN   \n",
       "992  ...   544   505   514   624   658   574   677   707          NaN   \n",
       "993  ...   552   515   528   634   676   594   714   752          NaN   \n",
       "994  ...  3844  4258  4741  4952  5036  4784  5127  4961          NaN   \n",
       "\n",
       "              Reference Surgery  \n",
       "990    Bilateral thyroidectomy   \n",
       "991    Bilateral thyroidectomy   \n",
       "992   Aortic valve replacement   \n",
       "993   Aortic valve replacement   \n",
       "994   Aortic valve replacement   \n",
       "\n",
       "[5 rows x 24 columns]"
      ]
     },
     "execution_count": 6,
     "metadata": {},
     "output_type": "execute_result"
    }
   ],
   "source": [
    "# Sejong, Daejeon, Chungnam should be merged into Daejeon/Chungnam\n",
    "sejong = city_data[city_data['Hospital Location'] == 'Sejong']\n",
    "daejeon = city_data[city_data['Hospital Location'] == 'Daejeon']\n",
    "chungnam = city_data[city_data['Hospital Location'] == 'Chungnam']\n",
    "\n",
    "print(sejong.shape[0], daejeon.shape[0], chungnam.shape[0])\n",
    "\n",
    "# just add the three dataframes for column 2006 ~ 2022\n",
    "daejeon_chungnam = daejeon.copy()\n",
    "\n",
    "for i in range(2006, 2023):\n",
    "    new_sejong = sejong[str(i)].copy()\n",
    "    new_daejeon = daejeon[str(i)].copy()\n",
    "    new_chungnam = chungnam[str(i)].copy()\n",
    "\n",
    "    new_sejong = new_sejong.replace(\"-\", 0)\n",
    "    new_daejeon = new_daejeon.replace(\"-\", 0)\n",
    "    new_chungnam = new_chungnam.replace(\"-\", 0)\n",
    "\n",
    "    new_sejong = new_sejong.fillna(0)\n",
    "    new_daejeon = new_daejeon.fillna(0)\n",
    "    new_chungnam = new_chungnam.fillna(0)\n",
    "\n",
    "    new_sejong = new_sejong.astype(int)\n",
    "    new_daejeon = new_daejeon.astype(int)\n",
    "    new_chungnam = new_chungnam.astype(int)\n",
    "\n",
    "    daejeon_chungnam[str(i)] = np.array(new_sejong) + np.array(new_daejeon) + np.array(new_chungnam)\n",
    "\n",
    "# drop the old sejong, daejeon, chungnam\n",
    "city_data = city_data[city_data['Hospital Location'] != 'Sejong']\n",
    "city_data = city_data[city_data['Hospital Location'] != 'Daejeon']\n",
    "city_data = city_data[city_data['Hospital Location'] != 'Chungnam']\n",
    "daejeon_chungnam['Hospital Location'] = 'Daejeon/Chungnam'\n",
    "\n",
    "if 'Daejeon/Chungnam' not in city_data['Hospital Location'].unique():\n",
    "    city_data = pd.concat([city_data, daejeon_chungnam], ignore_index=True)\n",
    "\n",
    "print(city_data['Hospital Location'].unique())\n",
    "daejeon_chungnam.head()"
   ]
  },
  {
   "cell_type": "code",
   "execution_count": 7,
   "metadata": {},
   "outputs": [
    {
     "name": "stdout",
     "output_type": "stream",
     "text": [
      "198 198\n"
     ]
    },
    {
     "data": {
      "text/plain": [
       "array(['Total', 'Seoul', 'Busan', 'Incheon', 'Ulsan', 'Gyeonggi',\n",
       "       'Gangwon', 'Chungbuk', 'Jeonbuk', 'Gyeongnam', 'Jeju',\n",
       "       'Daegu/Gyeongbuk', 'Daejeon/Chungnam', 'Jeonnam'], dtype=object)"
      ]
     },
     "execution_count": 7,
     "metadata": {},
     "output_type": "execute_result"
    }
   ],
   "source": [
    "# Gwangju, Jeonnam should be merged into Gwangju/Jeonnam\n",
    "gwangju = city_data[city_data['Hospital Location'] == 'Gwangju']\n",
    "jeonnam = city_data[city_data['Hospital Location'] == 'Jeonnam']\n",
    "\n",
    "print(gwangju.shape[0], jeonnam.shape[0])\n",
    "\n",
    "# just add the two dataframes for column 2006 ~ 2022\n",
    "gwangju_jeonnam = gwangju.copy()\n",
    "\n",
    "for i in range(2006, 2023):\n",
    "    new_gwangju = gwangju[str(i)].copy()\n",
    "    new_jeonnam = jeonnam[str(i)].copy()\n",
    "\n",
    "    new_gwangju = new_gwangju.replace(\"-\", 0)\n",
    "    new_jeonnam = new_jeonnam.replace(\"-\", 0)\n",
    "\n",
    "    new_gwangju = new_gwangju.fillna(0)\n",
    "    new_jeonnam = new_jeonnam.fillna(0)\n",
    "\n",
    "    new_gwangju = new_gwangju.astype(int)\n",
    "    new_jeonnam = new_jeonnam.astype(int)\n",
    "\n",
    "    gwangju_jeonnam[str(i)] = np.array(new_gwangju) + np.array(new_jeonnam)\n",
    "\n",
    "city_data = city_data[city_data['Hospital Location'] != 'Gwangju']\n",
    "city_data = city_data[city_data['Hospital Location'] != 'Jeonnam']\n",
    "\n",
    "gwangju_jeonnam['Hospital Location'] = 'Jeonnam'\n",
    "\n",
    "if 'Jeonnam' not in city_data['Hospital Location'].unique():\n",
    "    city_data = pd.concat([city_data, gwangju_jeonnam], ignore_index=True)\n",
    "    \n",
    "city_data['Hospital Location'].unique()"
   ]
  },
  {
   "cell_type": "code",
   "execution_count": 8,
   "metadata": {},
   "outputs": [
    {
     "name": "stdout",
     "output_type": "stream",
     "text": [
      "198\n"
     ]
    }
   ],
   "source": [
    "# split Seoul into 4\n",
    "seoul = city_data[city_data['Hospital Location'] == 'Seoul']\n",
    "\n",
    "print(seoul.shape[0])\n",
    "\n",
    "# just add the two dataframes for column 2006 ~ 2022\n",
    "\n",
    "seoul_central = seoul.copy()\n",
    "seoul_southern = seoul.copy()\n",
    "seoul_eastern = seoul.copy()\n",
    "seoul_western = seoul.copy()\n",
    "\n",
    "for i in range(2006, 2023):\n",
    "    new_seoul = seoul[str(i)].copy()\n",
    "\n",
    "    new_seoul = new_seoul.replace(\"-\", 0)\n",
    "    new_seoul = new_seoul.fillna(0)\n",
    "    new_seoul = new_seoul.astype(int)\n",
    "\n",
    "    # divide seoul into 4\n",
    "    new_seoul = new_seoul / 4\n",
    "\n",
    "    seoul_central[str(i)] = new_seoul\n",
    "    seoul_southern[str(i)] = new_seoul\n",
    "    seoul_eastern[str(i)] = new_seoul\n",
    "    seoul_western[str(i)] = new_seoul\n",
    "\n",
    "seoul_central['Hospital Location'] = 'Central Seoul'\n",
    "seoul_southern['Hospital Location'] = 'Southern Seoul'\n",
    "seoul_eastern['Hospital Location'] = 'Eastern Seoul'\n",
    "seoul_western['Hospital Location'] = 'Western Seoul'\n",
    "\n",
    "city_data = city_data[city_data['Hospital Location'] != 'Seoul']\n",
    "\n",
    "if 'Central Seoul' not in city_data['Hospital Location'].unique():\n",
    "    city_data = pd.concat([city_data, seoul_central], ignore_index=True)\n",
    "\n",
    "if 'Southern Seoul' not in city_data['Hospital Location'].unique():\n",
    "    city_data = pd.concat([city_data, seoul_southern], ignore_index=True)\n",
    "\n",
    "if 'Eastern Seoul' not in city_data['Hospital Location'].unique():\n",
    "    city_data = pd.concat([city_data, seoul_eastern], ignore_index=True)\n",
    "\n",
    "if 'Western Seoul' not in city_data['Hospital Location'].unique():\n",
    "    city_data = pd.concat([city_data, seoul_western], ignore_index=True)\n",
    "    "
   ]
  },
  {
   "cell_type": "code",
   "execution_count": 9,
   "metadata": {},
   "outputs": [
    {
     "name": "stdout",
     "output_type": "stream",
     "text": [
      "['Total' 'Busan' 'Incheon' 'Ulsan' 'Gyeonggi' 'Gangwon' 'Chungbuk'\n",
      " 'Jeonbuk' 'Gyeongnam' 'Jeju' 'Daegu/Gyeongbuk' 'Daejeon/Chungnam'\n",
      " 'Jeonnam' 'Central Seoul' 'Southern Seoul' 'Eastern Seoul'\n",
      " 'Western Seoul']\n",
      "set()\n"
     ]
    }
   ],
   "source": [
    "print(city_data['Hospital Location'].unique())\n",
    "\n",
    "valid_keys = [\n",
    "    \"Central Seoul\",\n",
    "    \"Western Seoul\",\n",
    "    \"Eastern Seoul\",\n",
    "    \"Southern Seoul\",\n",
    "    \"Busan\",\n",
    "    \"Daegu/Gyeongbuk\",\n",
    "    \"Incheon\",\n",
    "    \"Ulsan\",\n",
    "    \"Gyeonggi\",\n",
    "    \"Gangwon\",\n",
    "    \"Chungbuk\",\n",
    "    \"Daejeon/Chungnam\",\n",
    "    \"Jeonbuk\",\n",
    "    \"Jeonnam\",\n",
    "    \"Gyeongnam\",\n",
    "    \"Jeju\"\n",
    "]\n",
    "\n",
    "\n",
    "print(set(valid_keys) - set(city_data['Hospital Location'].unique()))\n"
   ]
  },
  {
   "cell_type": "code",
   "execution_count": 10,
   "metadata": {},
   "outputs": [],
   "source": [
    "blood_demand_per_patient = {}\n",
    "\n",
    "operation_blood_data = pd.read_csv('operation_blood_demand.csv')\n",
    "\n",
    "for index, row in operation_blood_data.iterrows():\n",
    "    if row[\"Transfused patients No.\"] != 0:\n",
    "        blood_demand_per_patient[row[\"Operation\"].lower()] = row[\"Total units transfused\"] / row[\"Transfused patients No.\"]"
   ]
  },
  {
   "cell_type": "code",
   "execution_count": 11,
   "metadata": {},
   "outputs": [],
   "source": [
    "blood_demand_per_patient\n",
    "\n",
    "# save as json\n",
    "with open('blood_demand_per_patient.json', 'w') as f:\n",
    "    json.dump(blood_demand_per_patient, f)"
   ]
  },
  {
   "cell_type": "code",
   "execution_count": 12,
   "metadata": {},
   "outputs": [
    {
     "data": {
      "text/plain": [
       "0         Bilateral thyroidectomy \n",
       "1         Bilateral thyroidectomy \n",
       "2        Aortic valve replacement \n",
       "3        Aortic valve replacement \n",
       "4        Aortic valve replacement \n",
       "                   ...            \n",
       "3361      Bilateral thyroidectomy \n",
       "3362      Bilateral thyroidectomy \n",
       "3363      Bilateral thyroidectomy \n",
       "3364        Liver transplantation \n",
       "3365        Liver transplantation \n",
       "Name: Reference Surgery, Length: 3366, dtype: object"
      ]
     },
     "execution_count": 12,
     "metadata": {},
     "output_type": "execute_result"
    }
   ],
   "source": [
    "city_data[\"Reference Surgery\"]"
   ]
  },
  {
   "cell_type": "markdown",
   "metadata": {},
   "source": [
    "Check if everything is allright"
   ]
  },
  {
   "cell_type": "code",
   "execution_count": 13,
   "metadata": {},
   "outputs": [
    {
     "data": {
      "text/plain": [
       "set()"
      ]
     },
     "execution_count": 13,
     "metadata": {},
     "output_type": "execute_result"
    }
   ],
   "source": [
    "set(city_data_total[\"Reference Surgery\"].values) - set(seoul_data[\"Reference Surgery\"].values)"
   ]
  },
  {
   "cell_type": "code",
   "execution_count": 14,
   "metadata": {},
   "outputs": [
    {
     "name": "stdout",
     "output_type": "stream",
     "text": [
      "['Total' 'Medical Insurance' 'Medical Benefit']\n",
      "['Total']\n",
      "['Total' 'Busan' 'Incheon' 'Ulsan' 'Gyeonggi' 'Gangwon' 'Chungbuk'\n",
      " 'Jeonbuk' 'Gyeongnam' 'Jeju' 'Daegu/Gyeongbuk' 'Daejeon/Chungnam'\n",
      " 'Jeonnam' 'Central Seoul' 'Southern Seoul' 'Eastern Seoul'\n",
      " 'Western Seoul']\n",
      "Index(['Hospital Location', 'Insurance', 'Surgery', 'Category', 'Unit', '2006',\n",
      "       '2007', '2008', '2009', '2010', '2011', '2012', '2013', '2014', '2015',\n",
      "       '2016', '2017', '2018', '2019', '2020', '2021', '2022', 'Unnamed: 22',\n",
      "       'Reference Surgery'],\n",
      "      dtype='object')\n"
     ]
    }
   ],
   "source": [
    "# Get only Insurance Total\n",
    "print(city_data['Insurance'].unique())\n",
    "city_data = city_data[city_data['Insurance'] == 'Total']\n",
    "print(city_data['Insurance'].unique())\n",
    "\n",
    "print(city_data[\"Hospital Location\"].unique())\n",
    "\n",
    "print(city_data.columns)"
   ]
  },
  {
   "cell_type": "code",
   "execution_count": 23,
   "metadata": {},
   "outputs": [
    {
     "name": "stdout",
     "output_type": "stream",
     "text": [
      "33\n",
      "33\n",
      "33\n",
      "33\n",
      "33\n",
      "33\n",
      "33\n",
      "33\n",
      "33\n",
      "33\n",
      "33\n",
      "33\n"
     ]
    }
   ],
   "source": [
    "# we have to separate the values into mock monthly data\n",
    "monthly_data = pd.read_csv(\"monthly_surgery.csv\", encoding='EUC-KR')\n",
    "# lets drop row which does not have more than \"-\" in the \"Surgery\" column\n",
    "monthly_data = monthly_data[monthly_data['Surgery'].str.count(\"-\") >= 2]\n",
    "\n",
    "# Add \"Reference Surgery\" column to the dataframe with the str split\n",
    "monthly_data['Reference Surgery'] = monthly_data['Surgery'].str.split(\"-\").str[1]\n",
    "monthly_data = monthly_data[monthly_data[\"Unit\"] == \"Person\"]\n",
    "\n",
    "monthly_data[\"Monthly\"].unique()\n",
    "print(len(monthly_data[monthly_data[\"Monthly\"] == \"January\"]))\n",
    "print(len(monthly_data[monthly_data[\"Monthly\"] == \"February\"]))\n",
    "print(len(monthly_data[monthly_data[\"Monthly\"] == \"March\"]))\n",
    "print(len(monthly_data[monthly_data[\"Monthly\"] == \"April\"]))\n",
    "print(len(monthly_data[monthly_data[\"Monthly\"] == \"May\"]))\n",
    "print(len(monthly_data[monthly_data[\"Monthly\"] == \"June\"]))\n",
    "print(len(monthly_data[monthly_data[\"Monthly\"] == \"July\"]))\n",
    "print(len(monthly_data[monthly_data[\"Monthly\"] == \"August\"]))\n",
    "print(len(monthly_data[monthly_data[\"Monthly\"] == \"September\"]))\n",
    "print(len(monthly_data[monthly_data[\"Monthly\"] == \"October\"]))\n",
    "print(len(monthly_data[monthly_data[\"Monthly\"] == \"November\"]))\n",
    "print(len(monthly_data[monthly_data[\"Monthly\"] == \"December\"]))\n"
   ]
  },
  {
   "cell_type": "code",
   "execution_count": 49,
   "metadata": {},
   "outputs": [
    {
     "name": "stdout",
     "output_type": "stream",
     "text": [
      "[' Bilateral thyroidectomy ' ' Aortic valve replacement '\n",
      " ' Graft replacement of Aorta ' ' PDA ligation '\n",
      " ' Exploratory Laparotomy ' ' Laparoscopic cholecystectomy '\n",
      " ' Pylorus preserving pancreaticoduodenectomy ' ' Exploratory laparotomy '\n",
      " ' Transurethral resection of prostate ' ' Prostatectomy '\n",
      " ' Total abdominal hysterectomy ' ' Low cervical cesarean section '\n",
      " ' Total hip replacement ' ' Total knee replacement ' ' Mastectomy '\n",
      " ' Craniotomy and removal of brain tumor ' ' Total gastrectomy '\n",
      " ' Wedge resection of liver ' ' Lobectomy of liver ' ' Laminectomy '\n",
      " ' Liver transplantation ']\n"
     ]
    }
   ],
   "source": [
    "month_key = \"January\"\n",
    "\n",
    "# get Monthly data and get reference surgery patient count per year\n",
    "current_month_data = monthly_data[monthly_data[\"Monthly\"] == month_key]\n",
    "\n",
    "print(current_month_data[\"Reference Surgery\"].unique())\n",
    "\n",
    "surgeries = current_month_data[\"Reference Surgery\"].unique()\n",
    "years = [str(i) for i in range(2006, 2023)]\n",
    "\n",
    "# new dataframe columns: \"Month\", \"Surgery\", \"2006 ~ 2022\"\n",
    "\n",
    "df_dict = {\n",
    "    \"Year\": [],\n",
    "    \"Month\": [],\n",
    "    \"Month_Number\": [],\n",
    "    \"Surgery\": [],\n",
    "    \"Patients\": []\n",
    "}\n",
    "\n",
    "months = [\"January\", \"February\", \"March\", \"April\", \"May\", \"June\", \"July\", \"August\", \"September\", \"October\", \"November\", \"December\"]\n",
    "\n",
    "\n",
    "for surgery in surgeries:\n",
    "    # print(year, surgery)\n",
    "    surgery_data = current_month_data[current_month_data[\"Reference Surgery\"] == surgery]\n",
    "    for year in years:\n",
    "        # find data where column is year and Unit is Person\n",
    "        for month in months:\n",
    "            surgery_data_year = surgery_data[surgery_data[\"Unit\"] == \"Person\"]\n",
    "            surgery_data_year = surgery_data_year[surgery_data_year[\"Monthly\"] == month]\n",
    "            surgery_data_year[year] = surgery_data_year[year].replace(\"-\", 0)\n",
    "            surgery_data_year[year] = surgery_data_year[year].fillna(0)\n",
    "            patient_cnt = surgery_data_year[year].values.sum()\n",
    "            df_dict[\"Year\"].append(year)\n",
    "            df_dict[\"Month\"].append(month)\n",
    "            df_dict[\"Month_Number\"].append(months.index(month) + 1)\n",
    "            df_dict[\"Surgery\"].append(surgery)\n",
    "            df_dict[\"Patients\"].append(patient_cnt)\n",
    "\n",
    "monthly_national_surgery_df = pd.DataFrame(df_dict)\n",
    "monthly_national_surgery_df.head()\n",
    "monthly_national_surgery_df.to_csv(\"monthly_national_surgery.csv\", index=False)"
   ]
  },
  {
   "cell_type": "code",
   "execution_count": null,
   "metadata": {},
   "outputs": [],
   "source": []
  }
 ],
 "metadata": {
  "kernelspec": {
   "display_name": ".venv",
   "language": "python",
   "name": "python3"
  },
  "language_info": {
   "codemirror_mode": {
    "name": "ipython",
    "version": 3
   },
   "file_extension": ".py",
   "mimetype": "text/x-python",
   "name": "python",
   "nbconvert_exporter": "python",
   "pygments_lexer": "ipython3",
   "version": "3.10.11"
  }
 },
 "nbformat": 4,
 "nbformat_minor": 2
}
