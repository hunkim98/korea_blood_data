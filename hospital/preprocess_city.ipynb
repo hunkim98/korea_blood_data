{
 "cells": [
  {
   "cell_type": "markdown",
   "metadata": {},
   "source": [
    "## Read the data"
   ]
  },
  {
   "cell_type": "code",
   "execution_count": 10,
   "metadata": {},
   "outputs": [],
   "source": [
    "import pandas as pd\n",
    "import numpy as np\n",
    "import json"
   ]
  },
  {
   "cell_type": "code",
   "execution_count": 11,
   "metadata": {},
   "outputs": [],
   "source": [
    "city_data = pd.read_csv('yearly_city_surgery.csv', encoding='EUC-KR')\n",
    "\n",
    "# lets drop row which does not have more than \"-\" in the \"Surgery\" column\n",
    "city_data = city_data[city_data['Surgery'].str.count(\"-\") >= 2]\n",
    "\n",
    "# Add \"Reference Surgery\" column to the dataframe with the str split\n",
    "city_data['Reference Surgery'] = city_data['Surgery'].str.split(\"-\").str[1]"
   ]
  },
  {
   "cell_type": "code",
   "execution_count": 12,
   "metadata": {},
   "outputs": [],
   "source": [
    "# get Monthly data where column \"Monthly\" is \"Total\"\n",
    "city_data_total = city_data[city_data['Hospital Location'] == 'Total']"
   ]
  },
  {
   "cell_type": "code",
   "execution_count": 13,
   "metadata": {},
   "outputs": [
    {
     "name": "stdout",
     "output_type": "stream",
     "text": [
      "Total 132\n",
      "Seoul 132\n",
      "Busan 132\n",
      "Daegu 132\n",
      "Incheon 132\n",
      "Gwangju 132\n",
      "Daejeon 132\n",
      "Ulsan 132\n",
      "Sejong 132\n",
      "Gyeonggi 132\n",
      "Gangwon 132\n",
      "Chungbook 132\n",
      "Chungnaam 132\n",
      "Jeonbook 132\n",
      "Jeonnaam 132\n",
      "Gyeongbook 132\n",
      "Gyeongnaam 132\n",
      "Jeju 132\n"
     ]
    }
   ],
   "source": [
    "for city in city_data[\"Hospital Location\"].unique():\n",
    "    print(city, city_data[city_data['Hospital Location'] == city].shape[0])"
   ]
  },
  {
   "cell_type": "code",
   "execution_count": 14,
   "metadata": {},
   "outputs": [],
   "source": [
    "blood_demand_per_patient = {}\n",
    "\n",
    "operation_blood_data = pd.read_csv('operation_blood_demand.csv')\n",
    "\n",
    "for index, row in operation_blood_data.iterrows():\n",
    "    if row[\"Transfused patients No.\"] != 0:\n",
    "        blood_demand_per_patient[row[\"Operation\"].lower()] = row[\"Total units transfused\"] / row[\"Transfused patients No.\"]"
   ]
  },
  {
   "cell_type": "code",
   "execution_count": 15,
   "metadata": {},
   "outputs": [],
   "source": [
    "blood_demand_per_patient\n",
    "\n",
    "# save as json\n",
    "with open('blood_demand_per_patient.json', 'w') as f:\n",
    "    json.dump(blood_demand_per_patient, f)"
   ]
  },
  {
   "cell_type": "code",
   "execution_count": 16,
   "metadata": {},
   "outputs": [
    {
     "data": {
      "text/plain": [
       "8         Bilateral thyroidectomy \n",
       "9         Bilateral thyroidectomy \n",
       "10        Bilateral thyroidectomy \n",
       "11        Bilateral thyroidectomy \n",
       "12       Aortic valve replacement \n",
       "                   ...            \n",
       "2587                Mastoidectomy \n",
       "2588        Liver transplantation \n",
       "2589        Liver transplantation \n",
       "2590        Liver transplantation \n",
       "2591        Liver transplantation \n",
       "Name: Reference Surgery, Length: 2376, dtype: object"
      ]
     },
     "execution_count": 16,
     "metadata": {},
     "output_type": "execute_result"
    }
   ],
   "source": [
    "city_data[\"Reference Surgery\"]"
   ]
  },
  {
   "cell_type": "markdown",
   "metadata": {},
   "source": [
    "Check if everything is allright"
   ]
  },
  {
   "cell_type": "code",
   "execution_count": 119,
   "metadata": {},
   "outputs": [
    {
     "data": {
      "text/plain": [
       "set()"
      ]
     },
     "execution_count": 119,
     "metadata": {},
     "output_type": "execute_result"
    }
   ],
   "source": [
    "set(city_data_total[\"Reference Surgery\"].values) - set(february_data[\"Reference Surgery\"].values)"
   ]
  },
  {
   "cell_type": "code",
   "execution_count": 122,
   "metadata": {},
   "outputs": [],
   "source": [
    "data_dict = {}\n",
    "# data_dict[\"Total\"] = None\n",
    "for month in monthly_data[\"Monthly\"].unique():\n",
    "    data_dict[month] = None"
   ]
  },
  {
   "cell_type": "code",
   "execution_count": 124,
   "metadata": {},
   "outputs": [
    {
     "data": {
      "text/plain": [
       "{'2006_January': None,\n",
       " '2006_February': None,\n",
       " '2006_March': None,\n",
       " '2006_April': None,\n",
       " '2006_May': None,\n",
       " '2006_June': None,\n",
       " '2006_July': None,\n",
       " '2006_August': None,\n",
       " '2006_September': None,\n",
       " '2006_October': None,\n",
       " '2006_November': None,\n",
       " '2006_December': None,\n",
       " '2007_January': None,\n",
       " '2007_February': None,\n",
       " '2007_March': None,\n",
       " '2007_April': None,\n",
       " '2007_May': None,\n",
       " '2007_June': None,\n",
       " '2007_July': None,\n",
       " '2007_August': None,\n",
       " '2007_September': None,\n",
       " '2007_October': None,\n",
       " '2007_November': None,\n",
       " '2007_December': None,\n",
       " '2008_January': None,\n",
       " '2008_February': None,\n",
       " '2008_March': None,\n",
       " '2008_April': None,\n",
       " '2008_May': None,\n",
       " '2008_June': None,\n",
       " '2008_July': None,\n",
       " '2008_August': None,\n",
       " '2008_September': None,\n",
       " '2008_October': None,\n",
       " '2008_November': None,\n",
       " '2008_December': None,\n",
       " '2009_January': None,\n",
       " '2009_February': None,\n",
       " '2009_March': None,\n",
       " '2009_April': None,\n",
       " '2009_May': None,\n",
       " '2009_June': None,\n",
       " '2009_July': None,\n",
       " '2009_August': None,\n",
       " '2009_September': None,\n",
       " '2009_October': None,\n",
       " '2009_November': None,\n",
       " '2009_December': None,\n",
       " '2010_January': None,\n",
       " '2010_February': None,\n",
       " '2010_March': None,\n",
       " '2010_April': None,\n",
       " '2010_May': None,\n",
       " '2010_June': None,\n",
       " '2010_July': None,\n",
       " '2010_August': None,\n",
       " '2010_September': None,\n",
       " '2010_October': None,\n",
       " '2010_November': None,\n",
       " '2010_December': None,\n",
       " '2011_January': None,\n",
       " '2011_February': None,\n",
       " '2011_March': None,\n",
       " '2011_April': None,\n",
       " '2011_May': None,\n",
       " '2011_June': None,\n",
       " '2011_July': None,\n",
       " '2011_August': None,\n",
       " '2011_September': None,\n",
       " '2011_October': None,\n",
       " '2011_November': None,\n",
       " '2011_December': None,\n",
       " '2012_January': None,\n",
       " '2012_February': None,\n",
       " '2012_March': None,\n",
       " '2012_April': None,\n",
       " '2012_May': None,\n",
       " '2012_June': None,\n",
       " '2012_July': None,\n",
       " '2012_August': None,\n",
       " '2012_September': None,\n",
       " '2012_October': None,\n",
       " '2012_November': None,\n",
       " '2012_December': None,\n",
       " '2013_January': None,\n",
       " '2013_February': None,\n",
       " '2013_March': None,\n",
       " '2013_April': None,\n",
       " '2013_May': None,\n",
       " '2013_June': None,\n",
       " '2013_July': None,\n",
       " '2013_August': None,\n",
       " '2013_September': None,\n",
       " '2013_October': None,\n",
       " '2013_November': None,\n",
       " '2013_December': None,\n",
       " '2014_January': None,\n",
       " '2014_February': None,\n",
       " '2014_March': None,\n",
       " '2014_April': None,\n",
       " '2014_May': None,\n",
       " '2014_June': None,\n",
       " '2014_July': None,\n",
       " '2014_August': None,\n",
       " '2014_September': None,\n",
       " '2014_October': None,\n",
       " '2014_November': None,\n",
       " '2014_December': None,\n",
       " '2015_January': None,\n",
       " '2015_February': None,\n",
       " '2015_March': None,\n",
       " '2015_April': None,\n",
       " '2015_May': None,\n",
       " '2015_June': None,\n",
       " '2015_July': None,\n",
       " '2015_August': None,\n",
       " '2015_September': None,\n",
       " '2015_October': None,\n",
       " '2015_November': None,\n",
       " '2015_December': None,\n",
       " '2016_January': None,\n",
       " '2016_February': None,\n",
       " '2016_March': None,\n",
       " '2016_April': None,\n",
       " '2016_May': None,\n",
       " '2016_June': None,\n",
       " '2016_July': None,\n",
       " '2016_August': None,\n",
       " '2016_September': None,\n",
       " '2016_October': None,\n",
       " '2016_November': None,\n",
       " '2016_December': None,\n",
       " '2017_January': None,\n",
       " '2017_February': None,\n",
       " '2017_March': None,\n",
       " '2017_April': None,\n",
       " '2017_May': None,\n",
       " '2017_June': None,\n",
       " '2017_July': None,\n",
       " '2017_August': None,\n",
       " '2017_September': None,\n",
       " '2017_October': None,\n",
       " '2017_November': None,\n",
       " '2017_December': None,\n",
       " '2018_January': None,\n",
       " '2018_February': None,\n",
       " '2018_March': None,\n",
       " '2018_April': None,\n",
       " '2018_May': None,\n",
       " '2018_June': None,\n",
       " '2018_July': None,\n",
       " '2018_August': None,\n",
       " '2018_September': None,\n",
       " '2018_October': None,\n",
       " '2018_November': None,\n",
       " '2018_December': None,\n",
       " '2019_January': None,\n",
       " '2019_February': None,\n",
       " '2019_March': None,\n",
       " '2019_April': None,\n",
       " '2019_May': None,\n",
       " '2019_June': None,\n",
       " '2019_July': None,\n",
       " '2019_August': None,\n",
       " '2019_September': None,\n",
       " '2019_October': None,\n",
       " '2019_November': None,\n",
       " '2019_December': None,\n",
       " '2020_January': None,\n",
       " '2020_February': None,\n",
       " '2020_March': None,\n",
       " '2020_April': None,\n",
       " '2020_May': None,\n",
       " '2020_June': None,\n",
       " '2020_July': None,\n",
       " '2020_August': None,\n",
       " '2020_September': None,\n",
       " '2020_October': None,\n",
       " '2020_November': None,\n",
       " '2020_December': None,\n",
       " '2021_January': None,\n",
       " '2021_February': None,\n",
       " '2021_March': None,\n",
       " '2021_April': None,\n",
       " '2021_May': None,\n",
       " '2021_June': None,\n",
       " '2021_July': None,\n",
       " '2021_August': None,\n",
       " '2021_September': None,\n",
       " '2021_October': None,\n",
       " '2021_November': None,\n",
       " '2021_December': None,\n",
       " '2022_January': None,\n",
       " '2022_February': None,\n",
       " '2022_March': None,\n",
       " '2022_April': None,\n",
       " '2022_May': None,\n",
       " '2022_June': None,\n",
       " '2022_July': None,\n",
       " '2022_August': None,\n",
       " '2022_September': None,\n",
       " '2022_October': None,\n",
       " '2022_November': None,\n",
       " '2022_December': None}"
      ]
     },
     "execution_count": 124,
     "metadata": {},
     "output_type": "execute_result"
    }
   ],
   "source": [
    "year_columns = monthly_data.columns[4:-2]\n",
    "year_columns\n",
    "\n",
    "monthly_dict = {}\n",
    "\n",
    "for year in year_columns:\n",
    "    for month in monthly_data[\"Monthly\"].unique():\n",
    "        if month == \"Total\":\n",
    "            continue\n",
    "        monthly_dict[year + \"_\" + month] = None\n",
    "\n",
    "monthly_dict"
   ]
  },
  {
   "cell_type": "code",
   "execution_count": 125,
   "metadata": {},
   "outputs": [
    {
     "data": {
      "text/plain": [
       "12    NaN\n",
       "13    NaN\n",
       "14    NaN\n",
       "15    NaN\n",
       "16    NaN\n",
       "       ..\n",
       "211   NaN\n",
       "212   NaN\n",
       "213   NaN\n",
       "214   NaN\n",
       "215   NaN\n",
       "Name: 2013, Length: 198, dtype: float64"
      ]
     },
     "execution_count": 125,
     "metadata": {},
     "output_type": "execute_result"
    }
   ],
   "source": [
    "monthly_data[monthly_data[\"Monthly\"] == \"Total\"][\"2013\"]"
   ]
  },
  {
   "cell_type": "code",
   "execution_count": 128,
   "metadata": {},
   "outputs": [],
   "source": [
    "for key in monthly_dict.keys():\n",
    "    year = key.split(\"_\")[0]\n",
    "    month = key.split(\"_\")[1]\n",
    "    rows = monthly_data[(monthly_data[\"Monthly\"] == month)]\n",
    "    # print(rows)\n",
    "    # find rows that have \"Surgery Received Person[person]\" in \"Category\"\n",
    "    person_rows = rows[rows[\"Category\"].str.contains(\"Surgery Received Person\")]\n",
    "    for index, row in person_rows.iterrows():\n",
    "        reference_surgery = row[\"Reference Surgery\"]\n",
    "        blood_usage_per_patient = blood_demand_per_patient[str(reference_surgery).lower().strip()]\n",
    "        # if year == \"2013\" and month == \"Total\":\n",
    "        #     print(reference_surgery, blood_usage_per_patient, row[year])\n",
    "        #     print(np.isnan(row[year]))\n",
    "            \n",
    "        if not np.isnan(row[year]):\n",
    "            value = blood_usage_per_patient * row[year]\n",
    "            if np.isnan(value):\n",
    "                print(blood_demand_per_patient, row[year])\n",
    "            monthly_dict[key] += blood_usage_per_patient * row[year]\n",
    "\n"
   ]
  },
  {
   "cell_type": "code",
   "execution_count": 130,
   "metadata": {},
   "outputs": [
    {
     "name": "stdout",
     "output_type": "stream",
     "text": [
      "{'2006_January': 196711.7428308683, '2006_February': 185407.7323187022, '2006_March': 185956.20413796254, '2006_April': 170128.14445368515, '2006_May': 180705.31702672786, '2006_June': 177727.56674422562, '2006_July': 185994.05129152545, '2006_August': 199599.20769424454, '2006_September': 176625.4893819863, '2006_October': 171376.40604616594, '2006_November': 176272.67755778495, '2006_December': 176788.9408387035, '2007_January': 232617.93086487046, '2007_February': 188365.03674390895, '2007_March': 207084.93039855192, '2007_April': 192578.69276279546, '2007_May': 199525.5815918509, '2007_June': 189785.53081570324, '2007_July': 207533.22149263308, '2007_August': 215073.38314863486, '2007_September': 179771.7553836934, '2007_October': 201892.07345512163, '2007_November': 186695.42259547368, '2007_December': 181651.0166107151, '2008_January': 236116.5657807982, '2008_February': 185492.4439113339, '2008_March': 201311.71071066937, '2008_April': 187723.91352748653, '2008_May': 187779.78013141057, '2008_June': 193201.22531864085, '2008_July': 209003.02712765205, '2008_August': 195317.2678573924, '2008_September': 184662.25183452855, '2008_October': 164046.48389817146, '2008_November': 173700.79470349743, '2008_December': 181156.78882044306, '2009_January': 231100.565751321, '2009_February': 216214.39509722075, '2009_March': 222458.22981118097, '2009_April': 208057.53131784694, '2009_May': 202222.00313435227, '2009_June': 206459.51945592408, '2009_July': 226685.37524901773, '2009_August': 223676.4681650879, '2009_September': 211059.80912466804, '2009_October': 207681.04527619173, '2009_November': 197185.60901779283, '2009_December': 213567.99133333564, '2010_January': 253736.79882104957, '2010_February': 209059.66098500355, '2010_March': 240767.92292347184, '2010_April': 218650.98500141632, '2010_May': 216722.12017469702, '2010_June': 224295.28472293407, '2010_July': 223433.5751788724, '2010_August': 231841.22176234308, '2010_September': 199557.32601729225, '2010_October': 209294.29111756696, '2010_November': 206249.31501088242, '2010_December': 207747.5296812927, '2011_January': 251056.78041213943, '2011_February': 203055.3595146655, '2011_March': 237507.639662217, '2011_April': 211393.1776363372, '2011_May': 218429.80219180655, '2011_June': 216756.16763203614, '2011_July': 217964.28124021055, '2011_August': 202697.52487869264, '2011_September': 166095.0742621206, '2011_October': 198109.65532228016, '2011_November': 202251.25866725037, '2011_December': 205383.2883394755, '2012_January': 256939.3281065706, '2012_February': 237632.21710664974, '2012_March': 231148.93217969962, '2012_April': 217459.61641327193, '2012_May': 226287.26096303304, '2012_June': 215998.1048720053, '2012_July': 242901.43989205838, '2012_August': 237525.58231927207, '2012_September': 207630.21739628242, '2012_October': 226706.3182176626, '2012_November': 214627.16198762483, '2012_December': 207212.3755815637, '2013_January': 272812.5045778155, '2013_February': 215760.36027522534, '2013_March': 225725.30685711658, '2013_April': 217552.85959874606, '2013_May': 219132.87621131216, '2013_June': 206769.57437041803, '2013_July': 234329.61529824047, '2013_August': 220331.14936992884, '2013_September': 204182.35738664874, '2013_October': 212758.98479274128, '2013_November': 203528.7524246916, '2013_December': 218600.49761820966, '2014_January': 246832.72851498154, '2014_February': 233099.0872055488, '2014_March': 226198.15615036114, '2014_April': 214765.66700765333, '2014_May': 208751.31263446892, '2014_June': 209894.027113329, '2014_July': 230808.56293291095, '2014_August': 218787.87037153324, '2014_September': 214008.90333167103, '2014_October': 210554.54710446662, '2014_November': 200331.9499423891, '2014_December': 216245.61275669234, '2015_January': 257479.98026169627, '2015_February': 201110.5329729779, '2015_March': 235753.90913039597, '2015_April': 217681.69580869694, '2015_May': 208414.19250674004, '2015_June': 191145.73433153128, '2015_July': 217930.01546850192, '2015_August': 224111.42208738797, '2015_September': 205480.0162684934, '2015_October': 218090.00785117978, '2015_November': 214013.66102825862, '2015_December': 222673.4413486258, '2016_January': 257255.82192251625, '2016_February': 218221.49318960664, '2016_March': 243786.91941723615, '2016_April': 212938.4940357246, '2016_May': 226348.64092814084, '2016_June': 218024.93556922275, '2016_July': 222981.3393617682, '2016_August': 229469.01166570286, '2016_September': 208373.0207873597, '2016_October': 210007.2025546197, '2016_November': 215105.15873412226, '2016_December': 215707.89112434845, '2017_January': 248593.05036515772, '2017_February': 221556.54180854937, '2017_March': 230494.25571403868, '2017_April': 211517.71233659156, '2017_May': 224905.37300108225, '2017_June': 218523.19515637116, '2017_July': 227873.166260689, '2017_August': 233221.51730584394, '2017_September': 217053.08339136935, '2017_October': 199837.69574568816, '2017_November': 215398.83237156682, '2017_December': 207274.7607318146, '2018_January': 268336.86669154296, '2018_February': 203603.12541066384, '2018_March': 228994.95853863528, '2018_April': 221220.626339048, '2018_May': 224780.9652839967, '2018_June': 209584.5577621233, '2018_July': 235245.54065561766, '2018_August': 228262.07980169158, '2018_September': 197527.64835945057, '2018_October': 225250.91972413062, '2018_November': 218954.72055830096, '2018_December': 215430.88559288363, '2019_January': 270830.5380857068, '2019_February': 210462.30316926536, '2019_March': 230232.13840234987, '2019_April': 227327.81177921416, '2019_May': 229533.6860176883, '2019_June': 216081.2028158578, '2019_July': 245535.01720764805, '2019_August': 228115.80546348036, '2019_September': 217398.327895815, '2019_October': 223405.9276013775, '2019_November': 221189.2833056228, '2019_December': 227011.84453977074, '2020_January': 245817.22524663815, '2020_February': 210356.67986142225, '2020_March': 204061.96474561965, '2020_April': 198635.83776659548, '2020_May': 214977.35774121017, '2020_June': 227360.94583568626, '2020_July': 232361.32285739717, '2020_August': 211480.08042483585, '2020_September': 206089.18652948804, '2020_October': 215855.12852926887, '2020_November': 217743.6296795271, '2020_December': 217023.5166524347, '2021_January': 241231.13737916457, '2021_February': 202332.5714042156, '2021_March': 248139.91117809716, '2021_April': 229926.18598165608, '2021_May': 221972.40851327576, '2021_June': 231408.91877730796, '2021_July': 236336.3666190687, '2021_August': 234201.20734129526, '2021_September': 213606.02823620214, '2021_October': 223119.86289892983, '2021_November': 231008.88866309842, '2021_December': 218751.73623414416, '2022_January': 247283.16018764244, '2022_February': 211380.1875258438, '2022_March': 226492.61846414104, '2022_April': 225533.52406590752, '2022_May': 239649.45072066927, '2022_June': 236129.0285798896, '2022_July': 238732.5715674781, '2022_August': 245749.76417186635, '2022_September': 231308.56452610792, '2022_October': 230594.70264430135, '2022_November': 236277.6212240841, '2022_December': 228356.2783132639}\n"
     ]
    }
   ],
   "source": [
    "print(monthly_dict)\n",
    "\n",
    "# save as json\n",
    "with open('monthly_blood_demand.json', 'w') as f:\n",
    "    json.dump(monthly_dict, f)\n",
    "\n",
    "# create yearly dict\n",
    "\n",
    "yearly_dict = {}\n",
    "for key in monthly_dict:\n",
    "    year = key.split(\"_\")[0]\n",
    "    if year not in yearly_dict:\n",
    "        yearly_dict[year] = 0\n",
    "    yearly_dict[year] += monthly_dict[key]\n",
    "\n",
    "with open('yearly_blood_demand.json', 'w') as f:\n",
    "    json.dump(yearly_dict, f)"
   ]
  },
  {
   "cell_type": "markdown",
   "metadata": {},
   "source": [
    "#### JSON common items. Year, Month, Source, "
   ]
  },
  {
   "cell_type": "markdown",
   "metadata": {},
   "source": [
    "Now we need to calculate the city demand"
   ]
  },
  {
   "cell_type": "code",
   "execution_count": null,
   "metadata": {},
   "outputs": [],
   "source": []
  }
 ],
 "metadata": {
  "kernelspec": {
   "display_name": ".venv",
   "language": "python",
   "name": "python3"
  },
  "language_info": {
   "codemirror_mode": {
    "name": "ipython",
    "version": 3
   },
   "file_extension": ".py",
   "mimetype": "text/x-python",
   "name": "python",
   "nbconvert_exporter": "python",
   "pygments_lexer": "ipython3",
   "version": "3.10.11"
  }
 },
 "nbformat": 4,
 "nbformat_minor": 2
}
