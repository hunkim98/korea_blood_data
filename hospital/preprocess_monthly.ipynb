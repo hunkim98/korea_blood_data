{
 "cells": [
  {
   "cell_type": "markdown",
   "metadata": {},
   "source": [
    "## Read the data"
   ]
  },
  {
   "cell_type": "code",
   "execution_count": 15,
   "metadata": {},
   "outputs": [],
   "source": [
    "import pandas as pd\n",
    "import numpy as np\n",
    "import json"
   ]
  },
  {
   "cell_type": "code",
   "execution_count": 16,
   "metadata": {},
   "outputs": [],
   "source": [
    "monthly_data = pd.read_csv('monthly_surgery.csv', encoding='EUC-KR')\n",
    "\n",
    "# lets drop row which does not have more than \"-\" in the \"Surgery\" column\n",
    "monthly_data = monthly_data[monthly_data['Surgery'].str.count(\"-\") >= 2]\n",
    "\n",
    "# Add \"Reference Surgery\" column to the dataframe with the str split\n",
    "monthly_data['Reference Surgery'] = monthly_data['Surgery'].str.split(\"-\").str[1]"
   ]
  },
  {
   "cell_type": "code",
   "execution_count": 17,
   "metadata": {},
   "outputs": [],
   "source": [
    "# get Monthly data where column \"Monthly\" is \"Total\"\n",
    "monthly_data_total = monthly_data[monthly_data['Monthly'] == 'Total']"
   ]
  },
  {
   "cell_type": "code",
   "execution_count": 18,
   "metadata": {},
   "outputs": [
    {
     "name": "stdout",
     "output_type": "stream",
     "text": [
      "Total data count:  198\n",
      "January data count:  198\n",
      "February data count:  198\n",
      "March data count:  198\n",
      "April data count:  198\n",
      "May data count:  198\n",
      "June data count:  198\n",
      "July data count:  198\n",
      "August data count:  198\n",
      "September data count:  198\n",
      "October data count:  198\n",
      "November data count:  198\n",
      "December data count:  198\n"
     ]
    }
   ],
   "source": [
    "january_data = monthly_data[monthly_data[\"Monthly\"] == \"January\"]\n",
    "february_data = monthly_data[monthly_data[\"Monthly\"] == \"February\"]\n",
    "march_data = monthly_data[monthly_data[\"Monthly\"] == \"March\"]\n",
    "april_data = monthly_data[monthly_data[\"Monthly\"] == \"April\"]\n",
    "may_data = monthly_data[monthly_data[\"Monthly\"] == \"May\"]\n",
    "june_data = monthly_data[monthly_data[\"Monthly\"] == \"June\"]\n",
    "july_data = monthly_data[monthly_data[\"Monthly\"] == \"July\"]\n",
    "august_data = monthly_data[monthly_data[\"Monthly\"] == \"August\"]\n",
    "september_data = monthly_data[monthly_data[\"Monthly\"] == \"September\"]\n",
    "october_data = monthly_data[monthly_data[\"Monthly\"] == \"October\"]\n",
    "november_data = monthly_data[monthly_data[\"Monthly\"] == \"November\"]\n",
    "december_data = monthly_data[monthly_data[\"Monthly\"] == \"December\"]\n",
    "\n",
    "# check count of data\n",
    "print(\"Total data count: \", len(monthly_data_total))\n",
    "print(\"January data count: \", len(january_data))\n",
    "print(\"February data count: \", len(february_data))\n",
    "print(\"March data count: \", len(march_data))\n",
    "print(\"April data count: \", len(april_data))\n",
    "print(\"May data count: \", len(may_data))\n",
    "print(\"June data count: \", len(june_data))\n",
    "print(\"July data count: \", len(july_data))\n",
    "print(\"August data count: \", len(august_data))\n",
    "print(\"September data count: \", len(september_data))\n",
    "print(\"October data count: \", len(october_data))\n",
    "print(\"November data count: \", len(november_data))\n",
    "print(\"December data count: \", len(december_data))\n"
   ]
  },
  {
   "cell_type": "code",
   "execution_count": 19,
   "metadata": {},
   "outputs": [],
   "source": [
    "blood_demand_per_patient = {}\n",
    "\n",
    "operation_blood_data = pd.read_csv('operation_blood_demand.csv')\n",
    "\n",
    "for index, row in operation_blood_data.iterrows():\n",
    "    if row[\"Transfused patients No.\"] != 0:\n",
    "        blood_demand_per_patient[row[\"Operation\"].lower()] = row[\"Total units transfused\"] / row[\"Transfused patients No.\"]"
   ]
  },
  {
   "cell_type": "code",
   "execution_count": 20,
   "metadata": {},
   "outputs": [],
   "source": [
    "blood_demand_per_patient\n",
    "\n",
    "# save as json\n",
    "with open('blood_demand_per_patient.json', 'w') as f:\n",
    "    json.dump(blood_demand_per_patient, f)"
   ]
  },
  {
   "cell_type": "code",
   "execution_count": 21,
   "metadata": {},
   "outputs": [
    {
     "data": {
      "text/plain": [
       "12      Bilateral thyroidectomy \n",
       "13      Bilateral thyroidectomy \n",
       "14      Bilateral thyroidectomy \n",
       "15      Bilateral thyroidectomy \n",
       "16      Bilateral thyroidectomy \n",
       "                 ...            \n",
       "211       Liver transplantation \n",
       "212       Liver transplantation \n",
       "213       Liver transplantation \n",
       "214       Liver transplantation \n",
       "215       Liver transplantation \n",
       "Name: Reference Surgery, Length: 198, dtype: object"
      ]
     },
     "execution_count": 21,
     "metadata": {},
     "output_type": "execute_result"
    }
   ],
   "source": [
    "monthly_data_total[\"Reference Surgery\"]"
   ]
  },
  {
   "cell_type": "markdown",
   "metadata": {},
   "source": [
    "Check if everything is allright"
   ]
  },
  {
   "cell_type": "code",
   "execution_count": 22,
   "metadata": {},
   "outputs": [
    {
     "data": {
      "text/plain": [
       "set()"
      ]
     },
     "execution_count": 22,
     "metadata": {},
     "output_type": "execute_result"
    }
   ],
   "source": [
    "set(monthly_data_total[\"Reference Surgery\"].values) - set(february_data[\"Reference Surgery\"].values)"
   ]
  },
  {
   "cell_type": "code",
   "execution_count": 23,
   "metadata": {},
   "outputs": [],
   "source": [
    "data_dict = {}\n",
    "# data_dict[\"Total\"] = None\n",
    "for month in monthly_data[\"Monthly\"].unique():\n",
    "    data_dict[month] = None"
   ]
  },
  {
   "cell_type": "code",
   "execution_count": 24,
   "metadata": {},
   "outputs": [
    {
     "data": {
      "text/plain": [
       "{'2006_January': None,\n",
       " '2006_February': None,\n",
       " '2006_March': None,\n",
       " '2006_April': None,\n",
       " '2006_May': None,\n",
       " '2006_June': None,\n",
       " '2006_July': None,\n",
       " '2006_August': None,\n",
       " '2006_September': None,\n",
       " '2006_October': None,\n",
       " '2006_November': None,\n",
       " '2006_December': None,\n",
       " '2007_January': None,\n",
       " '2007_February': None,\n",
       " '2007_March': None,\n",
       " '2007_April': None,\n",
       " '2007_May': None,\n",
       " '2007_June': None,\n",
       " '2007_July': None,\n",
       " '2007_August': None,\n",
       " '2007_September': None,\n",
       " '2007_October': None,\n",
       " '2007_November': None,\n",
       " '2007_December': None,\n",
       " '2008_January': None,\n",
       " '2008_February': None,\n",
       " '2008_March': None,\n",
       " '2008_April': None,\n",
       " '2008_May': None,\n",
       " '2008_June': None,\n",
       " '2008_July': None,\n",
       " '2008_August': None,\n",
       " '2008_September': None,\n",
       " '2008_October': None,\n",
       " '2008_November': None,\n",
       " '2008_December': None,\n",
       " '2009_January': None,\n",
       " '2009_February': None,\n",
       " '2009_March': None,\n",
       " '2009_April': None,\n",
       " '2009_May': None,\n",
       " '2009_June': None,\n",
       " '2009_July': None,\n",
       " '2009_August': None,\n",
       " '2009_September': None,\n",
       " '2009_October': None,\n",
       " '2009_November': None,\n",
       " '2009_December': None,\n",
       " '2010_January': None,\n",
       " '2010_February': None,\n",
       " '2010_March': None,\n",
       " '2010_April': None,\n",
       " '2010_May': None,\n",
       " '2010_June': None,\n",
       " '2010_July': None,\n",
       " '2010_August': None,\n",
       " '2010_September': None,\n",
       " '2010_October': None,\n",
       " '2010_November': None,\n",
       " '2010_December': None,\n",
       " '2011_January': None,\n",
       " '2011_February': None,\n",
       " '2011_March': None,\n",
       " '2011_April': None,\n",
       " '2011_May': None,\n",
       " '2011_June': None,\n",
       " '2011_July': None,\n",
       " '2011_August': None,\n",
       " '2011_September': None,\n",
       " '2011_October': None,\n",
       " '2011_November': None,\n",
       " '2011_December': None,\n",
       " '2012_January': None,\n",
       " '2012_February': None,\n",
       " '2012_March': None,\n",
       " '2012_April': None,\n",
       " '2012_May': None,\n",
       " '2012_June': None,\n",
       " '2012_July': None,\n",
       " '2012_August': None,\n",
       " '2012_September': None,\n",
       " '2012_October': None,\n",
       " '2012_November': None,\n",
       " '2012_December': None,\n",
       " '2013_January': None,\n",
       " '2013_February': None,\n",
       " '2013_March': None,\n",
       " '2013_April': None,\n",
       " '2013_May': None,\n",
       " '2013_June': None,\n",
       " '2013_July': None,\n",
       " '2013_August': None,\n",
       " '2013_September': None,\n",
       " '2013_October': None,\n",
       " '2013_November': None,\n",
       " '2013_December': None,\n",
       " '2014_January': None,\n",
       " '2014_February': None,\n",
       " '2014_March': None,\n",
       " '2014_April': None,\n",
       " '2014_May': None,\n",
       " '2014_June': None,\n",
       " '2014_July': None,\n",
       " '2014_August': None,\n",
       " '2014_September': None,\n",
       " '2014_October': None,\n",
       " '2014_November': None,\n",
       " '2014_December': None,\n",
       " '2015_January': None,\n",
       " '2015_February': None,\n",
       " '2015_March': None,\n",
       " '2015_April': None,\n",
       " '2015_May': None,\n",
       " '2015_June': None,\n",
       " '2015_July': None,\n",
       " '2015_August': None,\n",
       " '2015_September': None,\n",
       " '2015_October': None,\n",
       " '2015_November': None,\n",
       " '2015_December': None,\n",
       " '2016_January': None,\n",
       " '2016_February': None,\n",
       " '2016_March': None,\n",
       " '2016_April': None,\n",
       " '2016_May': None,\n",
       " '2016_June': None,\n",
       " '2016_July': None,\n",
       " '2016_August': None,\n",
       " '2016_September': None,\n",
       " '2016_October': None,\n",
       " '2016_November': None,\n",
       " '2016_December': None,\n",
       " '2017_January': None,\n",
       " '2017_February': None,\n",
       " '2017_March': None,\n",
       " '2017_April': None,\n",
       " '2017_May': None,\n",
       " '2017_June': None,\n",
       " '2017_July': None,\n",
       " '2017_August': None,\n",
       " '2017_September': None,\n",
       " '2017_October': None,\n",
       " '2017_November': None,\n",
       " '2017_December': None,\n",
       " '2018_January': None,\n",
       " '2018_February': None,\n",
       " '2018_March': None,\n",
       " '2018_April': None,\n",
       " '2018_May': None,\n",
       " '2018_June': None,\n",
       " '2018_July': None,\n",
       " '2018_August': None,\n",
       " '2018_September': None,\n",
       " '2018_October': None,\n",
       " '2018_November': None,\n",
       " '2018_December': None,\n",
       " '2019_January': None,\n",
       " '2019_February': None,\n",
       " '2019_March': None,\n",
       " '2019_April': None,\n",
       " '2019_May': None,\n",
       " '2019_June': None,\n",
       " '2019_July': None,\n",
       " '2019_August': None,\n",
       " '2019_September': None,\n",
       " '2019_October': None,\n",
       " '2019_November': None,\n",
       " '2019_December': None,\n",
       " '2020_January': None,\n",
       " '2020_February': None,\n",
       " '2020_March': None,\n",
       " '2020_April': None,\n",
       " '2020_May': None,\n",
       " '2020_June': None,\n",
       " '2020_July': None,\n",
       " '2020_August': None,\n",
       " '2020_September': None,\n",
       " '2020_October': None,\n",
       " '2020_November': None,\n",
       " '2020_December': None,\n",
       " '2021_January': None,\n",
       " '2021_February': None,\n",
       " '2021_March': None,\n",
       " '2021_April': None,\n",
       " '2021_May': None,\n",
       " '2021_June': None,\n",
       " '2021_July': None,\n",
       " '2021_August': None,\n",
       " '2021_September': None,\n",
       " '2021_October': None,\n",
       " '2021_November': None,\n",
       " '2021_December': None,\n",
       " '2022_January': None,\n",
       " '2022_February': None,\n",
       " '2022_March': None,\n",
       " '2022_April': None,\n",
       " '2022_May': None,\n",
       " '2022_June': None,\n",
       " '2022_July': None,\n",
       " '2022_August': None,\n",
       " '2022_September': None,\n",
       " '2022_October': None,\n",
       " '2022_November': None,\n",
       " '2022_December': None}"
      ]
     },
     "execution_count": 24,
     "metadata": {},
     "output_type": "execute_result"
    }
   ],
   "source": [
    "year_columns = monthly_data.columns[4:-2]\n",
    "year_columns\n",
    "\n",
    "monthly_dict = {}\n",
    "\n",
    "for year in year_columns:\n",
    "    for month in monthly_data[\"Monthly\"].unique():\n",
    "        if month == \"Total\":\n",
    "            continue\n",
    "        monthly_dict[year + \"_\" + month] = None\n",
    "\n",
    "monthly_dict"
   ]
  },
  {
   "cell_type": "code",
   "execution_count": 25,
   "metadata": {},
   "outputs": [
    {
     "data": {
      "text/plain": [
       "12    NaN\n",
       "13    NaN\n",
       "14    NaN\n",
       "15    NaN\n",
       "16    NaN\n",
       "       ..\n",
       "211   NaN\n",
       "212   NaN\n",
       "213   NaN\n",
       "214   NaN\n",
       "215   NaN\n",
       "Name: 2013, Length: 198, dtype: float64"
      ]
     },
     "execution_count": 25,
     "metadata": {},
     "output_type": "execute_result"
    }
   ],
   "source": [
    "monthly_data[monthly_data[\"Monthly\"] == \"Total\"][\"2013\"]"
   ]
  },
  {
   "cell_type": "code",
   "execution_count": 28,
   "metadata": {},
   "outputs": [],
   "source": [
    "for key in monthly_dict.keys():\n",
    "    year = key.split(\"_\")[0]\n",
    "    month = key.split(\"_\")[1]\n",
    "    rows = monthly_data[(monthly_data[\"Monthly\"] == month)]\n",
    "    # print(rows)\n",
    "    # find rows that have \"Surgery Received Person[person]\" in \"Category\"\n",
    "    person_rows = rows[rows[\"Category\"].str.contains(\"Surgery Received Person\")]\n",
    "    for index, row in person_rows.iterrows():\n",
    "        reference_surgery = row[\"Reference Surgery\"]\n",
    "        blood_usage_per_patient = blood_demand_per_patient[str(reference_surgery).lower().strip()]\n",
    "        # if year == \"2013\" and month == \"Total\":\n",
    "        #     print(reference_surgery, blood_usage_per_patient, row[year])\n",
    "        #     print(np.isnan(row[year]))\n",
    "            \n",
    "        if not np.isnan(row[year]):\n",
    "            value = blood_usage_per_patient * row[year]\n",
    "            if np.isnan(value):\n",
    "                print(blood_demand_per_patient, row[year])\n",
    "            if monthly_dict[key] is None:\n",
    "                monthly_dict[key] = blood_usage_per_patient * row[year]\n",
    "            else:\n",
    "                monthly_dict[key] += blood_usage_per_patient * row[year]\n",
    "\n"
   ]
  },
  {
   "cell_type": "code",
   "execution_count": 29,
   "metadata": {},
   "outputs": [
    {
     "name": "stdout",
     "output_type": "stream",
     "text": [
      "{'2006_January': 191110.07616420163, '2006_February': 180227.7323187022, '2006_March': 180959.53747129586, '2006_April': 166051.4777870185, '2006_May': 176506.98369339452, '2006_June': 173967.56674422562, '2006_July': 181515.71795819214, '2006_August': 194730.8743609112, '2006_September': 172933.82271531963, '2006_October': 167959.73937949925, '2006_November': 172427.67755778495, '2006_December': 172807.27417203685, '2007_January': 226536.2641982038, '2007_February': 183491.7034105756, '2007_March': 202043.26373188524, '2007_April': 187988.69276279546, '2007_May': 194828.91492518422, '2007_June': 185737.1974823699, '2007_July': 202971.55482596645, '2007_August': 210325.0498153015, '2007_September': 176626.7553836934, '2007_October': 197818.7401217883, '2007_November': 182565.42259547368, '2007_December': 177587.6832773818, '2008_January': 229778.2324474649, '2008_February': 180804.11057800057, '2008_March': 196318.37737733603, '2008_April': 183388.91352748653, '2008_May': 183326.44679807723, '2008_June': 189019.55865197416, '2008_July': 203916.3604609854, '2008_August': 190812.2678573924, '2008_September': 180905.5851678619, '2008_October': 160544.81723150477, '2008_November': 169830.79470349743, '2008_December': 177018.45548710975, '2009_January': 229068.89908465432, '2009_February': 214302.7284305541, '2009_March': 220691.56314451428, '2009_April': 206494.19798451362, '2009_May': 200707.00313435227, '2009_June': 205156.18612259073, '2009_July': 225018.70858235104, '2009_August': 222164.80149842124, '2009_September': 209738.14245800136, '2009_October': 206414.37860952504, '2009_November': 195923.94235112617, '2009_December': 212161.32466666898, '2010_January': 251808.46548771622, '2010_February': 207567.9943183369, '2010_March': 239146.25625680518, '2010_April': 217184.31833474967, '2010_May': 215417.12017469702, '2010_June': 223068.61805626744, '2010_July': 222183.5751788724, '2010_August': 230462.88842900973, '2010_September': 198632.32601729225, '2010_October': 208197.62445090027, '2010_November': 205012.64834421573, '2010_December': 206449.1963479594, '2011_January': 249426.78041213943, '2011_February': 201782.02618133216, '2011_March': 236000.97299555037, '2011_April': 210028.1776363372, '2011_May': 217134.80219180655, '2011_June': 215391.16763203614, '2011_July': 216659.28124021055, '2011_August': 201497.52487869264, '2011_September': 165320.0742621206, '2011_October': 197124.65532228016, '2011_November': 201116.25866725037, '2011_December': 204296.6216728088, '2012_January': 255362.66143990392, '2012_February': 236215.55043998308, '2012_March': 229837.26551303297, '2012_April': 216232.94974660527, '2012_May': 225128.9276296997, '2012_June': 215083.1048720053, '2012_July': 241869.7732253917, '2012_August': 236520.58231927207, '2012_September': 206785.21739628242, '2012_October': 225749.65155099594, '2012_November': 213670.49532095814, '2012_December': 206239.04224823034, '2013_January': 271395.83791114885, '2013_February': 214687.02694189202, '2013_March': 224688.6401904499, '2013_April': 216506.19293207937, '2013_May': 218127.87621131216, '2013_June': 205939.57437041803, '2013_July': 233306.2819649071, '2013_August': 219272.8160365955, '2013_September': 203297.35738664874, '2013_October': 211902.31812607462, '2013_November': 202512.0857580249, '2013_December': 217642.16428487631, '2014_January': 245541.0618483149, '2014_February': 231847.42053888214, '2014_March': 225056.48948369452, '2014_April': 213714.00034098665, '2014_May': 207814.64596780227, '2014_June': 209089.027113329, '2014_July': 229926.8962662443, '2014_August': 217947.87037153324, '2014_September': 213280.56999833765, '2014_October': 209706.2137711333, '2014_November': 199521.9499423891, '2014_December': 215418.94609002565, '2015_January': 256259.98026169627, '2015_February': 200232.19963964456, '2015_March': 234747.24246372932, '2015_April': 216710.02914203028, '2015_May': 207532.5258400734, '2015_June': 190542.40099819796, '2015_July': 217230.01546850192, '2015_August': 223256.42208738797, '2015_September': 204700.0162684934, '2015_October': 217320.00785117978, '2015_November': 213245.32769492525, '2015_December': 221975.10801529244, '2016_January': 256302.4885891829, '2016_February': 217509.82652293995, '2016_March': 242906.91941723615, '2016_April': 212245.1607023913, '2016_May': 225558.64092814084, '2016_June': 217378.2689025561, '2016_July': 222313.00602843487, '2016_August': 228722.3449990362, '2016_September': 207773.0207873597, '2016_October': 209375.535887953, '2016_November': 214463.4920674556, '2016_December': 214969.55779101508, '2017_January': 247688.05036515772, '2017_February': 220644.8751418827, '2017_March': 229605.92238070536, '2017_April': 210624.37900325822, '2017_May': 224025.37300108225, '2017_June': 217748.19515637116, '2017_July': 227086.49959402232, '2017_August': 232398.1839725106, '2017_September': 216243.08339136935, '2017_October': 199131.02907902148, '2017_November': 214555.49903823348, '2017_December': 206428.09406514792, '2018_January': 267385.20002487634, '2018_February': 202833.12541066384, '2018_March': 228188.29187196863, '2018_April': 220370.626339048, '2018_May': 223965.9652839967, '2018_June': 208824.5577621233, '2018_July': 234375.54065561766, '2018_August': 227458.74646835827, '2018_September': 196822.64835945057, '2018_October': 224355.91972413062, '2018_November': 218081.38722496762, '2018_December': 214544.21892621694, '2019_January': 270257.20475237357, '2019_February': 210087.30316926536, '2019_March': 229782.13840234987, '2019_April': 226866.14511254747, '2019_May': 229083.6860176883, '2019_June': 215672.8694825245, '2019_July': 245090.01720764805, '2019_August': 227719.1387968137, '2019_September': 217018.327895815, '2019_October': 223005.9276013775, '2019_November': 220720.94997228947, '2019_December': 226536.84453977074, '2020_January': 245410.5585799715, '2020_February': 210045.01319475556, '2020_March': 203720.29807895303, '2020_April': 198302.50443326213, '2020_May': 214605.6910745435, '2020_June': 226977.61250235292, '2020_July': 231966.32285739717, '2020_August': 211185.08042483585, '2020_September': 205780.8531961547, '2020_October': 215541.79519593553, '2020_November': 217358.6296795271, '2020_December': 216626.84998576803, '2021_January': 240876.13737916457, '2021_February': 202044.23807088227, '2021_March': 247769.91117809716, '2021_April': 229604.5193149894, '2021_May': 221669.07517994245, '2021_June': 231075.5854439746, '2021_July': 236006.3666190687, '2021_August': 233884.5406746286, '2021_September': 213321.02823620214, '2021_October': 222804.86289892983, '2021_November': 230660.5553297651, '2021_December': 218451.73623414416, '2022_January': 245562.03518764244, '2022_February': 209818.3125258438, '2022_March': 225071.61846414104, '2022_April': 224247.27406590752, '2022_May': 238136.57572066927, '2022_June': 234677.4035798896, '2022_July': 237329.9465674781, '2022_August': 244506.38917186635, '2022_September': 230046.81452610792, '2022_October': 229179.82764430135, '2022_November': 235028.1212240841, '2022_December': 227431.4033132639}\n"
     ]
    }
   ],
   "source": [
    "print(monthly_dict)\n",
    "\n",
    "# save as json\n",
    "with open('monthly_blood_demand.json', 'w') as f:\n",
    "    json.dump(monthly_dict, f)\n",
    "\n",
    "# create yearly dict\n",
    "\n",
    "yearly_dict = {}\n",
    "for key in monthly_dict:\n",
    "    year = key.split(\"_\")[0]\n",
    "    if year not in yearly_dict:\n",
    "        yearly_dict[year] = 0\n",
    "    yearly_dict[year] += monthly_dict[key]\n",
    "\n",
    "with open('yearly_blood_demand.json', 'w') as f:\n",
    "    json.dump(yearly_dict, f)"
   ]
  },
  {
   "cell_type": "markdown",
   "metadata": {},
   "source": [
    "#### JSON common items. Year, Month, Source, "
   ]
  },
  {
   "cell_type": "markdown",
   "metadata": {},
   "source": [
    "Now we need to calculate the city demand"
   ]
  },
  {
   "cell_type": "code",
   "execution_count": 30,
   "metadata": {},
   "outputs": [],
   "source": [
    "# preprocess the monthly dict to be fit for Morgan's data structure\n",
    "\n",
    "morgans_data = []\n",
    "\n",
    "for key in monthly_dict:\n",
    "    year = key.split(\"_\")[0]\n",
    "    month = key.split(\"_\")[1]\n",
    "    morgans_data.append({\n",
    "        \"year\": year,\n",
    "        \"month\": month,\n",
    "        \"value\": monthly_dict[key]\n",
    "    })\n",
    "\n",
    "# save as json\n",
    "with open('morgans_data.json', 'w') as f:\n",
    "    json.dump(morgans_data, f)"
   ]
  },
  {
   "cell_type": "code",
   "execution_count": null,
   "metadata": {},
   "outputs": [],
   "source": []
  }
 ],
 "metadata": {
  "kernelspec": {
   "display_name": ".venv",
   "language": "python",
   "name": "python3"
  },
  "language_info": {
   "codemirror_mode": {
    "name": "ipython",
    "version": 3
   },
   "file_extension": ".py",
   "mimetype": "text/x-python",
   "name": "python",
   "nbconvert_exporter": "python",
   "pygments_lexer": "ipython3",
   "version": "3.10.11"
  }
 },
 "nbformat": 4,
 "nbformat_minor": 2
}
