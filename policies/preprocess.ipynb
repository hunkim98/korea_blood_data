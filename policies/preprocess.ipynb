{
 "cells": [
  {
   "cell_type": "code",
   "execution_count": 36,
   "metadata": {},
   "outputs": [],
   "source": [
    "import pandas as pd\n",
    "import numpy as np\n",
    "import json"
   ]
  },
  {
   "cell_type": "code",
   "execution_count": 37,
   "metadata": {},
   "outputs": [
    {
     "data": {
      "text/html": [
       "<div>\n",
       "<style scoped>\n",
       "    .dataframe tbody tr th:only-of-type {\n",
       "        vertical-align: middle;\n",
       "    }\n",
       "\n",
       "    .dataframe tbody tr th {\n",
       "        vertical-align: top;\n",
       "    }\n",
       "\n",
       "    .dataframe thead th {\n",
       "        text-align: right;\n",
       "    }\n",
       "</style>\n",
       "<table border=\"1\" class=\"dataframe\">\n",
       "  <thead>\n",
       "    <tr style=\"text-align: right;\">\n",
       "      <th></th>\n",
       "      <th>content_eng</th>\n",
       "      <th>content_ko</th>\n",
       "      <th>type</th>\n",
       "      <th>target_audience</th>\n",
       "      <th>duration</th>\n",
       "      <th>size</th>\n",
       "      <th>frequency</th>\n",
       "      <th>collaboration</th>\n",
       "      <th>city_labeled</th>\n",
       "      <th>city</th>\n",
       "      <th>start_date</th>\n",
       "      <th>end_date</th>\n",
       "    </tr>\n",
       "  </thead>\n",
       "  <tbody>\n",
       "    <tr>\n",
       "      <th>0</th>\n",
       "      <td>Over 3000 blood donors, recipients, volunteers...</td>\n",
       "      <td>헌혈자 대축제가 2005년 6월 11일 여의도 공원에서 헌혈자와 수혈자, 봉사 원 ...</td>\n",
       "      <td>public event</td>\n",
       "      <td>citizen</td>\n",
       "      <td>single day</td>\n",
       "      <td>national</td>\n",
       "      <td>ad hoc</td>\n",
       "      <td>celebrity, media</td>\n",
       "      <td>Central Seoul</td>\n",
       "      <td>NaN</td>\n",
       "      <td>2005.06.11</td>\n",
       "      <td>NaN</td>\n",
       "    </tr>\n",
       "    <tr>\n",
       "      <th>1</th>\n",
       "      <td>Internaltional Poster Contest on Voluntary Non...</td>\n",
       "      <td>대한적십자사 창립100주년을 맞아 아시아·태평양지역에 헌혈의 중요성을 알리기 위해 ...</td>\n",
       "      <td>competition</td>\n",
       "      <td>teenagers</td>\n",
       "      <td>months long</td>\n",
       "      <td>international</td>\n",
       "      <td>ad hoc</td>\n",
       "      <td>government</td>\n",
       "      <td>none</td>\n",
       "      <td>NaN</td>\n",
       "      <td>2005.05</td>\n",
       "      <td>2005.08</td>\n",
       "    </tr>\n",
       "    <tr>\n",
       "      <th>2</th>\n",
       "      <td>Blood Donor Walkathon to celebrate 100th anniv...</td>\n",
       "      <td>대한적십자사 창립 100주년을 기념하고, 헌혈을 통해 이웃 사랑 실천에 앞장서고 있...</td>\n",
       "      <td>public event</td>\n",
       "      <td>citizen</td>\n",
       "      <td>single day</td>\n",
       "      <td>local</td>\n",
       "      <td>ad hoc</td>\n",
       "      <td>celebrity, community</td>\n",
       "      <td>Central Seoul</td>\n",
       "      <td>NaN</td>\n",
       "      <td>2005.04.19</td>\n",
       "      <td>NaN</td>\n",
       "    </tr>\n",
       "    <tr>\n",
       "      <th>3</th>\n",
       "      <td>Blood Services Headquarters of the Korean Red ...</td>\n",
       "      <td>대한적십자사 혈액관리본부에서는 7월 한 달 동안‘숨겨진 헌혈횟수를 찾아드립니다’이벤...</td>\n",
       "      <td>public event</td>\n",
       "      <td>citizen</td>\n",
       "      <td>months long</td>\n",
       "      <td>national</td>\n",
       "      <td>ad hoc</td>\n",
       "      <td>none</td>\n",
       "      <td>none</td>\n",
       "      <td>NaN</td>\n",
       "      <td>2005.07</td>\n",
       "      <td>NaN</td>\n",
       "    </tr>\n",
       "    <tr>\n",
       "      <th>4</th>\n",
       "      <td>The Korean Red Cross and the Traffic channel T...</td>\n",
       "      <td>대한적십자사는 TBS 교통방송과 공동으로‘헌혈로 사랑을 등록하세요 - 교통방송과 함...</td>\n",
       "      <td>broadcast campaigns</td>\n",
       "      <td>citizen</td>\n",
       "      <td>single day</td>\n",
       "      <td>national</td>\n",
       "      <td>ad hoc</td>\n",
       "      <td>media</td>\n",
       "      <td>Central Seoul</td>\n",
       "      <td>NaN</td>\n",
       "      <td>2005.02.25</td>\n",
       "      <td>NaN</td>\n",
       "    </tr>\n",
       "  </tbody>\n",
       "</table>\n",
       "</div>"
      ],
      "text/plain": [
       "                                         content_eng  \\\n",
       "0  Over 3000 blood donors, recipients, volunteers...   \n",
       "1  Internaltional Poster Contest on Voluntary Non...   \n",
       "2  Blood Donor Walkathon to celebrate 100th anniv...   \n",
       "3  Blood Services Headquarters of the Korean Red ...   \n",
       "4  The Korean Red Cross and the Traffic channel T...   \n",
       "\n",
       "                                          content_ko                 type  \\\n",
       "0  헌혈자 대축제가 2005년 6월 11일 여의도 공원에서 헌혈자와 수혈자, 봉사 원 ...         public event   \n",
       "1  대한적십자사 창립100주년을 맞아 아시아·태평양지역에 헌혈의 중요성을 알리기 위해 ...          competition   \n",
       "2  대한적십자사 창립 100주년을 기념하고, 헌혈을 통해 이웃 사랑 실천에 앞장서고 있...         public event   \n",
       "3  대한적십자사 혈액관리본부에서는 7월 한 달 동안‘숨겨진 헌혈횟수를 찾아드립니다’이벤...         public event   \n",
       "4  대한적십자사는 TBS 교통방송과 공동으로‘헌혈로 사랑을 등록하세요 - 교통방송과 함...  broadcast campaigns   \n",
       "\n",
       "  target_audience     duration           size frequency         collaboration  \\\n",
       "0         citizen   single day       national    ad hoc      celebrity, media   \n",
       "1       teenagers  months long  international    ad hoc            government   \n",
       "2         citizen   single day          local    ad hoc  celebrity, community   \n",
       "3         citizen  months long       national    ad hoc                  none   \n",
       "4         citizen   single day       national    ad hoc                 media   \n",
       "\n",
       "    city_labeled city  start_date end_date  \n",
       "0  Central Seoul  NaN  2005.06.11      NaN  \n",
       "1           none  NaN     2005.05  2005.08  \n",
       "2  Central Seoul  NaN  2005.04.19      NaN  \n",
       "3           none  NaN     2005.07      NaN  \n",
       "4  Central Seoul  NaN  2005.02.25      NaN  "
      ]
     },
     "execution_count": 37,
     "metadata": {},
     "output_type": "execute_result"
    }
   ],
   "source": [
    "policy_data = pd.read_csv('korean_blood_policies_raw.csv')\n",
    "policy_data.head()"
   ]
  },
  {
   "cell_type": "code",
   "execution_count": 38,
   "metadata": {},
   "outputs": [
    {
     "name": "stdout",
     "output_type": "stream",
     "text": [
      "['public event' 'competition' 'broadcast campaigns' 'policy reform'\n",
      " 'infrastructure improvement' 'conference' 'corporation event'\n",
      " 'community event' 'education' 'partnership' 'internal event'\n",
      " 'government event']\n",
      "12\n"
     ]
    }
   ],
   "source": [
    "print(policy_data['type'].unique())\n",
    "print(policy_data['type'].unique().__len__())\n"
   ]
  },
  {
   "cell_type": "code",
   "execution_count": 39,
   "metadata": {},
   "outputs": [
    {
     "name": "stdout",
     "output_type": "stream",
     "text": [
      "['citizen' 'teenagers' 'institutions' 'blood donors' 'corporations'\n",
      " 'university' 'hospital' 'community' 'government']\n",
      "9\n"
     ]
    }
   ],
   "source": [
    "print(policy_data['target_audience'].unique())\n",
    "print(policy_data['target_audience'].unique().__len__())"
   ]
  },
  {
   "cell_type": "code",
   "execution_count": 40,
   "metadata": {},
   "outputs": [
    {
     "name": "stdout",
     "output_type": "stream",
     "text": [
      "['single day' 'months long' 'ongoing' 'multi day']\n",
      "['national' 'international' 'local']\n",
      "['ad hoc' 'yearly' 'monthly']\n",
      "['celebrity, media' 'government' 'celebrity, community' 'none' 'media'\n",
      " 'community' 'media, celebrity' 'corporation' 'university' 'hospital'\n",
      " 'government, corporation' 'celebrity' 'government, celebrity'\n",
      " 'hospital, community, celebrity' 'media, corporation, community'\n",
      " 'media, community' 'university, corporation' 'celebrity, government'\n",
      " 'government, university' 'university, hospital' 'government, community'\n",
      " 'government, university, corporation']\n"
     ]
    }
   ],
   "source": [
    "print(policy_data[\"duration\"].unique())\n",
    "print(policy_data[\"size\"].unique())\n",
    "print(policy_data[\"frequency\"].unique())\n",
    "print(policy_data[\"collaboration\"].unique())"
   ]
  },
  {
   "cell_type": "markdown",
   "metadata": {},
   "source": [
    "## Todo\n",
    "\n",
    "1. We have to create data with year month end_year end_month index"
   ]
  },
  {
   "cell_type": "code",
   "execution_count": 54,
   "metadata": {},
   "outputs": [],
   "source": [
    "# iterate to create new csv\n",
    "\n",
    "# empty_csv = pd.DataFrame(columns=[\"year\", \"month\", \"day\", \"city\" \\\n",
    "#                                   \"end_year\", \"end_month\", \"index\"\\\n",
    "#                                   'type', 'target_audience', 'duration', 'size', 'frequency', 'collaboration'])\n",
    "empty_data = []\n",
    "for index, row in policy_data.iterrows():\n",
    "    cities = row[\"city_labeled\"].split(\",\")\n",
    "    start_date = row[\"start_date\"].split(\",\")\n",
    "    end_date = None\n",
    "    if row[\"end_date\"] is not np.nan:\n",
    "        end_date = row[\"end_date\"].split(\",\")\n",
    "    has_no_city = False\n",
    "    if cities[0] == \"none\":\n",
    "        has_no_city = True\n",
    "    has_multiple_cities = False\n",
    "    if len(cities) > 1:\n",
    "        has_multiple_cities = True\n",
    "    has_end_date = False\n",
    "    if end_date is not None and len(end_date) > 1:\n",
    "        has_end_date = True\n",
    "    has_multiple_start_dates = False\n",
    "    if len(start_date) > 1:\n",
    "        has_multiple_start_dates = True\n",
    "\n",
    "    make_multiple_rows = False\n",
    "\n",
    "\n",
    "    base_data = {\n",
    "        \"content_eng\": row[\"content_eng\"],\n",
    "        \"content_ko\": row[\"content_ko\"],\n",
    "        \"type\": row[\"type\"],\n",
    "        \"target_audience\": row[\"target_audience\"],\n",
    "        \"duration\": row[\"duration\"],\n",
    "        \"size\": row[\"size\"],\n",
    "        \"frequency\": row[\"frequency\"],\n",
    "        \"collaboration\": row[\"collaboration\"],\n",
    "        \"year\": start_date[0].split(\".\")[0],\n",
    "        \"month\": start_date[0].split(\".\")[1] if start_date[0].split(\".\")[1][0] != \"0\" else start_date[0].split(\".\")[1][1],\n",
    "        \"index\": index # this is the index of the row in the original csv\n",
    "    }\n",
    "    if len(start_date[0].split(\".\")) > 2:\n",
    "        base_data[\"day\"] = start_date[0].split(\".\")[2]\n",
    "    if has_end_date:\n",
    "        base_data[\"end_year\"] = end_date[0].split(\".\")[0]\n",
    "        month = end_date[0].split(\".\")[1]\n",
    "        # remove the \"0\" in the beginning if it exists\n",
    "        if month[0] == \"0\":\n",
    "            month = month[1]\n",
    "        base_data[\"end_month\"] = month\n",
    "\n",
    "        if len(end_date[0].split(\".\")) > 2:\n",
    "            base_data[\"end_day\"] = end_date[0].split(\".\")[2]\n",
    "    \n",
    "    if has_multiple_cities:\n",
    "        for city in cities:\n",
    "            copied_base_data = base_data.copy()\n",
    "            copied_base_data[\"city\"] = city\n",
    "            empty_data.append(copied_base_data)\n",
    "    else:\n",
    "        if has_no_city:\n",
    "            empty_data.append(base_data)\n",
    "        else:\n",
    "            base_data[\"city\"] = cities[0]\n",
    "            empty_data.append(base_data)\n",
    "\n",
    "    if has_multiple_start_dates:\n",
    "        for i in range(1, len(start_date)):\n",
    "            # we already added the first date so we skip it\n",
    "            date = start_date[i]\n",
    "            copied_base_data = base_data.copy()\n",
    "            copied_base_data[\"year\"] = date.split(\".\")[0]\n",
    "            month = date.split(\".\")[1]\n",
    "            # remove the \"0\" in the beginning if it exists\n",
    "            if month[0] == \"0\":\n",
    "                month = month[1]\n",
    "            copied_base_data[\"month\"] = month\n",
    "            # check if there is end date too\n",
    "            if has_end_date:\n",
    "                copied_base_data[\"end_year\"] = end_date[i].split(\".\")[0]\n",
    "                month = end_date[i].split(\".\")[1]\n",
    "                # remove the \"0\" in the beginning if it exists\n",
    "                if month[0] == \"0\":\n",
    "                    month = month[1]\n",
    "                copied_base_data[\"end_month\"] = month\n",
    "                if len(end_date[i].split(\".\")) > 2:\n",
    "                    copied_base_data[\"end_day\"] = end_date[i].split(\".\")[2]\n",
    "            if len(date.split(\".\")) > 2:\n",
    "                copied_base_data[\"day\"] = date.split(\".\")[2]\n",
    "            empty_data.append(copied_base_data)\n",
    "            # empty_csv = empty_csv.append(copied_base_data, ignore_index=True)\n",
    "\n",
    "# make empty_data to csv\n",
    "empty_csv = pd.DataFrame(empty_data)\n",
    "\n"
   ]
  },
  {
   "cell_type": "code",
   "execution_count": 55,
   "metadata": {},
   "outputs": [
    {
     "name": "stdout",
     "output_type": "stream",
     "text": [
      "                                         content_eng  \\\n",
      "0  Over 3000 blood donors, recipients, volunteers...   \n",
      "1  Internaltional Poster Contest on Voluntary Non...   \n",
      "2  Blood Donor Walkathon to celebrate 100th anniv...   \n",
      "3  Blood Services Headquarters of the Korean Red ...   \n",
      "4  The Korean Red Cross and the Traffic channel T...   \n",
      "\n",
      "                                          content_ko                 type  \\\n",
      "0  헌혈자 대축제가 2005년 6월 11일 여의도 공원에서 헌혈자와 수혈자, 봉사 원 ...         public event   \n",
      "1  대한적십자사 창립100주년을 맞아 아시아·태평양지역에 헌혈의 중요성을 알리기 위해 ...          competition   \n",
      "2  대한적십자사 창립 100주년을 기념하고, 헌혈을 통해 이웃 사랑 실천에 앞장서고 있...         public event   \n",
      "3  대한적십자사 혈액관리본부에서는 7월 한 달 동안‘숨겨진 헌혈횟수를 찾아드립니다’이벤...         public event   \n",
      "4  대한적십자사는 TBS 교통방송과 공동으로‘헌혈로 사랑을 등록하세요 - 교통방송과 함...  broadcast campaigns   \n",
      "\n",
      "  target_audience     duration           size frequency         collaboration  \\\n",
      "0         citizen   single day       national    ad hoc      celebrity, media   \n",
      "1       teenagers  months long  international    ad hoc            government   \n",
      "2         citizen   single day          local    ad hoc  celebrity, community   \n",
      "3         citizen  months long       national    ad hoc                  none   \n",
      "4         citizen   single day       national    ad hoc                 media   \n",
      "\n",
      "   year month  index  day           city end_year end_month end_day  \n",
      "0  2005     6      0   11  Central Seoul      NaN       NaN     NaN  \n",
      "1  2005     5      1  NaN            NaN      NaN       NaN     NaN  \n",
      "2  2005     4      2   19  Central Seoul      NaN       NaN     NaN  \n",
      "3  2005     7      3  NaN            NaN      NaN       NaN     NaN  \n",
      "4  2005     2      4   25  Central Seoul      NaN       NaN     NaN  \n"
     ]
    }
   ],
   "source": [
    "print(empty_csv.head())\n",
    "empty_csv.to_csv(\"korean_blood_policies_preprocessed.csv\", index=False)"
   ]
  },
  {
   "cell_type": "code",
   "execution_count": 65,
   "metadata": {},
   "outputs": [
    {
     "name": "stdout",
     "output_type": "stream",
     "text": [
      "[1, 2, 3, 4, 5, 6, 7, 8, 9, 10, 11, 12]\n",
      "[nan '5' '11']\n",
      "[2005, 2006, 2007, 2007, 2008, 2008, 2009, 2009, 2010, 2010, 2011, 2011, 2012, 2012, 2013, 2013, 2014, 2014, 2015, 2016, 2016, 2017, 2018, 2018, 2019, 2020, 2020, 2021, 2021, 2022, 2022, 2023]\n"
     ]
    }
   ],
   "source": [
    "start_months = empty_csv[\"month\"].unique().astype(int).tolist()\n",
    "start_months.sort()\n",
    "print(start_months)\n",
    "\n",
    "end_months = empty_csv[\"end_month\"].unique()\n",
    "print(end_months)\n",
    "\n",
    "start_years = empty_csv[\"year\"].unique().astype(int).tolist()\n",
    "start_years.sort()\n",
    "print(start_years)"
   ]
  },
  {
   "cell_type": "code",
   "execution_count": null,
   "metadata": {},
   "outputs": [],
   "source": []
  }
 ],
 "metadata": {
  "kernelspec": {
   "display_name": ".venv",
   "language": "python",
   "name": "python3"
  },
  "language_info": {
   "codemirror_mode": {
    "name": "ipython",
    "version": 3
   },
   "file_extension": ".py",
   "mimetype": "text/x-python",
   "name": "python",
   "nbconvert_exporter": "python",
   "pygments_lexer": "ipython3",
   "version": "3.10.11"
  }
 },
 "nbformat": 4,
 "nbformat_minor": 2
}
