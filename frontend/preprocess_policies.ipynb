{
 "cells": [
  {
   "cell_type": "code",
   "execution_count": 62,
   "metadata": {},
   "outputs": [],
   "source": [
    "import pandas as pd\n",
    "import numpy as np"
   ]
  },
  {
   "cell_type": "code",
   "execution_count": 63,
   "metadata": {},
   "outputs": [],
   "source": [
    "policy_df = pd.read_csv('korean_blood_policies_preprocessed.csv')"
   ]
  },
  {
   "cell_type": "markdown",
   "metadata": {},
   "source": [
    "All columns should have city, year, month"
   ]
  },
  {
   "cell_type": "code",
   "execution_count": 64,
   "metadata": {},
   "outputs": [
    {
     "name": "stdout",
     "output_type": "stream",
     "text": [
      "['Seoul' nan 'Daejeon/Chungnam' 'Gyeongnam' 'Jeju' 'Daegu/Gyeongbuk'\n",
      " 'Ulsan' 'Gangwon' 'Incheon' 'Gyeonggi' 'Busan' 'Chungbuk' 'Jeonbuk'\n",
      " 'Jeonnam' 'Jeonam']\n",
      "['Seoul' nan 'Daejeon/Chungnam' 'Gyeongnam' 'Jeju' 'Daegu/Gyeongbuk'\n",
      " 'Ulsan' 'Gangwon' 'Incheon' 'Gyeonggi' 'Busan' 'Chungbuk' 'Jeonbuk'\n",
      " 'Jeonnam' 'Jeonam']\n"
     ]
    }
   ],
   "source": [
    "cities = policy_df['city'].unique()\n",
    "print(cities)\n",
    "\n",
    "# change all the columns that end have Seoul in its city column to just \"Seoul\"\n",
    "policy_df['city'] = policy_df['city'].str.replace('Eastern Seoul', 'Seoul')\n",
    "policy_df['city'] = policy_df['city'].str.replace('Western Seoul', 'Seoul')\n",
    "policy_df['city'] = policy_df['city'].str.replace('Southern Seoul', 'Seoul')\n",
    "policy_df['city'] = policy_df['city'].str.replace('Central Seoul', 'Seoul')\n",
    "\n",
    "print(policy_df['city'].unique())\n",
    "\n",
    "# remove the spaces in the column \n",
    "# policy_df.columns = policy_df.columns.str.strip()\n",
    "\n",
    "# print(policy_df.columns)"
   ]
  },
  {
   "cell_type": "code",
   "execution_count": 65,
   "metadata": {},
   "outputs": [
    {
     "data": {
      "text/plain": [
       "array(['celebrity,media', 'government', 'celebrity,community', nan,\n",
       "       'media', 'community', 'media,celebrity', 'corporation',\n",
       "       'university', 'hospital', 'government,corporation', 'celebrity',\n",
       "       'government,celebrity', 'hospital,community,celebrity',\n",
       "       'media,corporation,community', 'media,community',\n",
       "       'university,corporation', 'celebrity,government',\n",
       "       'government,university', 'university,hospital',\n",
       "       'government,community', 'government,university,corporation'],\n",
       "      dtype=object)"
      ]
     },
     "execution_count": 65,
     "metadata": {},
     "output_type": "execute_result"
    }
   ],
   "source": [
    "policy_df[\"collaboration\"].unique()"
   ]
  },
  {
   "cell_type": "code",
   "execution_count": 66,
   "metadata": {},
   "outputs": [
    {
     "data": {
      "text/plain": [
       "0                        celebrity,media\n",
       "1                             government\n",
       "2                    celebrity,community\n",
       "3                                    nan\n",
       "4                                  media\n",
       "                     ...                \n",
       "416                           government\n",
       "417    government,university,corporation\n",
       "418                            community\n",
       "419                                  nan\n",
       "420                          corporation\n",
       "Name: collaboration, Length: 421, dtype: object"
      ]
     },
     "execution_count": 66,
     "metadata": {},
     "output_type": "execute_result"
    }
   ],
   "source": [
    "policy_df[\"collaboration\"].astype(str)"
   ]
  },
  {
   "cell_type": "code",
   "execution_count": 67,
   "metadata": {},
   "outputs": [],
   "source": [
    "policy_df[\"collaboration\"] = policy_df[\"collaboration\"].str.replace(\", \", \",\")\n",
    "policy_df[\"collaboration\"] = policy_df[\"collaboration\"].str.replace(\" ,\", \",\")"
   ]
  },
  {
   "cell_type": "code",
   "execution_count": 61,
   "metadata": {},
   "outputs": [
    {
     "data": {
      "text/plain": [
       "array([nan])"
      ]
     },
     "execution_count": 61,
     "metadata": {},
     "output_type": "execute_result"
    }
   ],
   "source": [
    "policy_df[\"collaboration\"].unique()"
   ]
  },
  {
   "cell_type": "code",
   "execution_count": 69,
   "metadata": {},
   "outputs": [],
   "source": [
    "# change the order of the columns\n",
    "all_cols = policy_df.columns.tolist()\n",
    "\n",
    "# have city, year, month at the beginning\n",
    "all_cols = ['city', 'year', 'month'] + [col for col in all_cols if col not in ['city', 'year', 'month']]\n",
    "\n",
    "policy_df = policy_df[all_cols]\n",
    "\n",
    "# save the new csv\n",
    "policy_df.to_csv('policies.csv', index=False)\n",
    "\n",
    "# change the collaboration column to an array of strings\n",
    "policy_df['collaboration'] = policy_df['collaboration'].str.split(',')\n"
   ]
  },
  {
   "cell_type": "code",
   "execution_count": 70,
   "metadata": {},
   "outputs": [],
   "source": [
    "policy_df.to_json('processed_policies.json', orient='records', force_ascii=False)\n",
    "\n"
   ]
  },
  {
   "cell_type": "code",
   "execution_count": null,
   "metadata": {},
   "outputs": [],
   "source": []
  },
  {
   "cell_type": "code",
   "execution_count": null,
   "metadata": {},
   "outputs": [],
   "source": []
  }
 ],
 "metadata": {
  "kernelspec": {
   "display_name": ".venv",
   "language": "python",
   "name": "python3"
  },
  "language_info": {
   "codemirror_mode": {
    "name": "ipython",
    "version": 3
   },
   "file_extension": ".py",
   "mimetype": "text/x-python",
   "name": "python",
   "nbconvert_exporter": "python",
   "pygments_lexer": "ipython3",
   "version": "3.10.11"
  }
 },
 "nbformat": 4,
 "nbformat_minor": 2
}
