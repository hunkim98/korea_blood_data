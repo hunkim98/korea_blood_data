{
 "cells": [
  {
   "cell_type": "code",
   "execution_count": 245,
   "metadata": {},
   "outputs": [],
   "source": [
    "import pandas as pd\n",
    "import numpy as np"
   ]
  },
  {
   "cell_type": "code",
   "execution_count": 246,
   "metadata": {},
   "outputs": [],
   "source": [
    "df = pd.read_csv('2. Monthly.csv')"
   ]
  },
  {
   "cell_type": "code",
   "execution_count": 247,
   "metadata": {},
   "outputs": [
    {
     "data": {
      "text/html": [
       "<div>\n",
       "<style scoped>\n",
       "    .dataframe tbody tr th:only-of-type {\n",
       "        vertical-align: middle;\n",
       "    }\n",
       "\n",
       "    .dataframe tbody tr th {\n",
       "        vertical-align: top;\n",
       "    }\n",
       "\n",
       "    .dataframe thead th {\n",
       "        text-align: right;\n",
       "    }\n",
       "</style>\n",
       "<table border=\"1\" class=\"dataframe\">\n",
       "  <thead>\n",
       "    <tr style=\"text-align: right;\">\n",
       "      <th></th>\n",
       "      <th>Gender</th>\n",
       "      <th>Monthly</th>\n",
       "      <th>Donation Source</th>\n",
       "      <th>Category</th>\n",
       "      <th>Unit</th>\n",
       "      <th>2005</th>\n",
       "      <th>2006</th>\n",
       "      <th>2007</th>\n",
       "      <th>2008</th>\n",
       "      <th>2009</th>\n",
       "      <th>...</th>\n",
       "      <th>2015</th>\n",
       "      <th>2016</th>\n",
       "      <th>2017</th>\n",
       "      <th>2018</th>\n",
       "      <th>2019</th>\n",
       "      <th>2020</th>\n",
       "      <th>2021</th>\n",
       "      <th>2022</th>\n",
       "      <th>2023</th>\n",
       "      <th>month</th>\n",
       "    </tr>\n",
       "  </thead>\n",
       "  <tbody>\n",
       "    <tr>\n",
       "      <th>0</th>\n",
       "      <td>Men+Women</td>\n",
       "      <td>January</td>\n",
       "      <td>Total</td>\n",
       "      <td>Donation Count</td>\n",
       "      <td>Unit</td>\n",
       "      <td>169087.0</td>\n",
       "      <td>176015.0</td>\n",
       "      <td>187538.0</td>\n",
       "      <td>201135.0</td>\n",
       "      <td>190237.0</td>\n",
       "      <td>...</td>\n",
       "      <td>257355.0</td>\n",
       "      <td>248426.0</td>\n",
       "      <td>219578.0</td>\n",
       "      <td>237893.0</td>\n",
       "      <td>238712.0</td>\n",
       "      <td>206758.0</td>\n",
       "      <td>213118.0</td>\n",
       "      <td>189598.0</td>\n",
       "      <td>200795.0</td>\n",
       "      <td>1</td>\n",
       "    </tr>\n",
       "    <tr>\n",
       "      <th>1</th>\n",
       "      <td>Men+Women</td>\n",
       "      <td>January</td>\n",
       "      <td>Total</td>\n",
       "      <td>Composition Rate[%]</td>\n",
       "      <td>%</td>\n",
       "      <td>7.4</td>\n",
       "      <td>7.6</td>\n",
       "      <td>9.0</td>\n",
       "      <td>8.6</td>\n",
       "      <td>7.4</td>\n",
       "      <td>...</td>\n",
       "      <td>8.3</td>\n",
       "      <td>8.7</td>\n",
       "      <td>7.5</td>\n",
       "      <td>8.3</td>\n",
       "      <td>8.6</td>\n",
       "      <td>7.9</td>\n",
       "      <td>8.2</td>\n",
       "      <td>7.2</td>\n",
       "      <td>7.2</td>\n",
       "      <td>1</td>\n",
       "    </tr>\n",
       "    <tr>\n",
       "      <th>2</th>\n",
       "      <td>Men+Women</td>\n",
       "      <td>January</td>\n",
       "      <td>Korean Red Cross</td>\n",
       "      <td>Donation Count</td>\n",
       "      <td>Unit</td>\n",
       "      <td>165863.0</td>\n",
       "      <td>173132.0</td>\n",
       "      <td>182945.0</td>\n",
       "      <td>195331.0</td>\n",
       "      <td>182670.0</td>\n",
       "      <td>...</td>\n",
       "      <td>241385.0</td>\n",
       "      <td>231909.0</td>\n",
       "      <td>203609.0</td>\n",
       "      <td>221066.0</td>\n",
       "      <td>223703.0</td>\n",
       "      <td>194040.0</td>\n",
       "      <td>200754.0</td>\n",
       "      <td>175710.0</td>\n",
       "      <td>185559.0</td>\n",
       "      <td>1</td>\n",
       "    </tr>\n",
       "    <tr>\n",
       "      <th>3</th>\n",
       "      <td>Men+Women</td>\n",
       "      <td>January</td>\n",
       "      <td>Korean Red Cross</td>\n",
       "      <td>Composition Rate[%]</td>\n",
       "      <td>%</td>\n",
       "      <td>7.5</td>\n",
       "      <td>7.7</td>\n",
       "      <td>9.0</td>\n",
       "      <td>8.6</td>\n",
       "      <td>7.4</td>\n",
       "      <td>...</td>\n",
       "      <td>8.4</td>\n",
       "      <td>8.8</td>\n",
       "      <td>7.5</td>\n",
       "      <td>8.2</td>\n",
       "      <td>8.6</td>\n",
       "      <td>8.0</td>\n",
       "      <td>8.3</td>\n",
       "      <td>7.2</td>\n",
       "      <td>7.3</td>\n",
       "      <td>1</td>\n",
       "    </tr>\n",
       "    <tr>\n",
       "      <th>4</th>\n",
       "      <td>Men+Women</td>\n",
       "      <td>January</td>\n",
       "      <td>Central Seoul</td>\n",
       "      <td>Donation Count</td>\n",
       "      <td>Unit</td>\n",
       "      <td>15577.0</td>\n",
       "      <td>17563.0</td>\n",
       "      <td>17631.0</td>\n",
       "      <td>21047.0</td>\n",
       "      <td>16614.0</td>\n",
       "      <td>...</td>\n",
       "      <td>NaN</td>\n",
       "      <td>NaN</td>\n",
       "      <td>NaN</td>\n",
       "      <td>24809.0</td>\n",
       "      <td>23563.0</td>\n",
       "      <td>19831.0</td>\n",
       "      <td>17856.0</td>\n",
       "      <td>16737.0</td>\n",
       "      <td>17767.0</td>\n",
       "      <td>1</td>\n",
       "    </tr>\n",
       "  </tbody>\n",
       "</table>\n",
       "<p>5 rows × 25 columns</p>\n",
       "</div>"
      ],
      "text/plain": [
       "      Gender  Monthly   Donation Source             Category  Unit      2005  \\\n",
       "0  Men+Women  January             Total       Donation Count  Unit  169087.0   \n",
       "1  Men+Women  January             Total  Composition Rate[%]     %       7.4   \n",
       "2  Men+Women  January  Korean Red Cross       Donation Count  Unit  165863.0   \n",
       "3  Men+Women  January  Korean Red Cross  Composition Rate[%]     %       7.5   \n",
       "4  Men+Women  January     Central Seoul       Donation Count  Unit   15577.0   \n",
       "\n",
       "       2006      2007      2008      2009  ...      2015      2016      2017  \\\n",
       "0  176015.0  187538.0  201135.0  190237.0  ...  257355.0  248426.0  219578.0   \n",
       "1       7.6       9.0       8.6       7.4  ...       8.3       8.7       7.5   \n",
       "2  173132.0  182945.0  195331.0  182670.0  ...  241385.0  231909.0  203609.0   \n",
       "3       7.7       9.0       8.6       7.4  ...       8.4       8.8       7.5   \n",
       "4   17563.0   17631.0   21047.0   16614.0  ...       NaN       NaN       NaN   \n",
       "\n",
       "       2018      2019      2020      2021      2022      2023  month  \n",
       "0  237893.0  238712.0  206758.0  213118.0  189598.0  200795.0      1  \n",
       "1       8.3       8.6       7.9       8.2       7.2       7.2      1  \n",
       "2  221066.0  223703.0  194040.0  200754.0  175710.0  185559.0      1  \n",
       "3       8.2       8.6       8.0       8.3       7.2       7.3      1  \n",
       "4   24809.0   23563.0   19831.0   17856.0   16737.0   17767.0      1  \n",
       "\n",
       "[5 rows x 25 columns]"
      ]
     },
     "execution_count": 247,
     "metadata": {},
     "output_type": "execute_result"
    }
   ],
   "source": [
    "df.head()"
   ]
  },
  {
   "cell_type": "code",
   "execution_count": 248,
   "metadata": {},
   "outputs": [],
   "source": [
    "# remove column that has unnamed in it\n",
    "\n",
    "df = df.loc[:, ~df.columns.str.contains('^Unnamed')]"
   ]
  },
  {
   "cell_type": "code",
   "execution_count": 249,
   "metadata": {},
   "outputs": [
    {
     "data": {
      "text/plain": [
       "Index(['Gender', 'Monthly', 'Donation Source', 'Category', 'Unit', '2005',\n",
       "       '2006', '2007', '2008', '2009', '2010', '2011', '2012', '2013', '2014',\n",
       "       '2015', '2016', '2017', '2018', '2019', '2020', '2021', '2022', '2023',\n",
       "       'month'],\n",
       "      dtype='object')"
      ]
     },
     "execution_count": 249,
     "metadata": {},
     "output_type": "execute_result"
    }
   ],
   "source": [
    "df.columns"
   ]
  },
  {
   "cell_type": "code",
   "execution_count": 250,
   "metadata": {},
   "outputs": [],
   "source": [
    "policy_df = pd.read_csv('policies.csv')\n",
    "\n",
    "cities = policy_df['city'].unique()"
   ]
  },
  {
   "cell_type": "code",
   "execution_count": 251,
   "metadata": {},
   "outputs": [
    {
     "name": "stdout",
     "output_type": "stream",
     "text": [
      "['Seoul' nan 'Daejeon/Chungnam' 'Gyeongnam' 'Jeju' 'Daegu/Gyeongbuk'\n",
      " 'Ulsan' 'Gangwon' 'Incheon' 'Gyeonggi' 'Busan' 'Chungbuk' 'Jeonbuk'\n",
      " 'Jeonnam']\n"
     ]
    }
   ],
   "source": [
    "print(cities)"
   ]
  },
  {
   "cell_type": "code",
   "execution_count": 252,
   "metadata": {},
   "outputs": [
    {
     "data": {
      "text/plain": [
       "array(['Total', 'Korean Red Cross', 'Central Seoul', 'Western Seoul',\n",
       "       'Southern Seoul', 'Eastern Seoul', 'Busan', 'Daegu/Gyeongbuk',\n",
       "       'Incheon', 'Ulsan', 'Gyeonggi', 'Gangwon', 'Chungbuk',\n",
       "       'Daejeon/Chungnam', 'Jeonbuk', 'Jeonnam', 'Gyeongnam', 'Jeju',\n",
       "       'Outside of Korean Red Cross'], dtype=object)"
      ]
     },
     "execution_count": 252,
     "metadata": {},
     "output_type": "execute_result"
    }
   ],
   "source": [
    "df['Donation Source'].unique()\n"
   ]
  },
  {
   "cell_type": "code",
   "execution_count": 253,
   "metadata": {},
   "outputs": [],
   "source": [
    "set(cities) - set(df['Donation Source'].unique())\n",
    "\n",
    "# save the data to a csv file\n",
    "df.to_csv('2. Monthly.csv', index=False)"
   ]
  },
  {
   "cell_type": "code",
   "execution_count": 254,
   "metadata": {},
   "outputs": [],
   "source": [
    "# delete the rows that have column \"Monthly\" as \"Total\"\n",
    "df = df[df['Monthly'] != 'Total']"
   ]
  },
  {
   "cell_type": "code",
   "execution_count": 255,
   "metadata": {},
   "outputs": [
    {
     "name": "stdout",
     "output_type": "stream",
     "text": [
      "['2006', '2007', '2008', '2009', '2010', '2011', '2012', '2013', '2014', '2015', '2016', '2017', '2018', '2019', '2020', '2021', '2022', '2023']\n",
      "0\n"
     ]
    }
   ],
   "source": [
    "\n",
    "years = [str(i) for i in range(2006, 2024)]\n",
    "\n",
    "months = {\n",
    "    \"January\": 1,\n",
    "    \"February\": 2,\n",
    "    \"March\": 3,\n",
    "    \"April\": 4,\n",
    "    \"May\": 5,\n",
    "    \"June\": 6,\n",
    "    \"July\": 7,\n",
    "    \"August\": 8,\n",
    "    \"September\": 9,\n",
    "    \"October\": 10,\n",
    "    \"November\": 11,\n",
    "    \"December\": 12\n",
    "}\n",
    "\n",
    "# create a month column in the df \n",
    "df['month'] = df['Monthly'].map(months)\n",
    "\n",
    "print(years)\n",
    "\n",
    "print(df[\"month\"].isnull().sum())\n"
   ]
  },
  {
   "cell_type": "code",
   "execution_count": 256,
   "metadata": {},
   "outputs": [],
   "source": [
    "total_dict = {} # the key will be the year_month_city\n",
    "women_dict = {}\n",
    "men_dict = {}\n",
    "\n",
    "for idx, row in df.iterrows():\n",
    "    gender = row[\"Gender\"]\n",
    "    city = row['Donation Source']\n",
    "    month = row['month']\n",
    "    category = row['Category']\n",
    "\n",
    "    # all other rows are the year\n",
    "    for year in years:\n",
    "        key = None\n",
    "        if category == \"Donation Count\":\n",
    "            key = f\"{year}_{month}_{city}_unit\"\n",
    "        elif category == \"Composition Rate[%]\":\n",
    "            key = f\"{year}_{month}_{city}_rate\"\n",
    "\n",
    "        if key is None:\n",
    "            raise Exception(\"Key is None\")\n",
    "        \n",
    "        val = row[year]\n",
    "\n",
    "        if gender == \"Men+Women\":\n",
    "            # it means total\n",
    "            total_dict[key] = val\n",
    "            continue\n",
    "\n",
    "        elif gender == \"Men\":\n",
    "            # it means men\n",
    "            men_dict[key] = val\n",
    "\n",
    "        \n",
    "        elif gender == \"Women\":\n",
    "            # it means women\n",
    "            women_dict[key] = val\n",
    "        \n",
    "        else:\n",
    "            raise Exception(\"Unknown gender\", gender)\n",
    "\n"
   ]
  },
  {
   "cell_type": "code",
   "execution_count": 257,
   "metadata": {},
   "outputs": [
    {
     "name": "stdout",
     "output_type": "stream",
     "text": [
      "8208\n",
      "8208\n",
      "8208\n"
     ]
    }
   ],
   "source": [
    "print(len(total_dict))\n",
    "print(len(men_dict))\n",
    "print(len(women_dict))"
   ]
  },
  {
   "cell_type": "code",
   "execution_count": 258,
   "metadata": {},
   "outputs": [],
   "source": [
    "material = {\n",
    "    \"city\": [],\n",
    "    \"year\": [],\n",
    "    \"month\": [],\n",
    "    \"composition_rate\": [],\n",
    "    \"total_unit\": [],\n",
    "    \"women_unit\": [],\n",
    "    \"men_unit\": []\n",
    "}\n",
    "\n",
    "# now we can create a data frame\n",
    "\n",
    "for key in total_dict:\n",
    "    year, month, city, unit = key.split(\"_\")\n",
    "    val = total_dict[key]\n",
    "\n",
    "    if unit == \"unit\":\n",
    "        material[\"city\"].append(city)\n",
    "        material[\"year\"].append(year)\n",
    "        material[\"month\"].append(month)\n",
    "        material[\"total_unit\"].append(val)\n",
    "    elif unit == \"rate\":\n",
    "        material[\"composition_rate\"].append(val)\n",
    "    else:\n",
    "        raise Exception(\"Unknown unit\", unit)\n",
    "    \n",
    "for key in men_dict:\n",
    "    city, year, month, unit = key.split(\"_\")\n",
    "    val = men_dict[key]\n",
    "\n",
    "    if unit == \"unit\":\n",
    "        material[\"men_unit\"].append(val)\n",
    "\n",
    "for key in women_dict:\n",
    "    city, year, month, unit = key.split(\"_\")\n",
    "    val = women_dict[key]\n",
    "\n",
    "    if unit == \"unit\":\n",
    "        material[\"women_unit\"].append(val)\n",
    "    "
   ]
  },
  {
   "cell_type": "code",
   "execution_count": 259,
   "metadata": {},
   "outputs": [
    {
     "name": "stdout",
     "output_type": "stream",
     "text": [
      "city 4104\n",
      "year 4104\n",
      "month 4104\n",
      "composition_rate 4104\n",
      "total_unit 4104\n",
      "women_unit 4104\n",
      "men_unit 4104\n"
     ]
    }
   ],
   "source": [
    "for key in material:\n",
    "    print(key, len(material[key]))"
   ]
  },
  {
   "cell_type": "code",
   "execution_count": 260,
   "metadata": {},
   "outputs": [],
   "source": [
    "# make it to a dataframe\n",
    "final_df = pd.DataFrame(material)\n",
    "\n",
    "# sort by city, year and month\n",
    "final_df = final_df.sort_values(by=['city', 'year', 'month'])\n",
    "\n",
    "# Remove columns that are not included in the cities\n",
    "\n",
    "final_df = final_df[~final_df['city'].isin([\"Korean Red Cross\", \"Outside of Korean Red Cross\", \"Total\"])]\n",
    "\n",
    "final_df = final_df.replace(\"-\", np.nan)\n",
    "\n",
    "# fill in the nan values with 0\n",
    "final_df = final_df.fillna(0)\n",
    "\n"
   ]
  },
  {
   "cell_type": "code",
   "execution_count": 261,
   "metadata": {},
   "outputs": [
    {
     "name": "stdout",
     "output_type": "stream",
     "text": [
      "['Busan' 'Central Seoul' 'Chungbuk' 'Daegu/Gyeongbuk' 'Daejeon/Chungnam'\n",
      " 'Eastern Seoul' 'Gangwon' 'Gyeonggi' 'Gyeongnam' 'Incheon' 'Jeju'\n",
      " 'Jeonbuk' 'Jeonnam' 'Southern Seoul' 'Ulsan' 'Western Seoul']\n"
     ]
    }
   ],
   "source": [
    "print(final_df[\"city\"].unique())"
   ]
  },
  {
   "cell_type": "code",
   "execution_count": 262,
   "metadata": {},
   "outputs": [
    {
     "data": {
      "text/html": [
       "<div>\n",
       "<style scoped>\n",
       "    .dataframe tbody tr th:only-of-type {\n",
       "        vertical-align: middle;\n",
       "    }\n",
       "\n",
       "    .dataframe tbody tr th {\n",
       "        vertical-align: top;\n",
       "    }\n",
       "\n",
       "    .dataframe thead th {\n",
       "        text-align: right;\n",
       "    }\n",
       "</style>\n",
       "<table border=\"1\" class=\"dataframe\">\n",
       "  <thead>\n",
       "    <tr style=\"text-align: right;\">\n",
       "      <th></th>\n",
       "      <th>city</th>\n",
       "      <th>year</th>\n",
       "      <th>month</th>\n",
       "      <th>composition_rate</th>\n",
       "      <th>total_unit</th>\n",
       "      <th>women_unit</th>\n",
       "      <th>men_unit</th>\n",
       "    </tr>\n",
       "  </thead>\n",
       "  <tbody>\n",
       "    <tr>\n",
       "      <th>54</th>\n",
       "      <td>Western Seoul</td>\n",
       "      <td>2006</td>\n",
       "      <td>1</td>\n",
       "      <td>6.7</td>\n",
       "      <td>9334.0</td>\n",
       "      <td>1534.0</td>\n",
       "      <td>7800.0</td>\n",
       "    </tr>\n",
       "    <tr>\n",
       "      <th>3132</th>\n",
       "      <td>Western Seoul</td>\n",
       "      <td>2006</td>\n",
       "      <td>10</td>\n",
       "      <td>8.3</td>\n",
       "      <td>11572.0</td>\n",
       "      <td>2370.0</td>\n",
       "      <td>9202.0</td>\n",
       "    </tr>\n",
       "    <tr>\n",
       "      <th>3474</th>\n",
       "      <td>Western Seoul</td>\n",
       "      <td>2006</td>\n",
       "      <td>11</td>\n",
       "      <td>8.6</td>\n",
       "      <td>11872.0</td>\n",
       "      <td>2384.0</td>\n",
       "      <td>9488.0</td>\n",
       "    </tr>\n",
       "    <tr>\n",
       "      <th>3816</th>\n",
       "      <td>Western Seoul</td>\n",
       "      <td>2006</td>\n",
       "      <td>12</td>\n",
       "      <td>10.1</td>\n",
       "      <td>13964.0</td>\n",
       "      <td>1978.0</td>\n",
       "      <td>11986.0</td>\n",
       "    </tr>\n",
       "    <tr>\n",
       "      <th>396</th>\n",
       "      <td>Western Seoul</td>\n",
       "      <td>2006</td>\n",
       "      <td>2</td>\n",
       "      <td>8.2</td>\n",
       "      <td>11299.0</td>\n",
       "      <td>2117.0</td>\n",
       "      <td>9182.0</td>\n",
       "    </tr>\n",
       "    <tr>\n",
       "      <th>...</th>\n",
       "      <td>...</td>\n",
       "      <td>...</td>\n",
       "      <td>...</td>\n",
       "      <td>...</td>\n",
       "      <td>...</td>\n",
       "      <td>...</td>\n",
       "      <td>...</td>\n",
       "    </tr>\n",
       "    <tr>\n",
       "      <th>1439</th>\n",
       "      <td>Western Seoul</td>\n",
       "      <td>2023</td>\n",
       "      <td>5</td>\n",
       "      <td>0</td>\n",
       "      <td>0</td>\n",
       "      <td>0</td>\n",
       "      <td>0</td>\n",
       "    </tr>\n",
       "    <tr>\n",
       "      <th>1781</th>\n",
       "      <td>Western Seoul</td>\n",
       "      <td>2023</td>\n",
       "      <td>6</td>\n",
       "      <td>0</td>\n",
       "      <td>0</td>\n",
       "      <td>0</td>\n",
       "      <td>0</td>\n",
       "    </tr>\n",
       "    <tr>\n",
       "      <th>2123</th>\n",
       "      <td>Western Seoul</td>\n",
       "      <td>2023</td>\n",
       "      <td>7</td>\n",
       "      <td>0</td>\n",
       "      <td>0</td>\n",
       "      <td>0</td>\n",
       "      <td>0</td>\n",
       "    </tr>\n",
       "    <tr>\n",
       "      <th>2465</th>\n",
       "      <td>Western Seoul</td>\n",
       "      <td>2023</td>\n",
       "      <td>8</td>\n",
       "      <td>0</td>\n",
       "      <td>0</td>\n",
       "      <td>0</td>\n",
       "      <td>0</td>\n",
       "    </tr>\n",
       "    <tr>\n",
       "      <th>2807</th>\n",
       "      <td>Western Seoul</td>\n",
       "      <td>2023</td>\n",
       "      <td>9</td>\n",
       "      <td>0</td>\n",
       "      <td>0</td>\n",
       "      <td>0</td>\n",
       "      <td>0</td>\n",
       "    </tr>\n",
       "  </tbody>\n",
       "</table>\n",
       "<p>216 rows × 7 columns</p>\n",
       "</div>"
      ],
      "text/plain": [
       "               city  year month composition_rate total_unit women_unit  \\\n",
       "54    Western Seoul  2006     1              6.7     9334.0     1534.0   \n",
       "3132  Western Seoul  2006    10              8.3    11572.0     2370.0   \n",
       "3474  Western Seoul  2006    11              8.6    11872.0     2384.0   \n",
       "3816  Western Seoul  2006    12             10.1    13964.0     1978.0   \n",
       "396   Western Seoul  2006     2              8.2    11299.0     2117.0   \n",
       "...             ...   ...   ...              ...        ...        ...   \n",
       "1439  Western Seoul  2023     5                0          0          0   \n",
       "1781  Western Seoul  2023     6                0          0          0   \n",
       "2123  Western Seoul  2023     7                0          0          0   \n",
       "2465  Western Seoul  2023     8                0          0          0   \n",
       "2807  Western Seoul  2023     9                0          0          0   \n",
       "\n",
       "     men_unit  \n",
       "54     7800.0  \n",
       "3132   9202.0  \n",
       "3474   9488.0  \n",
       "3816  11986.0  \n",
       "396    9182.0  \n",
       "...       ...  \n",
       "1439        0  \n",
       "1781        0  \n",
       "2123        0  \n",
       "2465        0  \n",
       "2807        0  \n",
       "\n",
       "[216 rows x 7 columns]"
      ]
     },
     "execution_count": 262,
     "metadata": {},
     "output_type": "execute_result"
    }
   ],
   "source": [
    "final_df[final_df[\"city\"] == \"Western Seoul\"]"
   ]
  },
  {
   "cell_type": "code",
   "execution_count": 263,
   "metadata": {},
   "outputs": [
    {
     "name": "stderr",
     "output_type": "stream",
     "text": [
      "/var/folders/wy/50c5sv7n4wsfhhww_wwjz2tr0000gn/T/ipykernel_42883/2813987408.py:29: FutureWarning: Calling float on a single element Series is deprecated and will raise a TypeError in the future. Use float(ser.iloc[0]) instead\n",
      "  total_unit += float(city_data['total_unit'])\n",
      "/var/folders/wy/50c5sv7n4wsfhhww_wwjz2tr0000gn/T/ipykernel_42883/2813987408.py:30: FutureWarning: Calling float on a single element Series is deprecated and will raise a TypeError in the future. Use float(ser.iloc[0]) instead\n",
      "  composition_rate += float(city_data['composition_rate'])\n",
      "/var/folders/wy/50c5sv7n4wsfhhww_wwjz2tr0000gn/T/ipykernel_42883/2813987408.py:31: FutureWarning: Calling float on a single element Series is deprecated and will raise a TypeError in the future. Use float(ser.iloc[0]) instead\n",
      "  men_unit += float(city_data[\"men_unit\"])\n",
      "/var/folders/wy/50c5sv7n4wsfhhww_wwjz2tr0000gn/T/ipykernel_42883/2813987408.py:32: FutureWarning: Calling float on a single element Series is deprecated and will raise a TypeError in the future. Use float(ser.iloc[0]) instead\n",
      "  women_unit += float(city_data[\"women_unit\"])\n"
     ]
    }
   ],
   "source": [
    "\n",
    "# create new rows \n",
    "\n",
    "add_df = {\n",
    "    \"city\": [],\n",
    "    \"year\": [],\n",
    "    \"month\": [],\n",
    "    \"composition_rate\": [],\n",
    "    \"total_unit\": [],\n",
    "    \"women_unit\": [],\n",
    "    \"men_unit\": []\n",
    "}\n",
    "\n",
    "# We are going to merge the values of Eastern Seoul, Western Seoul, Southern Seoul, Northern Seoul to Seoul\n",
    "\n",
    "for year in years:\n",
    "    for month in range(1, 13):\n",
    "        total_unit = 0\n",
    "        composition_rate = 0\n",
    "        women_unit = 0\n",
    "        men_unit = 0\n",
    "        year = str(year)\n",
    "        for city in final_df['city'].unique():\n",
    "            # check if city contains Seoul\n",
    "            if city.find(\"Seoul\") != -1:\n",
    "                city_data = final_df[final_df['city'] == city]\n",
    "                city_data = city_data[city_data['year'] == str(year)]\n",
    "                city_data = city_data[city_data['month'] == str(month)]\n",
    "                # print(len(city_data))\n",
    "                total_unit += float(city_data['total_unit'])\n",
    "                composition_rate += float(city_data['composition_rate'])\n",
    "                men_unit += float(city_data[\"men_unit\"])\n",
    "                women_unit += float(city_data[\"women_unit\"])\n",
    "            \n",
    "        add_df['city'].append(\"Seoul\")\n",
    "        add_df['year'].append(year)\n",
    "        add_df['month'].append(month)\n",
    "        add_df['total_unit'].append(total_unit)\n",
    "        add_df['composition_rate'].append(round(composition_rate, 2))\n",
    "        add_df[\"men_unit\"].append(men_unit)\n",
    "        add_df[\"women_unit\"].append(women_unit)\n",
    "\n"
   ]
  },
  {
   "cell_type": "code",
   "execution_count": 264,
   "metadata": {},
   "outputs": [],
   "source": [
    "# append add_df to final_df\n",
    "add_df = pd.DataFrame(add_df)\n",
    "\n",
    "final_df = pd.concat([final_df, add_df])"
   ]
  },
  {
   "cell_type": "code",
   "execution_count": 265,
   "metadata": {},
   "outputs": [
    {
     "data": {
      "text/plain": [
       "3672"
      ]
     },
     "execution_count": 265,
     "metadata": {},
     "output_type": "execute_result"
    }
   ],
   "source": [
    "len(final_df)"
   ]
  },
  {
   "cell_type": "code",
   "execution_count": 266,
   "metadata": {},
   "outputs": [
    {
     "data": {
      "text/html": [
       "<div>\n",
       "<style scoped>\n",
       "    .dataframe tbody tr th:only-of-type {\n",
       "        vertical-align: middle;\n",
       "    }\n",
       "\n",
       "    .dataframe tbody tr th {\n",
       "        vertical-align: top;\n",
       "    }\n",
       "\n",
       "    .dataframe thead th {\n",
       "        text-align: right;\n",
       "    }\n",
       "</style>\n",
       "<table border=\"1\" class=\"dataframe\">\n",
       "  <thead>\n",
       "    <tr style=\"text-align: right;\">\n",
       "      <th></th>\n",
       "      <th>city</th>\n",
       "      <th>year</th>\n",
       "      <th>month</th>\n",
       "      <th>composition_rate</th>\n",
       "      <th>total_unit</th>\n",
       "      <th>women_unit</th>\n",
       "      <th>men_unit</th>\n",
       "    </tr>\n",
       "  </thead>\n",
       "  <tbody>\n",
       "    <tr>\n",
       "      <th>count</th>\n",
       "      <td>3672</td>\n",
       "      <td>3672</td>\n",
       "      <td>3672</td>\n",
       "      <td>3672.0</td>\n",
       "      <td>3672</td>\n",
       "      <td>3672</td>\n",
       "      <td>3672</td>\n",
       "    </tr>\n",
       "    <tr>\n",
       "      <th>unique</th>\n",
       "      <td>17</td>\n",
       "      <td>18</td>\n",
       "      <td>24</td>\n",
       "      <td>208.0</td>\n",
       "      <td>3275</td>\n",
       "      <td>2886</td>\n",
       "      <td>3196</td>\n",
       "    </tr>\n",
       "    <tr>\n",
       "      <th>top</th>\n",
       "      <td>Busan</td>\n",
       "      <td>2006</td>\n",
       "      <td>1</td>\n",
       "      <td>8.7</td>\n",
       "      <td>0</td>\n",
       "      <td>0</td>\n",
       "      <td>0</td>\n",
       "    </tr>\n",
       "    <tr>\n",
       "      <th>freq</th>\n",
       "      <td>216</td>\n",
       "      <td>204</td>\n",
       "      <td>288</td>\n",
       "      <td>188.0</td>\n",
       "      <td>162</td>\n",
       "      <td>162</td>\n",
       "      <td>162</td>\n",
       "    </tr>\n",
       "  </tbody>\n",
       "</table>\n",
       "</div>"
      ],
      "text/plain": [
       "         city  year month  composition_rate  total_unit  women_unit  men_unit\n",
       "count    3672  3672  3672            3672.0        3672        3672      3672\n",
       "unique     17    18    24             208.0        3275        2886      3196\n",
       "top     Busan  2006     1               8.7           0           0         0\n",
       "freq      216   204   288             188.0         162         162       162"
      ]
     },
     "execution_count": 266,
     "metadata": {},
     "output_type": "execute_result"
    }
   ],
   "source": [
    "final_df.describe()"
   ]
  },
  {
   "cell_type": "code",
   "execution_count": 267,
   "metadata": {},
   "outputs": [
    {
     "data": {
      "text/plain": [
       "array(['Busan', 'Central Seoul', 'Chungbuk', 'Daegu/Gyeongbuk',\n",
       "       'Daejeon/Chungnam', 'Eastern Seoul', 'Gangwon', 'Gyeonggi',\n",
       "       'Gyeongnam', 'Incheon', 'Jeju', 'Jeonbuk', 'Jeonnam',\n",
       "       'Southern Seoul', 'Ulsan', 'Western Seoul', 'Seoul'], dtype=object)"
      ]
     },
     "execution_count": 267,
     "metadata": {},
     "output_type": "execute_result"
    }
   ],
   "source": [
    "final_df[\"city\"].unique()"
   ]
  },
  {
   "cell_type": "code",
   "execution_count": 268,
   "metadata": {},
   "outputs": [
    {
     "name": "stdout",
     "output_type": "stream",
     "text": [
      "['Busan' 'Chungbuk' 'Daegu/Gyeongbuk' 'Daejeon/Chungnam' 'Gangwon'\n",
      " 'Gyeonggi' 'Gyeongnam' 'Incheon' 'Jeju' 'Jeonbuk' 'Jeonnam' 'Ulsan'\n",
      " 'Seoul']\n"
     ]
    }
   ],
   "source": [
    "# remove Southern Seoul, Northern Seoul, Western Seoul, Eastern Seoul\n",
    "final_df = final_df[~final_df['city'].isin([\"Southern Seoul\", \"Northern Seoul\", \"Western Seoul\", \"Eastern Seoul\", \"Central Seoul\"])]\n",
    "\n",
    "print(final_df[\"city\"].unique())"
   ]
  },
  {
   "cell_type": "code",
   "execution_count": 269,
   "metadata": {},
   "outputs": [
    {
     "data": {
      "text/plain": [
       "city                0\n",
       "year                0\n",
       "month               0\n",
       "composition_rate    0\n",
       "total_unit          0\n",
       "women_unit          0\n",
       "men_unit            0\n",
       "dtype: int64"
      ]
     },
     "execution_count": 269,
     "metadata": {},
     "output_type": "execute_result"
    }
   ],
   "source": [
    "# check any null values\n",
    "final_df.isnull().sum()"
   ]
  },
  {
   "cell_type": "code",
   "execution_count": 275,
   "metadata": {},
   "outputs": [],
   "source": [
    "# round the values to 2 decimal places\n",
    "\n",
    "final_df[\"total_unit\"] = final_df[\"total_unit\"].astype(float)\n",
    "\n",
    "final_df[\"month\"] = final_df[\"month\"].astype(int)\n",
    "\n",
    "final_df[\"men_unit\"] = final_df[\"men_unit\"].astype(float)\n",
    "\n",
    "final_df[\"women_unit\"] = final_df[\"women_unit\"].astype(float)\n",
    "\n",
    "final_df[\"composition_rate\"] = final_df[\"composition_rate\"].round(2)\n",
    "\n",
    "final_df[\"year\"] = final_df[\"year\"].astype(int)\n",
    "\n",
    "\n",
    "# save it to a csv file\n",
    "final_df.to_csv('monthly_supply.csv', index=False)\n",
    "\n",
    "# save as json\n",
    "final_df.to_json('monthly_supply.json', orient='records')\n",
    "\n"
   ]
  },
  {
   "cell_type": "code",
   "execution_count": null,
   "metadata": {},
   "outputs": [],
   "source": []
  },
  {
   "cell_type": "code",
   "execution_count": null,
   "metadata": {},
   "outputs": [],
   "source": []
  }
 ],
 "metadata": {
  "kernelspec": {
   "display_name": ".venv",
   "language": "python",
   "name": "python3"
  },
  "language_info": {
   "codemirror_mode": {
    "name": "ipython",
    "version": 3
   },
   "file_extension": ".py",
   "mimetype": "text/x-python",
   "name": "python",
   "nbconvert_exporter": "python",
   "pygments_lexer": "ipython3",
   "version": "3.10.11"
  }
 },
 "nbformat": 4,
 "nbformat_minor": 2
}
