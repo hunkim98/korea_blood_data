{
 "cells": [
  {
   "cell_type": "code",
   "execution_count": 1,
   "metadata": {},
   "outputs": [],
   "source": [
    "import pandas as pd\n",
    "import numpy as np\n",
    "\n",
    "from sklearn.model_selection import train_test_split\n",
    "from sklearn.linear_model import LinearRegression\n",
    "from sklearn.metrics import mean_squared_error, r2_score"
   ]
  },
  {
   "cell_type": "code",
   "execution_count": 2,
   "metadata": {},
   "outputs": [],
   "source": [
    "events_df = pd.read_csv('events.csv')\n",
    "demand_df = pd.read_csv('demand.csv')\n",
    "supply_df = pd.read_csv('supply.csv')"
   ]
  },
  {
   "cell_type": "code",
   "execution_count": 3,
   "metadata": {},
   "outputs": [
    {
     "data": {
      "text/plain": [
       "Index(['city', 'year', 'month', 'content_eng', 'content_ko', 'type',\n",
       "       'target_audience', 'duration', 'size', 'frequency', 'index', 'day',\n",
       "       'collaboration', 'end_year', 'end_month', 'end_day'],\n",
       "      dtype='object')"
      ]
     },
     "execution_count": 3,
     "metadata": {},
     "output_type": "execute_result"
    }
   ],
   "source": [
    "events_df.columns"
   ]
  },
  {
   "cell_type": "code",
   "execution_count": 4,
   "metadata": {},
   "outputs": [
    {
     "data": {
      "text/plain": [
       "Index(['city', 'year', 'month', 'month_name', 'unit', 'patients',\n",
       "       'bilateral thyroidectomy patients', 'bilateral thyroidectomy unit',\n",
       "       'aortic valve replacement patients', 'aortic valve replacement unit',\n",
       "       'graft replacement of aorta patients',\n",
       "       'graft replacement of aorta unit', 'pda ligation patients',\n",
       "       'pda ligation unit', 'exploratory laparotomy patients',\n",
       "       'exploratory laparotomy unit', 'laparoscopic cholecystectomy patients',\n",
       "       'laparoscopic cholecystectomy unit',\n",
       "       'pylorus preserving pancreaticoduodenectomy patients',\n",
       "       'pylorus preserving pancreaticoduodenectomy unit',\n",
       "       'transurethral resection of prostate patients',\n",
       "       'transurethral resection of prostate unit', 'prostatectomy patients',\n",
       "       'prostatectomy unit', 'total abdominal hysterectomy patients',\n",
       "       'total abdominal hysterectomy unit',\n",
       "       'low cervical cesarean section patients',\n",
       "       'low cervical cesarean section unit', 'total hip replacement patients',\n",
       "       'total hip replacement unit', 'total knee replacement patients',\n",
       "       'total knee replacement unit', 'mastectomy patients', 'mastectomy unit',\n",
       "       'craniotomy and removal of brain tumor patients',\n",
       "       'craniotomy and removal of brain tumor unit',\n",
       "       'total gastrectomy patients', 'total gastrectomy unit',\n",
       "       'wedge resection of liver patients', 'wedge resection of liver unit',\n",
       "       'lobectomy of liver patients', 'lobectomy of liver unit',\n",
       "       'laminectomy patients', 'laminectomy unit',\n",
       "       'liver transplantation patients', 'liver transplantation unit'],\n",
       "      dtype='object')"
      ]
     },
     "execution_count": 4,
     "metadata": {},
     "output_type": "execute_result"
    }
   ],
   "source": [
    "demand_df.columns"
   ]
  },
  {
   "cell_type": "code",
   "execution_count": 5,
   "metadata": {},
   "outputs": [
    {
     "data": {
      "text/plain": [
       "Index(['city', 'year', 'month', 'composition_rate', 'total_unit', 'women_unit',\n",
       "       'men_unit'],\n",
       "      dtype='object')"
      ]
     },
     "execution_count": 5,
     "metadata": {},
     "output_type": "execute_result"
    }
   ],
   "source": [
    "supply_df.columns"
   ]
  },
  {
   "cell_type": "code",
   "execution_count": 6,
   "metadata": {},
   "outputs": [
    {
     "name": "stdout",
     "output_type": "stream",
     "text": [
      "{nan}\n",
      "{nan}\n"
     ]
    }
   ],
   "source": [
    "events_cities = events_df['city'].unique()\n",
    "demand_cities = demand_df['city'].unique()\n",
    "supply_cities = supply_df['city'].unique()\n",
    "\n",
    "print(set(events_cities) - set(demand_cities))\n",
    "print(set(events_cities) - set(supply_cities))\n"
   ]
  },
  {
   "cell_type": "code",
   "execution_count": 7,
   "metadata": {},
   "outputs": [
    {
     "data": {
      "text/plain": [
       "city                0\n",
       "year                0\n",
       "month               0\n",
       "composition_rate    0\n",
       "total_unit          0\n",
       "women_unit          0\n",
       "men_unit            0\n",
       "unit                0\n",
       "patients            0\n",
       "dtype: int64"
      ]
     },
     "execution_count": 7,
     "metadata": {},
     "output_type": "execute_result"
    }
   ],
   "source": [
    "df = supply_df.copy()\n",
    "filtered_demand = demand_df[[\"city\", \"year\", \"month\", \"unit\", \"patients\"]]\n",
    "# merge with demand\n",
    "df = df.merge(filtered_demand, on=['city', 'year', \"month\"], how='inner')\n",
    "\n",
    "df.isnull().sum()"
   ]
  },
  {
   "cell_type": "code",
   "execution_count": 8,
   "metadata": {},
   "outputs": [
    {
     "data": {
      "text/html": [
       "<div>\n",
       "<style scoped>\n",
       "    .dataframe tbody tr th:only-of-type {\n",
       "        vertical-align: middle;\n",
       "    }\n",
       "\n",
       "    .dataframe tbody tr th {\n",
       "        vertical-align: top;\n",
       "    }\n",
       "\n",
       "    .dataframe thead th {\n",
       "        text-align: right;\n",
       "    }\n",
       "</style>\n",
       "<table border=\"1\" class=\"dataframe\">\n",
       "  <thead>\n",
       "    <tr style=\"text-align: right;\">\n",
       "      <th></th>\n",
       "      <th>year</th>\n",
       "      <th>month</th>\n",
       "      <th>composition_rate</th>\n",
       "      <th>total_unit</th>\n",
       "      <th>women_unit</th>\n",
       "      <th>men_unit</th>\n",
       "      <th>unit</th>\n",
       "      <th>patients</th>\n",
       "    </tr>\n",
       "  </thead>\n",
       "  <tbody>\n",
       "    <tr>\n",
       "      <th>count</th>\n",
       "      <td>2652.000000</td>\n",
       "      <td>2652.000000</td>\n",
       "      <td>2652.000000</td>\n",
       "      <td>2652.000000</td>\n",
       "      <td>2652.000000</td>\n",
       "      <td>2652.000000</td>\n",
       "      <td>2652.000000</td>\n",
       "      <td>2652.000000</td>\n",
       "    </tr>\n",
       "    <tr>\n",
       "      <th>mean</th>\n",
       "      <td>2014.000000</td>\n",
       "      <td>6.500000</td>\n",
       "      <td>9.804110</td>\n",
       "      <td>16176.410256</td>\n",
       "      <td>4441.907617</td>\n",
       "      <td>11734.502640</td>\n",
       "      <td>16092.669776</td>\n",
       "      <td>6488.173831</td>\n",
       "    </tr>\n",
       "    <tr>\n",
       "      <th>std</th>\n",
       "      <td>4.899903</td>\n",
       "      <td>3.452704</td>\n",
       "      <td>5.303586</td>\n",
       "      <td>14760.565089</td>\n",
       "      <td>4362.656222</td>\n",
       "      <td>10513.615182</td>\n",
       "      <td>15829.503567</td>\n",
       "      <td>6554.604701</td>\n",
       "    </tr>\n",
       "    <tr>\n",
       "      <th>min</th>\n",
       "      <td>2006.000000</td>\n",
       "      <td>1.000000</td>\n",
       "      <td>5.100000</td>\n",
       "      <td>1579.000000</td>\n",
       "      <td>271.000000</td>\n",
       "      <td>1308.000000</td>\n",
       "      <td>1534.761504</td>\n",
       "      <td>536.000000</td>\n",
       "    </tr>\n",
       "    <tr>\n",
       "      <th>25%</th>\n",
       "      <td>2010.000000</td>\n",
       "      <td>3.750000</td>\n",
       "      <td>7.900000</td>\n",
       "      <td>8269.000000</td>\n",
       "      <td>1860.000000</td>\n",
       "      <td>6309.000000</td>\n",
       "      <td>5218.074469</td>\n",
       "      <td>2078.000000</td>\n",
       "    </tr>\n",
       "    <tr>\n",
       "      <th>50%</th>\n",
       "      <td>2014.000000</td>\n",
       "      <td>6.500000</td>\n",
       "      <td>8.400000</td>\n",
       "      <td>12751.500000</td>\n",
       "      <td>3215.500000</td>\n",
       "      <td>9477.000000</td>\n",
       "      <td>11461.384561</td>\n",
       "      <td>4631.000000</td>\n",
       "    </tr>\n",
       "    <tr>\n",
       "      <th>75%</th>\n",
       "      <td>2018.000000</td>\n",
       "      <td>9.250000</td>\n",
       "      <td>9.000000</td>\n",
       "      <td>17832.500000</td>\n",
       "      <td>5252.250000</td>\n",
       "      <td>12651.750000</td>\n",
       "      <td>17148.140582</td>\n",
       "      <td>6980.750000</td>\n",
       "    </tr>\n",
       "    <tr>\n",
       "      <th>max</th>\n",
       "      <td>2022.000000</td>\n",
       "      <td>12.000000</td>\n",
       "      <td>41.600000</td>\n",
       "      <td>83785.000000</td>\n",
       "      <td>25805.000000</td>\n",
       "      <td>59429.000000</td>\n",
       "      <td>74598.601184</td>\n",
       "      <td>32164.000000</td>\n",
       "    </tr>\n",
       "  </tbody>\n",
       "</table>\n",
       "</div>"
      ],
      "text/plain": [
       "              year        month  composition_rate    total_unit    women_unit  \\\n",
       "count  2652.000000  2652.000000       2652.000000   2652.000000   2652.000000   \n",
       "mean   2014.000000     6.500000          9.804110  16176.410256   4441.907617   \n",
       "std       4.899903     3.452704          5.303586  14760.565089   4362.656222   \n",
       "min    2006.000000     1.000000          5.100000   1579.000000    271.000000   \n",
       "25%    2010.000000     3.750000          7.900000   8269.000000   1860.000000   \n",
       "50%    2014.000000     6.500000          8.400000  12751.500000   3215.500000   \n",
       "75%    2018.000000     9.250000          9.000000  17832.500000   5252.250000   \n",
       "max    2022.000000    12.000000         41.600000  83785.000000  25805.000000   \n",
       "\n",
       "           men_unit          unit      patients  \n",
       "count   2652.000000   2652.000000   2652.000000  \n",
       "mean   11734.502640  16092.669776   6488.173831  \n",
       "std    10513.615182  15829.503567   6554.604701  \n",
       "min     1308.000000   1534.761504    536.000000  \n",
       "25%     6309.000000   5218.074469   2078.000000  \n",
       "50%     9477.000000  11461.384561   4631.000000  \n",
       "75%    12651.750000  17148.140582   6980.750000  \n",
       "max    59429.000000  74598.601184  32164.000000  "
      ]
     },
     "execution_count": 8,
     "metadata": {},
     "output_type": "execute_result"
    }
   ],
   "source": [
    "df.describe()"
   ]
  },
  {
   "cell_type": "code",
   "execution_count": 9,
   "metadata": {},
   "outputs": [],
   "source": [
    "# change names\n",
    "df = df.rename(columns={\"unit\": \"demand_unit\", \"patients\": \"demand_patients\"})\n",
    "df = df.rename(columns={\"total_unit\": \"supply_unit\"})"
   ]
  },
  {
   "cell_type": "code",
   "execution_count": 10,
   "metadata": {},
   "outputs": [],
   "source": [
    "df[\"supply_ratio\"] = df[\"supply_unit\"] / df[\"demand_patients\"]"
   ]
  },
  {
   "cell_type": "code",
   "execution_count": 11,
   "metadata": {},
   "outputs": [
    {
     "data": {
      "image/png": "[encoded data removed]",
      "text/plain": [
       "<Figure size 640x480 with 1 Axes>"
      ]
     },
     "metadata": {},
     "output_type": "display_data"
    }
   ],
   "source": [
    "import matplotlib.pyplot as plt\n",
    "# plot the supply ratio \n",
    "\n",
    "plt.hist(df[\"supply_ratio\"], bins=100)\n",
    "plt.show()\n"
   ]
  },
  {
   "cell_type": "code",
   "execution_count": 12,
   "metadata": {},
   "outputs": [
    {
     "data": {
      "image/png": "[encoded data removed]",
      "text/plain": [
       "<Figure size 640x480 with 1 Axes>"
      ]
     },
     "metadata": {},
     "output_type": "display_data"
    }
   ],
   "source": [
    "df[\"supply_demand_diff\"] = df[\"supply_unit\"] - df[\"demand_patients\"]\n",
    "\n",
    "plt.hist(df[\"supply_demand_diff\"], bins=100)\n",
    "plt.show()"
   ]
  },
  {
   "cell_type": "code",
   "execution_count": 13,
   "metadata": {},
   "outputs": [
    {
     "name": "stdout",
     "output_type": "stream",
     "text": [
      "['Busan' 'Chungbuk' 'Daegu/Gyeongbuk' 'Daejeon/Chungnam' 'Gangwon'\n",
      " 'Gyeonggi' 'Gyeongnam' 'Incheon' 'Jeju' 'Jeonbuk' 'Jeonnam' 'Ulsan'\n",
      " 'Seoul']\n",
      "Index(['year', 'month', 'composition_rate', 'supply_unit', 'women_unit',\n",
      "       'men_unit', 'demand_unit', 'demand_patients', 'supply_ratio',\n",
      "       'supply_demand_diff', 'Busan', 'Chungbuk', 'Daegu/Gyeongbuk',\n",
      "       'Daejeon/Chungnam', 'Gangwon', 'Gyeonggi', 'Gyeongnam', 'Incheon',\n",
      "       'Jeju', 'Jeonbuk', 'Jeonnam', 'Seoul', 'Ulsan'],\n",
      "      dtype='object')\n",
      "Index(['Busan', 'Chungbuk', 'Daegu/Gyeongbuk', 'Daejeon/Chungnam', 'Gangwon',\n",
      "       'Gyeonggi', 'Gyeongnam', 'Incheon', 'Jeju', 'Jeonbuk', 'Jeonnam',\n",
      "       'Seoul', 'Ulsan'],\n",
      "      dtype='object')\n",
      "0\n"
     ]
    }
   ],
   "source": [
    "cities = df[\"city\"].unique()\n",
    "\n",
    "\n",
    "print(cities)\n",
    "\n",
    "\n",
    "# Convert the categorical variable into dummy variables\n",
    "# do not add prefix\n",
    "df_w_city = pd.get_dummies(df, columns=[\"city\"], prefix=\"\", prefix_sep=\"\")\n",
    "\n",
    "print(df_w_city.columns)\n",
    "\n",
    "# count columns that have city_ prefix\n",
    "city_columns = df_w_city.columns[-13:]\n",
    "\n",
    "print(city_columns)\n",
    "\n",
    "\n",
    "print(len(city_columns) - len(cities))"
   ]
  },
  {
   "cell_type": "code",
   "execution_count": 14,
   "metadata": {},
   "outputs": [],
   "source": [
    "seasion_map = {\n",
    "    \"1\": \"winter\",\n",
    "    \"2\": \"winter\",\n",
    "    \"3\": \"spring\",\n",
    "    \"4\": \"spring\",\n",
    "    \"5\": \"spring\",\n",
    "    \"6\": \"summer\",\n",
    "    \"7\": \"summer\",\n",
    "    \"8\": \"summer\",\n",
    "    \"9\": \"fall\",\n",
    "    \"10\": \"fall\",\n",
    "    \"11\": \"fall\",\n",
    "    \"12\": \"winter\"\n",
    "}"
   ]
  },
  {
   "cell_type": "code",
   "execution_count": 15,
   "metadata": {},
   "outputs": [],
   "source": [
    "df_w_city[\"season\"] = df_w_city[\"month\"].astype(str).map(seasion_map)"
   ]
  },
  {
   "cell_type": "code",
   "execution_count": 16,
   "metadata": {},
   "outputs": [],
   "source": [
    "df_w_city[\"season\"].isnull().sum()\n",
    "\n",
    "# create a dummy variable for season\n",
    "df_w_season = pd.get_dummies(df_w_city, columns=[\"season\"], prefix=\"\", prefix_sep=\"\")"
   ]
  },
  {
   "cell_type": "code",
   "execution_count": 128,
   "metadata": {},
   "outputs": [],
   "source": [
    "seasons = df_w_city[\"season\"].unique()"
   ]
  },
  {
   "cell_type": "code",
   "execution_count": 129,
   "metadata": {},
   "outputs": [],
   "source": [
    "df_w_season.columns\n",
    "# make cities to int value \n",
    "df_w_season[cities] = df_w_season[cities].astype(int)\n",
    "\n",
    "df_w_season[seasons] = df_w_season[seasons].astype(int)"
   ]
  },
  {
   "cell_type": "code",
   "execution_count": 130,
   "metadata": {},
   "outputs": [
    {
     "data": {
      "image/png": "[encoded data removed]",
      "text/plain": [
       "<Figure size 1500x1500 with 2 Axes>"
      ]
     },
     "metadata": {},
     "output_type": "display_data"
    }
   ],
   "source": [
    "import seaborn as sns\n",
    "\n",
    "# plot the correlation matrix\n",
    "df_w_season_corr = df_w_season[[\"year\", \"supply_ratio\"] + seasons.tolist()].corr()\n",
    "\n",
    "# Plot the heatmap\n",
    "plt.figure(figsize=(15, 15))\n",
    "sns.heatmap(df_w_season_corr, annot=True, cmap='coolwarm', vmin=-1, vmax=1)\n",
    "plt.title('Correlation Matrix Heatmap for Dummy Variables')\n",
    "plt.show()"
   ]
  },
  {
   "cell_type": "code",
   "execution_count": 131,
   "metadata": {},
   "outputs": [
    {
     "data": {
      "text/html": [
       "<div>\n",
       "<style scoped>\n",
       "    .dataframe tbody tr th:only-of-type {\n",
       "        vertical-align: middle;\n",
       "    }\n",
       "\n",
       "    .dataframe tbody tr th {\n",
       "        vertical-align: top;\n",
       "    }\n",
       "\n",
       "    .dataframe thead th {\n",
       "        text-align: right;\n",
       "    }\n",
       "</style>\n",
       "<table border=\"1\" class=\"dataframe\">\n",
       "  <thead>\n",
       "    <tr style=\"text-align: right;\">\n",
       "      <th></th>\n",
       "      <th>year</th>\n",
       "      <th>month</th>\n",
       "      <th>composition_rate</th>\n",
       "      <th>supply_unit</th>\n",
       "      <th>women_unit</th>\n",
       "      <th>men_unit</th>\n",
       "      <th>demand_unit</th>\n",
       "      <th>demand_patients</th>\n",
       "      <th>supply_ratio</th>\n",
       "      <th>supply_demand_diff</th>\n",
       "      <th>...</th>\n",
       "      <th>Jeju</th>\n",
       "      <th>Jeonbuk</th>\n",
       "      <th>Jeonnam</th>\n",
       "      <th>Seoul</th>\n",
       "      <th>Ulsan</th>\n",
       "      <th>fall</th>\n",
       "      <th>spring</th>\n",
       "      <th>summer</th>\n",
       "      <th>winter</th>\n",
       "      <th>city</th>\n",
       "    </tr>\n",
       "  </thead>\n",
       "  <tbody>\n",
       "    <tr>\n",
       "      <th>0</th>\n",
       "      <td>2006</td>\n",
       "      <td>1</td>\n",
       "      <td>7.8</td>\n",
       "      <td>16581.0</td>\n",
       "      <td>4100.0</td>\n",
       "      <td>12481.0</td>\n",
       "      <td>14643.534483</td>\n",
       "      <td>5854</td>\n",
       "      <td>2.832422</td>\n",
       "      <td>10727.0</td>\n",
       "      <td>...</td>\n",
       "      <td>0</td>\n",
       "      <td>0</td>\n",
       "      <td>0</td>\n",
       "      <td>0</td>\n",
       "      <td>0</td>\n",
       "      <td>0</td>\n",
       "      <td>0</td>\n",
       "      <td>0</td>\n",
       "      <td>1</td>\n",
       "      <td>Busan</td>\n",
       "    </tr>\n",
       "    <tr>\n",
       "      <th>1</th>\n",
       "      <td>2006</td>\n",
       "      <td>10</td>\n",
       "      <td>7.4</td>\n",
       "      <td>15650.0</td>\n",
       "      <td>4115.0</td>\n",
       "      <td>11535.0</td>\n",
       "      <td>12733.553902</td>\n",
       "      <td>4912</td>\n",
       "      <td>3.186075</td>\n",
       "      <td>10738.0</td>\n",
       "      <td>...</td>\n",
       "      <td>0</td>\n",
       "      <td>0</td>\n",
       "      <td>0</td>\n",
       "      <td>0</td>\n",
       "      <td>0</td>\n",
       "      <td>1</td>\n",
       "      <td>0</td>\n",
       "      <td>0</td>\n",
       "      <td>0</td>\n",
       "      <td>Busan</td>\n",
       "    </tr>\n",
       "    <tr>\n",
       "      <th>2</th>\n",
       "      <td>2006</td>\n",
       "      <td>11</td>\n",
       "      <td>8.4</td>\n",
       "      <td>17801.0</td>\n",
       "      <td>4658.0</td>\n",
       "      <td>13143.0</td>\n",
       "      <td>13054.406800</td>\n",
       "      <td>5104</td>\n",
       "      <td>3.487657</td>\n",
       "      <td>12697.0</td>\n",
       "      <td>...</td>\n",
       "      <td>0</td>\n",
       "      <td>0</td>\n",
       "      <td>0</td>\n",
       "      <td>0</td>\n",
       "      <td>0</td>\n",
       "      <td>1</td>\n",
       "      <td>0</td>\n",
       "      <td>0</td>\n",
       "      <td>0</td>\n",
       "      <td>Busan</td>\n",
       "    </tr>\n",
       "    <tr>\n",
       "      <th>3</th>\n",
       "      <td>2006</td>\n",
       "      <td>12</td>\n",
       "      <td>8.0</td>\n",
       "      <td>16996.0</td>\n",
       "      <td>4552.0</td>\n",
       "      <td>12444.0</td>\n",
       "      <td>13137.054373</td>\n",
       "      <td>5186</td>\n",
       "      <td>3.277285</td>\n",
       "      <td>11810.0</td>\n",
       "      <td>...</td>\n",
       "      <td>0</td>\n",
       "      <td>0</td>\n",
       "      <td>0</td>\n",
       "      <td>0</td>\n",
       "      <td>0</td>\n",
       "      <td>0</td>\n",
       "      <td>0</td>\n",
       "      <td>0</td>\n",
       "      <td>1</td>\n",
       "      <td>Busan</td>\n",
       "    </tr>\n",
       "    <tr>\n",
       "      <th>4</th>\n",
       "      <td>2006</td>\n",
       "      <td>2</td>\n",
       "      <td>8.3</td>\n",
       "      <td>17608.0</td>\n",
       "      <td>5509.0</td>\n",
       "      <td>12099.0</td>\n",
       "      <td>13740.795515</td>\n",
       "      <td>5456</td>\n",
       "      <td>3.227273</td>\n",
       "      <td>12152.0</td>\n",
       "      <td>...</td>\n",
       "      <td>0</td>\n",
       "      <td>0</td>\n",
       "      <td>0</td>\n",
       "      <td>0</td>\n",
       "      <td>0</td>\n",
       "      <td>0</td>\n",
       "      <td>0</td>\n",
       "      <td>0</td>\n",
       "      <td>1</td>\n",
       "      <td>Busan</td>\n",
       "    </tr>\n",
       "  </tbody>\n",
       "</table>\n",
       "<p>5 rows × 28 columns</p>\n",
       "</div>"
      ],
      "text/plain": [
       "   year  month  composition_rate  supply_unit  women_unit  men_unit  \\\n",
       "0  2006      1               7.8      16581.0      4100.0   12481.0   \n",
       "1  2006     10               7.4      15650.0      4115.0   11535.0   \n",
       "2  2006     11               8.4      17801.0      4658.0   13143.0   \n",
       "3  2006     12               8.0      16996.0      4552.0   12444.0   \n",
       "4  2006      2               8.3      17608.0      5509.0   12099.0   \n",
       "\n",
       "    demand_unit  demand_patients  supply_ratio  supply_demand_diff  ...  Jeju  \\\n",
       "0  14643.534483             5854      2.832422             10727.0  ...     0   \n",
       "1  12733.553902             4912      3.186075             10738.0  ...     0   \n",
       "2  13054.406800             5104      3.487657             12697.0  ...     0   \n",
       "3  13137.054373             5186      3.277285             11810.0  ...     0   \n",
       "4  13740.795515             5456      3.227273             12152.0  ...     0   \n",
       "\n",
       "   Jeonbuk  Jeonnam  Seoul  Ulsan  fall  spring  summer  winter   city  \n",
       "0        0        0      0      0     0       0       0       1  Busan  \n",
       "1        0        0      0      0     1       0       0       0  Busan  \n",
       "2        0        0      0      0     1       0       0       0  Busan  \n",
       "3        0        0      0      0     0       0       0       1  Busan  \n",
       "4        0        0      0      0     0       0       0       1  Busan  \n",
       "\n",
       "[5 rows x 28 columns]"
      ]
     },
     "execution_count": 131,
     "metadata": {},
     "output_type": "execute_result"
    }
   ],
   "source": [
    "df_w_season[\"city\"] = df[\"city\"]\n",
    "df_w_season.head()"
   ]
  },
  {
   "cell_type": "code",
   "execution_count": 132,
   "metadata": {},
   "outputs": [
    {
     "data": {
      "text/plain": [
       "Index(['city', 'year', 'month', 'content_eng', 'content_ko', 'type',\n",
       "       'target_audience', 'duration', 'size', 'frequency', 'index', 'day',\n",
       "       'collaboration', 'end_year', 'end_month', 'end_day'],\n",
       "      dtype='object')"
      ]
     },
     "execution_count": 132,
     "metadata": {},
     "output_type": "execute_result"
    }
   ],
   "source": [
    "# now we have to connect events to the year and month monthly\n",
    "events_df.columns"
   ]
  },
  {
   "cell_type": "code",
   "execution_count": 133,
   "metadata": {},
   "outputs": [],
   "source": [
    "worthy_columns = [\"type\", \"target_audience\", \"duration\", \"size\", \"frequency\"]"
   ]
  },
  {
   "cell_type": "code",
   "execution_count": 134,
   "metadata": {},
   "outputs": [
    {
     "data": {
      "text/plain": [
       "type\n",
       "public event                  235\n",
       "infrastructure improvement     54\n",
       "broadcast campaigns            36\n",
       "community event                26\n",
       "competition                    18\n",
       "partnership                    17\n",
       "policy reform                  16\n",
       "corporation event               8\n",
       "government event                5\n",
       "conference                      4\n",
       "internal event                  2\n",
       "Name: count, dtype: int64"
      ]
     },
     "execution_count": 134,
     "metadata": {},
     "output_type": "execute_result"
    }
   ],
   "source": [
    "events_df[\"type\"].value_counts()"
   ]
  },
  {
   "cell_type": "code",
   "execution_count": 135,
   "metadata": {},
   "outputs": [],
   "source": [
    "events_df_copy = events_df.copy()\n",
    "\n",
    "collaboration_lists = events_df[\"collaboration\"].str.split(\",\")\n",
    "\n",
    "collaboration_keys = set() \n",
    "\n",
    "for collaboration_list in collaboration_lists:\n",
    "    if isinstance(collaboration_list, list):\n",
    "        collaboration_keys.update(collaboration_list)\n",
    "\n",
    "for i, collaboration_list in enumerate(collaboration_lists):\n",
    "    if isinstance(collaboration_list, list):\n",
    "        for collaboration in collaboration_list:\n",
    "            events_df_copy.loc[i, \"c_\" + collaboration] = 1"
   ]
  },
  {
   "cell_type": "code",
   "execution_count": 136,
   "metadata": {},
   "outputs": [],
   "source": [
    "collaboration_keys = list(collaboration_keys)"
   ]
  },
  {
   "cell_type": "code",
   "execution_count": 137,
   "metadata": {},
   "outputs": [
    {
     "data": {
      "text/html": [
       "<div>\n",
       "<style scoped>\n",
       "    .dataframe tbody tr th:only-of-type {\n",
       "        vertical-align: middle;\n",
       "    }\n",
       "\n",
       "    .dataframe tbody tr th {\n",
       "        vertical-align: top;\n",
       "    }\n",
       "\n",
       "    .dataframe thead th {\n",
       "        text-align: right;\n",
       "    }\n",
       "</style>\n",
       "<table border=\"1\" class=\"dataframe\">\n",
       "  <thead>\n",
       "    <tr style=\"text-align: right;\">\n",
       "      <th></th>\n",
       "      <th>year</th>\n",
       "      <th>month</th>\n",
       "      <th>index</th>\n",
       "      <th>day</th>\n",
       "      <th>end_year</th>\n",
       "      <th>end_month</th>\n",
       "      <th>end_day</th>\n",
       "      <th>c_celebrity</th>\n",
       "      <th>c_media</th>\n",
       "      <th>c_government</th>\n",
       "      <th>c_community</th>\n",
       "      <th>c_corporation</th>\n",
       "      <th>c_university</th>\n",
       "      <th>c_hospital</th>\n",
       "    </tr>\n",
       "  </thead>\n",
       "  <tbody>\n",
       "    <tr>\n",
       "      <th>count</th>\n",
       "      <td>421.000000</td>\n",
       "      <td>421.000000</td>\n",
       "      <td>421.000000</td>\n",
       "      <td>329.000000</td>\n",
       "      <td>2.0</td>\n",
       "      <td>2.000000</td>\n",
       "      <td>2.000000</td>\n",
       "      <td>421.000000</td>\n",
       "      <td>421.000000</td>\n",
       "      <td>421.000000</td>\n",
       "      <td>421.000000</td>\n",
       "      <td>421.000000</td>\n",
       "      <td>421.000000</td>\n",
       "      <td>421.000000</td>\n",
       "    </tr>\n",
       "    <tr>\n",
       "      <th>mean</th>\n",
       "      <td>2013.541568</td>\n",
       "      <td>6.973872</td>\n",
       "      <td>177.223278</td>\n",
       "      <td>14.562310</td>\n",
       "      <td>2016.0</td>\n",
       "      <td>8.000000</td>\n",
       "      <td>11.500000</td>\n",
       "      <td>0.057007</td>\n",
       "      <td>0.092637</td>\n",
       "      <td>0.123515</td>\n",
       "      <td>0.180523</td>\n",
       "      <td>0.109264</td>\n",
       "      <td>0.087886</td>\n",
       "      <td>0.014252</td>\n",
       "    </tr>\n",
       "    <tr>\n",
       "      <th>std</th>\n",
       "      <td>4.839452</td>\n",
       "      <td>3.103267</td>\n",
       "      <td>99.785950</td>\n",
       "      <td>7.826427</td>\n",
       "      <td>0.0</td>\n",
       "      <td>4.242641</td>\n",
       "      <td>0.707107</td>\n",
       "      <td>0.232132</td>\n",
       "      <td>0.290267</td>\n",
       "      <td>0.329419</td>\n",
       "      <td>0.385080</td>\n",
       "      <td>0.312341</td>\n",
       "      <td>0.283466</td>\n",
       "      <td>0.118668</td>\n",
       "    </tr>\n",
       "    <tr>\n",
       "      <th>min</th>\n",
       "      <td>2005.000000</td>\n",
       "      <td>1.000000</td>\n",
       "      <td>0.000000</td>\n",
       "      <td>1.000000</td>\n",
       "      <td>2016.0</td>\n",
       "      <td>5.000000</td>\n",
       "      <td>11.000000</td>\n",
       "      <td>0.000000</td>\n",
       "      <td>0.000000</td>\n",
       "      <td>0.000000</td>\n",
       "      <td>0.000000</td>\n",
       "      <td>0.000000</td>\n",
       "      <td>0.000000</td>\n",
       "      <td>0.000000</td>\n",
       "    </tr>\n",
       "    <tr>\n",
       "      <th>25%</th>\n",
       "      <td>2010.000000</td>\n",
       "      <td>5.000000</td>\n",
       "      <td>92.000000</td>\n",
       "      <td>9.000000</td>\n",
       "      <td>2016.0</td>\n",
       "      <td>6.500000</td>\n",
       "      <td>11.250000</td>\n",
       "      <td>0.000000</td>\n",
       "      <td>0.000000</td>\n",
       "      <td>0.000000</td>\n",
       "      <td>0.000000</td>\n",
       "      <td>0.000000</td>\n",
       "      <td>0.000000</td>\n",
       "      <td>0.000000</td>\n",
       "    </tr>\n",
       "    <tr>\n",
       "      <th>50%</th>\n",
       "      <td>2013.000000</td>\n",
       "      <td>7.000000</td>\n",
       "      <td>176.000000</td>\n",
       "      <td>14.000000</td>\n",
       "      <td>2016.0</td>\n",
       "      <td>8.000000</td>\n",
       "      <td>11.500000</td>\n",
       "      <td>0.000000</td>\n",
       "      <td>0.000000</td>\n",
       "      <td>0.000000</td>\n",
       "      <td>0.000000</td>\n",
       "      <td>0.000000</td>\n",
       "      <td>0.000000</td>\n",
       "      <td>0.000000</td>\n",
       "    </tr>\n",
       "    <tr>\n",
       "      <th>75%</th>\n",
       "      <td>2016.000000</td>\n",
       "      <td>10.000000</td>\n",
       "      <td>260.000000</td>\n",
       "      <td>20.000000</td>\n",
       "      <td>2016.0</td>\n",
       "      <td>9.500000</td>\n",
       "      <td>11.750000</td>\n",
       "      <td>0.000000</td>\n",
       "      <td>0.000000</td>\n",
       "      <td>0.000000</td>\n",
       "      <td>0.000000</td>\n",
       "      <td>0.000000</td>\n",
       "      <td>0.000000</td>\n",
       "      <td>0.000000</td>\n",
       "    </tr>\n",
       "    <tr>\n",
       "      <th>max</th>\n",
       "      <td>2023.000000</td>\n",
       "      <td>12.000000</td>\n",
       "      <td>355.000000</td>\n",
       "      <td>31.000000</td>\n",
       "      <td>2016.0</td>\n",
       "      <td>11.000000</td>\n",
       "      <td>12.000000</td>\n",
       "      <td>1.000000</td>\n",
       "      <td>1.000000</td>\n",
       "      <td>1.000000</td>\n",
       "      <td>1.000000</td>\n",
       "      <td>1.000000</td>\n",
       "      <td>1.000000</td>\n",
       "      <td>1.000000</td>\n",
       "    </tr>\n",
       "  </tbody>\n",
       "</table>\n",
       "</div>"
      ],
      "text/plain": [
       "              year       month       index         day  end_year  end_month  \\\n",
       "count   421.000000  421.000000  421.000000  329.000000       2.0   2.000000   \n",
       "mean   2013.541568    6.973872  177.223278   14.562310    2016.0   8.000000   \n",
       "std       4.839452    3.103267   99.785950    7.826427       0.0   4.242641   \n",
       "min    2005.000000    1.000000    0.000000    1.000000    2016.0   5.000000   \n",
       "25%    2010.000000    5.000000   92.000000    9.000000    2016.0   6.500000   \n",
       "50%    2013.000000    7.000000  176.000000   14.000000    2016.0   8.000000   \n",
       "75%    2016.000000   10.000000  260.000000   20.000000    2016.0   9.500000   \n",
       "max    2023.000000   12.000000  355.000000   31.000000    2016.0  11.000000   \n",
       "\n",
       "         end_day  c_celebrity     c_media  c_government  c_community  \\\n",
       "count   2.000000   421.000000  421.000000    421.000000   421.000000   \n",
       "mean   11.500000     0.057007    0.092637      0.123515     0.180523   \n",
       "std     0.707107     0.232132    0.290267      0.329419     0.385080   \n",
       "min    11.000000     0.000000    0.000000      0.000000     0.000000   \n",
       "25%    11.250000     0.000000    0.000000      0.000000     0.000000   \n",
       "50%    11.500000     0.000000    0.000000      0.000000     0.000000   \n",
       "75%    11.750000     0.000000    0.000000      0.000000     0.000000   \n",
       "max    12.000000     1.000000    1.000000      1.000000     1.000000   \n",
       "\n",
       "       c_corporation  c_university  c_hospital  \n",
       "count     421.000000    421.000000  421.000000  \n",
       "mean        0.109264      0.087886    0.014252  \n",
       "std         0.312341      0.283466    0.118668  \n",
       "min         0.000000      0.000000    0.000000  \n",
       "25%         0.000000      0.000000    0.000000  \n",
       "50%         0.000000      0.000000    0.000000  \n",
       "75%         0.000000      0.000000    0.000000  \n",
       "max         1.000000      1.000000    1.000000  "
      ]
     },
     "execution_count": 137,
     "metadata": {},
     "output_type": "execute_result"
    }
   ],
   "source": [
    "for key in collaboration_keys:\n",
    "    events_df_copy[\"c_\" + key] = events_df_copy[\"c_\" + key].fillna(0).astype(int)\n",
    "\n",
    "events_df_copy.describe()\n",
    "\n"
   ]
  },
  {
   "cell_type": "code",
   "execution_count": 138,
   "metadata": {},
   "outputs": [
    {
     "data": {
      "text/plain": [
       "['media',\n",
       " 'hospital',\n",
       " 'community',\n",
       " 'corporation',\n",
       " 'government',\n",
       " 'celebrity',\n",
       " 'university']"
      ]
     },
     "execution_count": 138,
     "metadata": {},
     "output_type": "execute_result"
    }
   ],
   "source": [
    "collaboration_keys"
   ]
  },
  {
   "cell_type": "code",
   "execution_count": 139,
   "metadata": {},
   "outputs": [
    {
     "data": {
      "text/plain": [
       "Index(['city', 'year', 'month', 'content_eng', 'content_ko', 'index', 'day',\n",
       "       'collaboration', 'end_year', 'end_month', 'end_day', 'c_celebrity',\n",
       "       'c_media', 'c_government', 'c_community', 'c_corporation',\n",
       "       'c_university', 'c_hospital', 'broadcast campaigns', 'community event',\n",
       "       'competition', 'conference', 'corporation event', 'government event',\n",
       "       'infrastructure improvement', 'internal event', 'partnership',\n",
       "       'policy reform', 'public event', 'blood donors', 'citizen', 'community',\n",
       "       'corporations', 'government', 'hospital', 'institutions', 'teenagers',\n",
       "       'university', 'months long', 'multi day', 'ongoing', 'single day',\n",
       "       'international', 'local', 'national', 'ad hoc', 'monthly', 'yearly'],\n",
       "      dtype='object')"
      ]
     },
     "execution_count": 139,
     "metadata": {},
     "output_type": "execute_result"
    }
   ],
   "source": [
    "events_df_copy.columns\n",
    "\n",
    "events_df_copy[\"type\"] = events_df[\"type\"]\n",
    "events_df_copy[\"target_audience\"] = events_df[\"target_audience\"]\n",
    "events_df_copy[\"duration\"] = events_df[\"duration\"]\n",
    "events_df_copy[\"size\"] = events_df[\"size\"]\n",
    "events_df_copy[\"frequency\"] = events_df[\"frequency\"]\n",
    "\n",
    "\n",
    "events_dict = {\n",
    "    \"city\": [],\n",
    "    \"year\": [],\n",
    "    \"month\": [],\n",
    "    \"city_local_cnt\": [],\n",
    "    \"national_cnt\": [],\n",
    "    \"local_cnt\": [],\n",
    "}\n",
    "\n",
    "for key in collaboration_keys:\n",
    "    events_dict[\"national_\" + \"colab_\" + key] = []\n",
    "    events_dict[\"colab_\" + key] = []\n",
    "\n",
    "type_keys = events_df_copy[\"type\"].unique()\n",
    "# create dummy variables for type\n",
    "\n",
    "for key in type_keys:\n",
    "    events_dict[\"national_\" + \"type_\" + key] = []\n",
    "    events_dict[\"type_\" + key] = []\n",
    "\n",
    "target_audience_keys = events_df_copy[\"target_audience\"].unique()\n",
    "\n",
    "for key in target_audience_keys:\n",
    "    events_dict[\"national_\" + \"target_\" + key] = []\n",
    "    events_dict[\"target_\" + key] = []\n",
    "\n",
    "duration_keys = events_df_copy[\"duration\"].unique()\n",
    "\n",
    "for key in duration_keys:\n",
    "    events_dict[\"national_\" + \"duration_\" + key] = []\n",
    "    events_dict[\"duration_\" + key] = []\n",
    "\n",
    "size_keys = events_df_copy[\"size\"].unique()\n",
    "\n",
    "for key in size_keys:\n",
    "    events_dict[\"national_\" + \"size_\" + key] = []\n",
    "    events_dict[\"size_\" + key] = []\n",
    "\n",
    "frequency_keys = events_df_copy[\"frequency\"].unique()\n",
    "\n",
    "for key in frequency_keys:\n",
    "    events_dict[\"national_\" + \"freq_\" + key] = []\n",
    "    events_dict[\"freq_\" + key] = []\n",
    "\n",
    "# preserve the original columns\n",
    "events_df_copy = pd.get_dummies(events_df_copy, columns=[\"type\", \"target_audience\", \"duration\", \"size\", \"frequency\"], prefix=\"\", prefix_sep=\"\")\n",
    "\n",
    "# events_df_copy[\"type\"] = events_df[\"type\"]\n",
    "# events_df_copy[\"target_audience\"] = events_df[\"target_audience\"]\n",
    "# events_df_copy[\"duration\"] = events_df[\"duration\"]\n",
    "# events_df_copy[\"size\"] = events_df[\"size\"]\n",
    "# events_df_copy[\"frequency\"] = events_df[\"frequency\"]\n",
    "\n",
    "\n",
    "# check if there are overlapping columns\n",
    "events_df_copy.columns\n"
   ]
  },
  {
   "cell_type": "code",
   "execution_count": 140,
   "metadata": {},
   "outputs": [],
   "source": [
    "\n",
    "\n",
    "cities = df[\"city\"].unique()\n",
    "year = df[\"year\"].unique()\n",
    "month = df[\"month\"].unique()\n",
    "\n",
    "for city in cities:\n",
    "    for y in year:\n",
    "        for m in month:\n",
    "            # national events are where \"city\" is empty\n",
    "            national_events = events_df_copy[events_df_copy[\"city\"].isnull()]\n",
    "            national_events = national_events[national_events[\"year\"] == y]\n",
    "            national_events = national_events[national_events[\"month\"] == m]\n",
    "            all_local_events = events_df_copy[~events_df_copy[\"city\"].isnull()]\n",
    "            all_local_events = all_local_events[all_local_events[\"year\"] == y]\n",
    "            all_local_events = all_local_events[all_local_events[\"month\"] == m]\n",
    "            filtered = events_df_copy[events_df_copy[\"city\"] == city]\n",
    "            filtered = filtered[filtered[\"year\"] == y]\n",
    "            filtered = filtered[filtered[\"month\"] == m]\n",
    "            events_dict[\"city_local_cnt\"].append(filtered.shape[0])\n",
    "            events_dict[\"national_cnt\"].append(national_events.shape[0])\n",
    "            events_dict[\"local_cnt\"].append(all_local_events.shape[0])\n",
    "            for key in collaboration_keys:\n",
    "                add_key = \"colab_\"\n",
    "                events_dict[\"national_\" + add_key + key].append(national_events[\"c_\" + key].sum())\n",
    "                events_dict[add_key + key].append(filtered[\"c_\" + key].sum())\n",
    "                # print(national_events[key].sum())\n",
    "                # print(filtered[key].sum())\n",
    "            for key in type_keys:\n",
    "                add_key = \"type_\"\n",
    "                events_dict[\"national_\" + add_key + key].append(national_events[key].sum())\n",
    "                events_dict[add_key + key].append(filtered[key].sum())\n",
    "            for key in target_audience_keys:\n",
    "                add_key = \"target_\"\n",
    "                events_dict[\"national_\" + add_key + key].append(national_events[key].sum())\n",
    "                events_dict[add_key + key].append(filtered[key].sum())\n",
    "            for key in duration_keys:\n",
    "                add_key = \"duration_\"\n",
    "                events_dict[\"national_\" + add_key + key].append(national_events[key].sum())\n",
    "                events_dict[add_key + key].append(filtered[key].sum())\n",
    "            for key in size_keys:\n",
    "                add_key = \"size_\"\n",
    "                events_dict[\"national_\" + add_key + key].append(national_events[key].sum())\n",
    "                events_dict[add_key + key].append(filtered[key].sum())\n",
    "            for key in frequency_keys:\n",
    "                add_key = \"freq_\"\n",
    "                events_dict[\"national_\" + add_key + key].append(national_events[key].sum())\n",
    "                events_dict[add_key + key].append(filtered[key].sum())\n",
    "            \n",
    "\n",
    "\n",
    "\n",
    "            events_dict[\"city\"].append(city)\n",
    "            events_dict[\"year\"].append(y)\n",
    "            events_dict[\"month\"].append(m)\n"
   ]
  },
  {
   "cell_type": "code",
   "execution_count": 141,
   "metadata": {},
   "outputs": [
    {
     "name": "stdout",
     "output_type": "stream",
     "text": [
      "city 2652\n",
      "year 2652\n",
      "month 2652\n",
      "city_local_cnt 2652\n",
      "national_cnt 2652\n",
      "local_cnt 2652\n",
      "national_colab_media 2652\n",
      "colab_media 2652\n",
      "national_colab_hospital 2652\n",
      "colab_hospital 2652\n",
      "national_colab_community 2652\n",
      "colab_community 2652\n",
      "national_colab_corporation 2652\n",
      "colab_corporation 2652\n",
      "national_colab_government 2652\n",
      "colab_government 2652\n",
      "national_colab_celebrity 2652\n",
      "colab_celebrity 2652\n",
      "national_colab_university 2652\n",
      "colab_university 2652\n",
      "national_type_public event 2652\n",
      "type_public event 2652\n",
      "national_type_competition 2652\n",
      "type_competition 2652\n",
      "national_type_broadcast campaigns 2652\n",
      "type_broadcast campaigns 2652\n",
      "national_type_policy reform 2652\n",
      "type_policy reform 2652\n",
      "national_type_infrastructure improvement 2652\n",
      "type_infrastructure improvement 2652\n",
      "national_type_conference 2652\n",
      "type_conference 2652\n",
      "national_type_corporation event 2652\n",
      "type_corporation event 2652\n",
      "national_type_community event 2652\n",
      "type_community event 2652\n",
      "national_type_partnership 2652\n",
      "type_partnership 2652\n",
      "national_type_internal event 2652\n",
      "type_internal event 2652\n",
      "national_type_government event 2652\n",
      "type_government event 2652\n",
      "national_target_citizen 2652\n",
      "target_citizen 2652\n",
      "national_target_teenagers 2652\n",
      "target_teenagers 2652\n",
      "national_target_institutions 2652\n",
      "target_institutions 2652\n",
      "national_target_blood donors 2652\n",
      "target_blood donors 2652\n",
      "national_target_corporations 2652\n",
      "target_corporations 2652\n",
      "national_target_university 2652\n",
      "target_university 2652\n",
      "national_target_hospital 2652\n",
      "target_hospital 2652\n",
      "national_target_community 2652\n",
      "target_community 2652\n",
      "national_target_government 2652\n",
      "target_government 2652\n",
      "national_duration_single day 2652\n",
      "duration_single day 2652\n",
      "national_duration_months long 2652\n",
      "duration_months long 2652\n",
      "national_duration_ongoing 2652\n",
      "duration_ongoing 2652\n",
      "national_duration_multi day 2652\n",
      "duration_multi day 2652\n",
      "national_size_national 2652\n",
      "size_national 2652\n",
      "national_size_international 2652\n",
      "size_international 2652\n",
      "national_size_local 2652\n",
      "size_local 2652\n",
      "national_freq_ad hoc 2652\n",
      "freq_ad hoc 2652\n",
      "national_freq_yearly 2652\n",
      "freq_yearly 2652\n",
      "national_freq_monthly 2652\n",
      "freq_monthly 2652\n"
     ]
    }
   ],
   "source": [
    "for key in events_dict.keys():\n",
    "    print(key, len(events_dict[key]))"
   ]
  },
  {
   "cell_type": "code",
   "execution_count": 142,
   "metadata": {},
   "outputs": [],
   "source": [
    "# save the events dictionary\n",
    "monthly_event_count_df = pd.DataFrame(events_dict)\n",
    "monthly_event_count_df.to_csv(\"monthly_event_count.csv\", index=False)"
   ]
  },
  {
   "cell_type": "code",
   "execution_count": 143,
   "metadata": {},
   "outputs": [
    {
     "data": {
      "text/plain": [
       "Index(['year', 'month', 'composition_rate', 'supply_unit', 'women_unit',\n",
       "       'men_unit', 'demand_unit', 'demand_patients', 'supply_ratio',\n",
       "       'supply_demand_diff', 'Busan', 'Chungbuk', 'Daegu/Gyeongbuk',\n",
       "       'Daejeon/Chungnam', 'Gangwon', 'Gyeonggi', 'Gyeongnam', 'Incheon',\n",
       "       'Jeju', 'Jeonbuk', 'Jeonnam', 'Seoul', 'Ulsan', 'fall', 'spring',\n",
       "       'summer', 'winter', 'city'],\n",
       "      dtype='object')"
      ]
     },
     "execution_count": 143,
     "metadata": {},
     "output_type": "execute_result"
    }
   ],
   "source": [
    "# now we have to merge the events with the supply and demand data\n",
    "\n",
    "df_w_season.columns"
   ]
  },
  {
   "cell_type": "code",
   "execution_count": 144,
   "metadata": {},
   "outputs": [
    {
     "name": "stdout",
     "output_type": "stream",
     "text": [
      "2652\n"
     ]
    }
   ],
   "source": [
    "print(len(df_w_season))"
   ]
  },
  {
   "cell_type": "code",
   "execution_count": 145,
   "metadata": {},
   "outputs": [
    {
     "name": "stdout",
     "output_type": "stream",
     "text": [
      "2652\n"
     ]
    }
   ],
   "source": [
    "print(len(monthly_event_count_df))"
   ]
  },
  {
   "cell_type": "code",
   "execution_count": 146,
   "metadata": {},
   "outputs": [],
   "source": [
    "merged = df_w_season.merge(monthly_event_count_df, on=[\"city\", \"year\", \"month\"], how=\"inner\")"
   ]
  },
  {
   "cell_type": "code",
   "execution_count": 147,
   "metadata": {},
   "outputs": [
    {
     "name": "stdout",
     "output_type": "stream",
     "text": [
      "2652\n"
     ]
    }
   ],
   "source": [
    "print(len(merged))"
   ]
  },
  {
   "cell_type": "code",
   "execution_count": 148,
   "metadata": {},
   "outputs": [],
   "source": [
    "# change all the True to 1 and False to 0"
   ]
  },
  {
   "cell_type": "code",
   "execution_count": 149,
   "metadata": {},
   "outputs": [],
   "source": [
    "# save merged\n",
    "merged.to_csv(\"merged.csv\", index=False)\n",
    "\n"
   ]
  },
  {
   "cell_type": "code",
   "execution_count": 195,
   "metadata": {},
   "outputs": [
    {
     "name": "stdout",
     "output_type": "stream",
     "text": [
      "0\n",
      "0\n"
     ]
    }
   ],
   "source": [
    "# check if there are any missing values\n",
    "print(merged.isnull().sum().sum())\n",
    "print(merged.isna().sum().sum())\n"
   ]
  },
  {
   "cell_type": "code",
   "execution_count": 153,
   "metadata": {},
   "outputs": [
    {
     "data": {
      "text/plain": [
       "Index(['city_local_cnt', 'national_cnt', 'local_cnt', 'national_colab_media',\n",
       "       'colab_media', 'national_colab_hospital', 'colab_hospital',\n",
       "       'national_colab_community', 'colab_community',\n",
       "       'national_colab_corporation', 'colab_corporation',\n",
       "       'national_colab_government', 'colab_government',\n",
       "       'national_colab_celebrity', 'colab_celebrity',\n",
       "       'national_colab_university', 'colab_university',\n",
       "       'national_type_public event', 'type_public event',\n",
       "       'national_type_competition', 'type_competition',\n",
       "       'national_type_broadcast campaigns', 'type_broadcast campaigns',\n",
       "       'national_type_policy reform', 'type_policy reform',\n",
       "       'national_type_infrastructure improvement',\n",
       "       'type_infrastructure improvement', 'national_type_conference',\n",
       "       'type_conference', 'national_type_corporation event',\n",
       "       'type_corporation event', 'national_type_community event',\n",
       "       'type_community event', 'national_type_partnership', 'type_partnership',\n",
       "       'national_type_internal event', 'type_internal event',\n",
       "       'national_type_government event', 'type_government event',\n",
       "       'national_target_citizen', 'target_citizen',\n",
       "       'national_target_teenagers', 'target_teenagers',\n",
       "       'national_target_institutions', 'target_institutions',\n",
       "       'national_target_blood donors', 'target_blood donors',\n",
       "       'national_target_corporations', 'target_corporations',\n",
       "       'national_target_university', 'target_university',\n",
       "       'national_target_hospital', 'target_hospital',\n",
       "       'national_target_community', 'target_community',\n",
       "       'national_target_government', 'target_government',\n",
       "       'national_duration_single day', 'duration_single day',\n",
       "       'national_duration_months long', 'duration_months long',\n",
       "       'national_duration_ongoing', 'duration_ongoing',\n",
       "       'national_duration_multi day', 'duration_multi day',\n",
       "       'national_size_national', 'size_national',\n",
       "       'national_size_international', 'size_international',\n",
       "       'national_size_local', 'size_local', 'national_freq_ad hoc',\n",
       "       'freq_ad hoc', 'national_freq_yearly', 'freq_yearly',\n",
       "       'national_freq_monthly', 'freq_monthly', 'winter', 'fall', 'spring',\n",
       "       'summer'],\n",
       "      dtype='object')"
      ]
     },
     "execution_count": 153,
     "metadata": {},
     "output_type": "execute_result"
    }
   ],
   "source": [
    "monthly_event_count_df[seasons] = merged[seasons].astype(int)\n",
    "monthly_event_count_df.columns[3:]"
   ]
  },
  {
   "cell_type": "code",
   "execution_count": 247,
   "metadata": {},
   "outputs": [
    {
     "name": "stdout",
     "output_type": "stream",
     "text": [
      "['winter', 'fall', 'spring', 'summer', 'colab_media', 'colab_hospital', 'colab_community', 'colab_corporation', 'colab_government', 'colab_celebrity', 'colab_university', 'type_public event', 'type_competition', 'type_broadcast campaigns', 'type_policy reform', 'type_infrastructure improvement', 'type_conference', 'type_corporation event', 'type_community event', 'type_partnership', 'type_internal event', 'type_government event', 'national_colab_media', 'national_colab_hospital', 'national_colab_community', 'national_colab_corporation', 'national_colab_government', 'national_colab_celebrity', 'national_colab_university', 'national_type_public event', 'national_type_competition', 'national_type_broadcast campaigns', 'national_type_policy reform', 'national_type_infrastructure improvement', 'national_type_conference', 'national_type_corporation event', 'national_type_community event', 'national_type_partnership', 'national_type_internal event', 'national_type_government event']\n"
     ]
    }
   ],
   "source": [
    "noteworthy_columns = monthly_event_count_df.columns[2:]\n",
    "\n",
    "# exclude the ones that have national in the column name\n",
    "noteworthy_columns = [col for col in noteworthy_columns if \"national\" not in col]\n",
    "\n",
    "national_columns = [col for col in monthly_event_count_df.columns if \"national\" in col]\n",
    "national_type_columns = [col for col in national_columns if \"type\" in col]\n",
    "national_colaborations_columns = [col for col in national_columns if \"colab\" in col]\n",
    "national_target_columns = [col for col in national_columns if \"target\" in col]\n",
    "\n",
    "type_columns = [col for col in noteworthy_columns if \"type\" in col]\n",
    "colaborations_columns = [col for col in noteworthy_columns if \"colab\" in col]\n",
    "target_columns = [col for col in noteworthy_columns if \"target\" in col]\n",
    "\n",
    "noteworthy_columns = seasons.tolist() + colaborations_columns + type_columns + national_colaborations_columns + national_type_columns\n",
    "\n",
    "\n",
    "print(noteworthy_columns)"
   ]
  },
  {
   "cell_type": "code",
   "execution_count": 248,
   "metadata": {},
   "outputs": [
    {
     "data": {
      "text/plain": [
       "array(['Busan', 'Chungbuk', 'Daegu/Gyeongbuk', 'Daejeon/Chungnam',\n",
       "       'Gangwon', 'Gyeonggi', 'Gyeongnam', 'Incheon', 'Jeju', 'Jeonbuk',\n",
       "       'Jeonnam', 'Ulsan', 'Seoul'], dtype=object)"
      ]
     },
     "execution_count": 248,
     "metadata": {},
     "output_type": "execute_result"
    }
   ],
   "source": [
    "cities"
   ]
  },
  {
   "cell_type": "code",
   "execution_count": null,
   "metadata": {},
   "outputs": [],
   "source": []
  },
  {
   "cell_type": "code",
   "execution_count": 273,
   "metadata": {},
   "outputs": [
    {
     "name": "stdout",
     "output_type": "stream",
     "text": [
      "const                      2.953621\n",
      "winter                     0.392269\n",
      "fall                       1.021521\n",
      "spring                     0.804262\n",
      "summer                     0.735569\n",
      "national_colab_celebrity   0.675013\n",
      "dtype: float64\n",
      "R-squared: 0.2781953483515014\n",
      "Adjusted R-squared: 0.1674639529281522\n"
     ]
    }
   ],
   "source": [
    "import statsmodels.api as sm\n",
    "\n",
    "filtered = merged[merged[\"city\"] == \"Ulsan\"]\n",
    "# Step 4: Add a constant (this represents the intercept in the regression model)\n",
    "X = filtered[noteworthy_columns]\n",
    "X = sm.add_constant(X)\n",
    "\n",
    "y = filtered[\"supply_ratio\"]\n",
    "\n",
    "\n",
    "# Set pandas display option to avoid scientific notation\n",
    "pd.set_option('display.float_format', '{:.6f}'.format)\n",
    "\n",
    "# Step 5: Create and fit the OLS (Ordinary Least Squares) regression model\n",
    "model = sm.OLS(y, X).fit()\n",
    "\n",
    "# Step 6: View model summary to see coefficients, p-values, etc.\n",
    "# print(model.summary())\n",
    "\n",
    "# give me only the coefficients that have p-value less than 0.05\n",
    "# print(model.pvalues[model.pvalues < 0.05])\n",
    "print(model.params[model.pvalues < 0.05])\n",
    "\n",
    "# Extract the R-squared value directly\n",
    "r_squared = model.rsquared\n",
    "print(f\"R-squared: {r_squared}\")\n",
    "\n",
    "# If you want adjusted R-squared:\n",
    "adjusted_r_squared = model.rsquared_adj\n",
    "print(f\"Adjusted R-squared: {adjusted_r_squared}\")"
   ]
  },
  {
   "cell_type": "code",
   "execution_count": null,
   "metadata": {},
   "outputs": [],
   "source": []
  }
 ],
 "metadata": {
  "kernelspec": {
   "display_name": ".venv",
   "language": "python",
   "name": "python3"
  },
  "language_info": {
   "codemirror_mode": {
    "name": "ipython",
    "version": 3
   },
   "file_extension": ".py",
   "mimetype": "text/x-python",
   "name": "python",
   "nbconvert_exporter": "python",
   "pygments_lexer": "ipython3",
   "version": "3.10.11"
  }
 },
 "nbformat": 4,
 "nbformat_minor": 2
}
