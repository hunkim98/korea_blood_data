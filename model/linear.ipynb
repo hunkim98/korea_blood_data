{
 "cells": [
  {
   "cell_type": "code",
   "execution_count": 8,
   "metadata": {},
   "outputs": [],
   "source": [
    "import pandas as pd\n",
    "import numpy as np\n",
    "\n",
    "from sklearn.model_selection import train_test_split\n",
    "from sklearn.linear_model import LinearRegression\n",
    "from sklearn.metrics import mean_squared_error, r2_score"
   ]
  },
  {
   "cell_type": "code",
   "execution_count": 9,
   "metadata": {},
   "outputs": [],
   "source": [
    "events_df = pd.read_csv('events.csv')\n",
    "demand_df = pd.read_csv('demand.csv')\n",
    "supply_df = pd.read_csv('supply.csv')"
   ]
  },
  {
   "cell_type": "code",
   "execution_count": 10,
   "metadata": {},
   "outputs": [
    {
     "data": {
      "text/plain": [
       "Index(['city', 'year', 'month', 'content_eng', 'content_ko', 'type',\n",
       "       'target_audience', 'duration', 'size', 'frequency', 'index', 'day',\n",
       "       'collaboration', 'end_year', 'end_month', 'end_day'],\n",
       "      dtype='object')"
      ]
     },
     "execution_count": 10,
     "metadata": {},
     "output_type": "execute_result"
    }
   ],
   "source": [
    "events_df.columns"
   ]
  },
  {
   "cell_type": "code",
   "execution_count": 11,
   "metadata": {},
   "outputs": [
    {
     "data": {
      "text/plain": [
       "Index(['city', 'year', 'month', 'month_name', 'unit', 'patients',\n",
       "       'bilateral thyroidectomy patients', 'bilateral thyroidectomy unit',\n",
       "       'aortic valve replacement patients', 'aortic valve replacement unit',\n",
       "       'graft replacement of aorta patients',\n",
       "       'graft replacement of aorta unit', 'pda ligation patients',\n",
       "       'pda ligation unit', 'exploratory laparotomy patients',\n",
       "       'exploratory laparotomy unit', 'laparoscopic cholecystectomy patients',\n",
       "       'laparoscopic cholecystectomy unit',\n",
       "       'pylorus preserving pancreaticoduodenectomy patients',\n",
       "       'pylorus preserving pancreaticoduodenectomy unit',\n",
       "       'transurethral resection of prostate patients',\n",
       "       'transurethral resection of prostate unit', 'prostatectomy patients',\n",
       "       'prostatectomy unit', 'total abdominal hysterectomy patients',\n",
       "       'total abdominal hysterectomy unit',\n",
       "       'low cervical cesarean section patients',\n",
       "       'low cervical cesarean section unit', 'total hip replacement patients',\n",
       "       'total hip replacement unit', 'total knee replacement patients',\n",
       "       'total knee replacement unit', 'mastectomy patients', 'mastectomy unit',\n",
       "       'craniotomy and removal of brain tumor patients',\n",
       "       'craniotomy and removal of brain tumor unit',\n",
       "       'total gastrectomy patients', 'total gastrectomy unit',\n",
       "       'wedge resection of liver patients', 'wedge resection of liver unit',\n",
       "       'lobectomy of liver patients', 'lobectomy of liver unit',\n",
       "       'laminectomy patients', 'laminectomy unit',\n",
       "       'liver transplantation patients', 'liver transplantation unit'],\n",
       "      dtype='object')"
      ]
     },
     "execution_count": 11,
     "metadata": {},
     "output_type": "execute_result"
    }
   ],
   "source": [
    "demand_df.columns"
   ]
  },
  {
   "cell_type": "code",
   "execution_count": 12,
   "metadata": {},
   "outputs": [
    {
     "data": {
      "text/plain": [
       "Index(['city', 'year', 'month', 'composition_rate', 'total_unit', 'women_unit',\n",
       "       'men_unit'],\n",
       "      dtype='object')"
      ]
     },
     "execution_count": 12,
     "metadata": {},
     "output_type": "execute_result"
    }
   ],
   "source": [
    "supply_df.columns"
   ]
  },
  {
   "cell_type": "code",
   "execution_count": 13,
   "metadata": {},
   "outputs": [
    {
     "name": "stdout",
     "output_type": "stream",
     "text": [
      "{nan}\n",
      "{nan}\n"
     ]
    }
   ],
   "source": [
    "events_cities = events_df['city'].unique()\n",
    "demand_cities = demand_df['city'].unique()\n",
    "supply_cities = supply_df['city'].unique()\n",
    "\n",
    "print(set(events_cities) - set(demand_cities))\n",
    "print(set(events_cities) - set(supply_cities))\n"
   ]
  },
  {
   "cell_type": "code",
   "execution_count": null,
   "metadata": {},
   "outputs": [],
   "source": []
  }
 ],
 "metadata": {
  "kernelspec": {
   "display_name": ".venv",
   "language": "python",
   "name": "python3"
  },
  "language_info": {
   "codemirror_mode": {
    "name": "ipython",
    "version": 3
   },
   "file_extension": ".py",
   "mimetype": "text/x-python",
   "name": "python",
   "nbconvert_exporter": "python",
   "pygments_lexer": "ipython3",
   "version": "3.10.11"
  }
 },
 "nbformat": 4,
 "nbformat_minor": 2
}
